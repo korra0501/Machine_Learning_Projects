{
 "cells": [
  {
   "cell_type": "markdown",
   "metadata": {},
   "source": [
    "# Homework4 [Project] \n",
    "#### Data Science in Korea University, Prof. Jaewoo Kang\n",
    "#### COSE471, Spring 2018\n",
    "#### Due : 6/26 (Tues)  11:59 PM [NO LATE HAND IN(Late hand in will get 0), because of school grade policy]"
   ]
  },
  {
   "cell_type": "markdown",
   "metadata": {},
   "source": [
    "### In this assignment, you will design, implement, and evaluate the appropriate models for given data.\n",
    "- __This is project assignment. We can not reply your questions about technical(code) issues.__\n",
    "- __이번 과제는 프로젝트 과제입니다. 소스코드와 같은 기술적인 질문에는 답변 드릴 수 없습니다.__\n",
    "\n",
    "<br>\n",
    "<br>\n",
    "*Perform the steps described below for each dataset(2 Project).*\n",
    ">0. Preprocess; normalization, feature selection, etc.\n",
    ">1. Model selection; characteristics of datasets need to be comprehended.\n",
    ">2. Evaluation; This step should be done properly to prevent overfitting problem.\n",
    ">3. Enhancement; parameter tuning and feature selection, etc."
   ]
  },
  {
   "cell_type": "markdown",
   "metadata": {},
   "source": [
    "### When you make your model for this Project, you should use scikit learn. Don't use other ML package.\n",
    "### Of course you can use any packages for handling your data. (pandas, numpy, matplotlib, random etc.)\n",
    "### Download your data in *https://www.dropbox.com/sh/6s4e0z9fhenfw6z/AADkJO3Z6WN1b8IJhkVp9KgDa?dl=0*"
   ]
  },
  {
   "cell_type": "markdown",
   "metadata": {},
   "source": [
    "## Project 1\n",
    "### h1b data [h1b_train, h1b_dev, h1b_test]\n",
    "\n",
    "- Use h1b __train data__ for train your model.\n",
    "- Tune your model with __dev data__.\n",
    "- Finally check your best performed model score with __test data__.\n",
    "- __*You should clean your train dev test data first!!*__\n",
    "- Score function : Accuracy\n",
    "<br>\n",
    "<br>\n",
    "- __Your goal is to predict CASE_STATUS, using other features.__\n",
    "- You can choose the features you want to use in your project."
   ]
  },
  {
   "cell_type": "markdown",
   "metadata": {},
   "source": [
    "### Attribute Information\n",
    "\n",
    "- __CASE_STATUS__\n",
    "    - The CASE_STATUS field denotes the status of the application after LCA processing. Certified applications are filed with USCIS for H-1B approval.\n",
    "<br>\n",
    "<br>\n",
    "- EMPLOYER_NAME\n",
    "    - Name of the employer submitting labor condition application.\n",
    "<br>\n",
    "<br>\n",
    "- SOC_NAME\n",
    "    - Occupational name associated with the SOC_CODE. SOC_CODE is the occupational code associated with the job being requested for temporary labor condition, as classified by the Standard Occupational Classification (SOC) System.\n",
    "<br>\n",
    "<br>\n",
    "- JOB_TITLE\n",
    "    - Title of the job.\n",
    "<br>\n",
    "<br>\n",
    "- FULL_TIME_POSITION\n",
    "    - Y = Full Time Position; N = Part Time Position.\n",
    "<br>\n",
    "<br>\n",
    "- PREVAILING_WAGE\n",
    "    - Prevailing Wage for the job being requested for temporary labor condition. The wage is listed at annual scale in USD. The prevailing wage for a job position is defined as the average wage paid to similarly employed workers in the requested occupation in the area of intended employment. The prevailing wage is based on the employer’s minimum requirements for the position.\n",
    "<br>\n",
    "<br>\n",
    "- YEAR\n",
    "    - Year in which the H-1B visa petition was filed.\n",
    "<br>\n",
    "<br>"
   ]
  },
  {
   "cell_type": "code",
   "execution_count": 1,
   "metadata": {},
   "outputs": [],
   "source": [
    "from sklearn import preprocessing\n",
    "import pandas as pd\n",
    "import numpy as np\n",
    "import matplotlib.pyplot as plt\n",
    "import seaborn as sns"
   ]
  },
  {
   "cell_type": "markdown",
   "metadata": {},
   "source": [
    "# Preprocessing\n",
    "## Preprocessing CV/Test data before applying to Machine Learning Models"
   ]
  },
  {
   "cell_type": "markdown",
   "metadata": {},
   "source": [
    "먼저 train, dev, test 데이터를 모두 하나로 합친다음 one-hot-encoding을 적용하고, 다시 랜덤 없이 원래 데이터(3:1:1) 비율대로 나눠 머신러닝을 적용하겠습니다. 모든 데이터를 따로 one-hot-encoding을 한다면 column 개수가 달라지기 때문에, 추후 머신러닝을 적용할 때 에러가 발생하기 때문입니다. "
   ]
  },
  {
   "cell_type": "code",
   "execution_count": 2,
   "metadata": {
    "scrolled": false
   },
   "outputs": [
    {
     "name": "stdout",
     "output_type": "stream",
     "text": [
      "Size of data(Train, Dev, Test):  (1802458, 11) (600000, 11) (600000, 11)\n",
      "Size of data after merge:  (3002458, 11)\n"
     ]
    },
    {
     "data": {
      "text/html": [
       "<div>\n",
       "<style scoped>\n",
       "    .dataframe tbody tr th:only-of-type {\n",
       "        vertical-align: middle;\n",
       "    }\n",
       "\n",
       "    .dataframe tbody tr th {\n",
       "        vertical-align: top;\n",
       "    }\n",
       "\n",
       "    .dataframe thead th {\n",
       "        text-align: right;\n",
       "    }\n",
       "</style>\n",
       "<table border=\"1\" class=\"dataframe\">\n",
       "  <thead>\n",
       "    <tr style=\"text-align: right;\">\n",
       "      <th></th>\n",
       "      <th>Unnamed: 0</th>\n",
       "      <th>CASE_STATUS</th>\n",
       "      <th>EMPLOYER_NAME</th>\n",
       "      <th>SOC_NAME</th>\n",
       "      <th>JOB_TITLE</th>\n",
       "      <th>FULL_TIME_POSITION</th>\n",
       "      <th>PREVAILING_WAGE</th>\n",
       "      <th>YEAR</th>\n",
       "      <th>WORKSITE</th>\n",
       "      <th>lon</th>\n",
       "      <th>lat</th>\n",
       "    </tr>\n",
       "  </thead>\n",
       "  <tbody>\n",
       "    <tr>\n",
       "      <th>0</th>\n",
       "      <td>1349742</td>\n",
       "      <td>CERTIFIED</td>\n",
       "      <td>INTERNATIONAL SYSTEMS TECHNOLOGIES, INC.</td>\n",
       "      <td>Computer Programmers</td>\n",
       "      <td>PROGRAMMER ANALYST</td>\n",
       "      <td>Y</td>\n",
       "      <td>61589.0</td>\n",
       "      <td>2014.0</td>\n",
       "      <td>SUNNYVALE, CALIFORNIA</td>\n",
       "      <td>-122.036350</td>\n",
       "      <td>37.368830</td>\n",
       "    </tr>\n",
       "    <tr>\n",
       "      <th>1</th>\n",
       "      <td>789205</td>\n",
       "      <td>CERTIFIED</td>\n",
       "      <td>GOOGLE INC.</td>\n",
       "      <td>NETWORK AND COMPUTER SYSTEMS ADMINISTRATORS</td>\n",
       "      <td>SITE RELIABILITY ENGINEER</td>\n",
       "      <td>Y</td>\n",
       "      <td>79144.0</td>\n",
       "      <td>2015.0</td>\n",
       "      <td>SAN FRANCISCO, CALIFORNIA</td>\n",
       "      <td>-122.419415</td>\n",
       "      <td>37.774929</td>\n",
       "    </tr>\n",
       "    <tr>\n",
       "      <th>2</th>\n",
       "      <td>1617140</td>\n",
       "      <td>CERTIFIED</td>\n",
       "      <td>WIPRO LIMITED</td>\n",
       "      <td>Computer Occupations, All Other</td>\n",
       "      <td>PROJECT MANAGER</td>\n",
       "      <td>Y</td>\n",
       "      <td>73882.0</td>\n",
       "      <td>2014.0</td>\n",
       "      <td>EL SEGUNDO, CALIFORNIA</td>\n",
       "      <td>-118.416465</td>\n",
       "      <td>33.919180</td>\n",
       "    </tr>\n",
       "    <tr>\n",
       "      <th>3</th>\n",
       "      <td>2757905</td>\n",
       "      <td>CERTIFIED</td>\n",
       "      <td>CPO SERVICES, INC.</td>\n",
       "      <td>Orthotists and Prosthetists</td>\n",
       "      <td>STAFF PROSTHETIST</td>\n",
       "      <td>Y</td>\n",
       "      <td>61589.0</td>\n",
       "      <td>2011.0</td>\n",
       "      <td>PEORIA, ILLINOIS</td>\n",
       "      <td>-89.588986</td>\n",
       "      <td>40.693649</td>\n",
       "    </tr>\n",
       "    <tr>\n",
       "      <th>4</th>\n",
       "      <td>1127948</td>\n",
       "      <td>WITHDRAWN</td>\n",
       "      <td>VALUE SOFTWARE PRODUCTS INC</td>\n",
       "      <td>COMPUTER SYSTEMS ANALYSTS</td>\n",
       "      <td>SOLUTIONS ARCHITECT</td>\n",
       "      <td>Y</td>\n",
       "      <td>71614.0</td>\n",
       "      <td>2015.0</td>\n",
       "      <td>MANASSAS, VIRGINIA</td>\n",
       "      <td>-77.475267</td>\n",
       "      <td>38.750949</td>\n",
       "    </tr>\n",
       "    <tr>\n",
       "      <th>5</th>\n",
       "      <td>693102</td>\n",
       "      <td>DENIED</td>\n",
       "      <td>UNIVERSITY OF CALIFORNIA, SAN DIEGO</td>\n",
       "      <td>MEDICAL SCIENTISTS, EXCEPT EPIDEMIOLOGISTS</td>\n",
       "      <td>ASSISTANT PROJECT SCIENTIST</td>\n",
       "      <td>Y</td>\n",
       "      <td>42120.0</td>\n",
       "      <td>2015.0</td>\n",
       "      <td>LA JOLLA, CALIFORNIA</td>\n",
       "      <td>-117.271272</td>\n",
       "      <td>32.832811</td>\n",
       "    </tr>\n",
       "    <tr>\n",
       "      <th>6</th>\n",
       "      <td>2662510</td>\n",
       "      <td>CERTIFIED</td>\n",
       "      <td>GOOGLE INC.</td>\n",
       "      <td>Computer Software Engineers, Applications</td>\n",
       "      <td>SOFTWARE ENGINEER</td>\n",
       "      <td>Y</td>\n",
       "      <td>82035.0</td>\n",
       "      <td>2011.0</td>\n",
       "      <td>MOUNTAIN VIEW, CALIFORNIA</td>\n",
       "      <td>-122.083851</td>\n",
       "      <td>37.386052</td>\n",
       "    </tr>\n",
       "    <tr>\n",
       "      <th>7</th>\n",
       "      <td>636434</td>\n",
       "      <td>CERTIFIED</td>\n",
       "      <td>COMPREHAB, INC.</td>\n",
       "      <td>PHYSICAL THERAPISTS</td>\n",
       "      <td>PHYSICAL THERAPIST</td>\n",
       "      <td>N</td>\n",
       "      <td>64168.0</td>\n",
       "      <td>2016.0</td>\n",
       "      <td>GASTONIA, NORTH CAROLINA</td>\n",
       "      <td>-81.187301</td>\n",
       "      <td>35.262082</td>\n",
       "    </tr>\n",
       "    <tr>\n",
       "      <th>8</th>\n",
       "      <td>2265757</td>\n",
       "      <td>CERTIFIED</td>\n",
       "      <td>JPMORGAN CHASE AND CO.</td>\n",
       "      <td>Software Developers, Applications</td>\n",
       "      <td>APPLICATIONS DEVELOPER</td>\n",
       "      <td>Y</td>\n",
       "      <td>92726.0</td>\n",
       "      <td>2012.0</td>\n",
       "      <td>COLUMBUS, OHIO</td>\n",
       "      <td>-82.998794</td>\n",
       "      <td>39.961176</td>\n",
       "    </tr>\n",
       "    <tr>\n",
       "      <th>9</th>\n",
       "      <td>2927315</td>\n",
       "      <td>CERTIFIED</td>\n",
       "      <td>IRONBRIDGE CONSULTING, LLC</td>\n",
       "      <td>Information Security Analysts, Web Developers,...</td>\n",
       "      <td>SOFTWARE ENGINEER/ NETWORK ANALYST</td>\n",
       "      <td>Y</td>\n",
       "      <td>57866.0</td>\n",
       "      <td>2011.0</td>\n",
       "      <td>ARLINGTON, VIRGINIA</td>\n",
       "      <td>-77.106770</td>\n",
       "      <td>38.879970</td>\n",
       "    </tr>\n",
       "  </tbody>\n",
       "</table>\n",
       "</div>"
      ],
      "text/plain": [
       "   Unnamed: 0 CASE_STATUS                             EMPLOYER_NAME  \\\n",
       "0     1349742   CERTIFIED  INTERNATIONAL SYSTEMS TECHNOLOGIES, INC.   \n",
       "1      789205   CERTIFIED                               GOOGLE INC.   \n",
       "2     1617140   CERTIFIED                             WIPRO LIMITED   \n",
       "3     2757905   CERTIFIED                        CPO SERVICES, INC.   \n",
       "4     1127948   WITHDRAWN               VALUE SOFTWARE PRODUCTS INC   \n",
       "5      693102      DENIED       UNIVERSITY OF CALIFORNIA, SAN DIEGO   \n",
       "6     2662510   CERTIFIED                               GOOGLE INC.   \n",
       "7      636434   CERTIFIED                           COMPREHAB, INC.   \n",
       "8     2265757   CERTIFIED                    JPMORGAN CHASE AND CO.   \n",
       "9     2927315   CERTIFIED                IRONBRIDGE CONSULTING, LLC   \n",
       "\n",
       "                                            SOC_NAME  \\\n",
       "0                               Computer Programmers   \n",
       "1        NETWORK AND COMPUTER SYSTEMS ADMINISTRATORS   \n",
       "2                    Computer Occupations, All Other   \n",
       "3                        Orthotists and Prosthetists   \n",
       "4                          COMPUTER SYSTEMS ANALYSTS   \n",
       "5         MEDICAL SCIENTISTS, EXCEPT EPIDEMIOLOGISTS   \n",
       "6          Computer Software Engineers, Applications   \n",
       "7                                PHYSICAL THERAPISTS   \n",
       "8                  Software Developers, Applications   \n",
       "9  Information Security Analysts, Web Developers,...   \n",
       "\n",
       "                            JOB_TITLE FULL_TIME_POSITION  PREVAILING_WAGE  \\\n",
       "0                  PROGRAMMER ANALYST                  Y          61589.0   \n",
       "1           SITE RELIABILITY ENGINEER                  Y          79144.0   \n",
       "2                     PROJECT MANAGER                  Y          73882.0   \n",
       "3                   STAFF PROSTHETIST                  Y          61589.0   \n",
       "4                 SOLUTIONS ARCHITECT                  Y          71614.0   \n",
       "5         ASSISTANT PROJECT SCIENTIST                  Y          42120.0   \n",
       "6                   SOFTWARE ENGINEER                  Y          82035.0   \n",
       "7                  PHYSICAL THERAPIST                  N          64168.0   \n",
       "8              APPLICATIONS DEVELOPER                  Y          92726.0   \n",
       "9  SOFTWARE ENGINEER/ NETWORK ANALYST                  Y          57866.0   \n",
       "\n",
       "     YEAR                   WORKSITE         lon        lat  \n",
       "0  2014.0      SUNNYVALE, CALIFORNIA -122.036350  37.368830  \n",
       "1  2015.0  SAN FRANCISCO, CALIFORNIA -122.419415  37.774929  \n",
       "2  2014.0     EL SEGUNDO, CALIFORNIA -118.416465  33.919180  \n",
       "3  2011.0           PEORIA, ILLINOIS  -89.588986  40.693649  \n",
       "4  2015.0         MANASSAS, VIRGINIA  -77.475267  38.750949  \n",
       "5  2015.0       LA JOLLA, CALIFORNIA -117.271272  32.832811  \n",
       "6  2011.0  MOUNTAIN VIEW, CALIFORNIA -122.083851  37.386052  \n",
       "7  2016.0   GASTONIA, NORTH CAROLINA  -81.187301  35.262082  \n",
       "8  2012.0             COLUMBUS, OHIO  -82.998794  39.961176  \n",
       "9  2011.0        ARLINGTON, VIRGINIA  -77.106770  38.879970  "
      ]
     },
     "metadata": {},
     "output_type": "display_data"
    }
   ],
   "source": [
    "df1 = pd.read_csv('h1b_train.csv')\n",
    "df2 = pd.read_csv('h1b_dev.csv')\n",
    "df3 = pd.read_csv('h1b_test.csv')\n",
    "print('Size of data(Train, Dev, Test): ', df1.shape, df2.shape, df3.shape)\n",
    "\n",
    "df = pd.concat([df1, df2, df3], axis=0)\n",
    "print('Size of data after merge: ', df.shape)\n",
    "display(df.head(10))"
   ]
  },
  {
   "cell_type": "markdown",
   "metadata": {},
   "source": [
    "## Data Cleaning and Feature Selection\n",
    "우선 데이터를 머신러닝에 적용하기 전, 가장 먼저 missing value가 있는지 알아보겠습니다."
   ]
  },
  {
   "cell_type": "code",
   "execution_count": 3,
   "metadata": {},
   "outputs": [
    {
     "name": "stdout",
     "output_type": "stream",
     "text": [
      "NaN values in each columns: \n",
      " Unnamed: 0                 0\n",
      "CASE_STATUS               13\n",
      "EMPLOYER_NAME             59\n",
      "SOC_NAME               17734\n",
      "JOB_TITLE                 43\n",
      "FULL_TIME_POSITION        15\n",
      "PREVAILING_WAGE           85\n",
      "YEAR                      13\n",
      "WORKSITE                   0\n",
      "lon                   107242\n",
      "lat                   107242\n",
      "dtype: int64\n"
     ]
    }
   ],
   "source": [
    "# See if there is NaN values in this Dataframe\n",
    "print(\"NaN values in each columns: \\n\",df.isnull().sum())"
   ]
  },
  {
   "cell_type": "markdown",
   "metadata": {
    "collapsed": true
   },
   "source": [
    "각 특성별 missing value는 물론 훈련 데이터셋의 전체 크기인 300만개에 비하면 충분히 작습니다. 그런데 frequent value로 impute할 경우, PREVAILING_WAGE 등 특성이 왜곡될 염려가 있습니다. 그래서 missing value를 지우겠습니다. 여기서 missing value는 NaN이 아닌, 'NA'로 표기되어있다는 것이 특징입니다.\n",
    "\n",
    "**우선 missing value를 impute하기 전, 모델 예측에 불필요한 특성이 있는지 살펴보겠습니다.**\n",
    "1. 첫번째 column인 'Unnamed: 0'는 해당 인물의 ID를 나타낸 숫자입니다. 이는 예측과 아무런 관련이 없으므로, 삭제하겠습니다.\n",
    "2. JOB_TITLE은 SOC_NAME과 중복되는 정보이므로 삭제합니다. 실제 위 DataFrame을 보면, JOB_TITLE에는 같은 직종이 다르게 표기되어 있는 경우가 많지만 SOC_NAME은 이를 정확한 직종으로 표기하고 있습니다.\n",
    "3. YEAR도 삭제합니다. 이 프로젝트의 목적은 미래 비자 신청자의 H-1B 비자 발급을 예측하는 것으로, 과거 연도(2011~2016년)와는 상관이 없기 때문입니다.\n",
    "4. lon과 lat 또한 삭제했습니다. WORKSITE(사업장)의 경도와 위도를 나타낸 것인데, WORKSITE와 중복될 뿐만 아니라, 위도와 경도보다는 지역이 분류 모델에 있어서 더 의미있는 특성이라고 판단했기 때문입니다.\n"
   ]
  },
  {
   "cell_type": "code",
   "execution_count": 4,
   "metadata": {},
   "outputs": [
    {
     "name": "stdout",
     "output_type": "stream",
     "text": [
      "Sum of missing values:\n",
      " CASE_STATUS           0\n",
      "EMPLOYER_NAME         0\n",
      "SOC_NAME              0\n",
      "FULL_TIME_POSITION    0\n",
      "PREVAILING_WAGE       0\n",
      "WORKSITE              0\n",
      "dtype: int64\n",
      "\n",
      "size of adult dataset after imputation:  (2984618, 6)\n"
     ]
    },
    {
     "data": {
      "text/html": [
       "<div>\n",
       "<style scoped>\n",
       "    .dataframe tbody tr th:only-of-type {\n",
       "        vertical-align: middle;\n",
       "    }\n",
       "\n",
       "    .dataframe tbody tr th {\n",
       "        vertical-align: top;\n",
       "    }\n",
       "\n",
       "    .dataframe thead th {\n",
       "        text-align: right;\n",
       "    }\n",
       "</style>\n",
       "<table border=\"1\" class=\"dataframe\">\n",
       "  <thead>\n",
       "    <tr style=\"text-align: right;\">\n",
       "      <th></th>\n",
       "      <th>CASE_STATUS</th>\n",
       "      <th>EMPLOYER_NAME</th>\n",
       "      <th>SOC_NAME</th>\n",
       "      <th>FULL_TIME_POSITION</th>\n",
       "      <th>PREVAILING_WAGE</th>\n",
       "      <th>WORKSITE</th>\n",
       "    </tr>\n",
       "  </thead>\n",
       "  <tbody>\n",
       "    <tr>\n",
       "      <th>0</th>\n",
       "      <td>CERTIFIED</td>\n",
       "      <td>INTERNATIONAL SYSTEMS TECHNOLOGIES, INC.</td>\n",
       "      <td>Computer Programmers</td>\n",
       "      <td>Y</td>\n",
       "      <td>61589.0</td>\n",
       "      <td>SUNNYVALE, CALIFORNIA</td>\n",
       "    </tr>\n",
       "    <tr>\n",
       "      <th>1</th>\n",
       "      <td>CERTIFIED</td>\n",
       "      <td>GOOGLE INC.</td>\n",
       "      <td>NETWORK AND COMPUTER SYSTEMS ADMINISTRATORS</td>\n",
       "      <td>Y</td>\n",
       "      <td>79144.0</td>\n",
       "      <td>SAN FRANCISCO, CALIFORNIA</td>\n",
       "    </tr>\n",
       "    <tr>\n",
       "      <th>2</th>\n",
       "      <td>CERTIFIED</td>\n",
       "      <td>WIPRO LIMITED</td>\n",
       "      <td>Computer Occupations, All Other</td>\n",
       "      <td>Y</td>\n",
       "      <td>73882.0</td>\n",
       "      <td>EL SEGUNDO, CALIFORNIA</td>\n",
       "    </tr>\n",
       "    <tr>\n",
       "      <th>3</th>\n",
       "      <td>CERTIFIED</td>\n",
       "      <td>CPO SERVICES, INC.</td>\n",
       "      <td>Orthotists and Prosthetists</td>\n",
       "      <td>Y</td>\n",
       "      <td>61589.0</td>\n",
       "      <td>PEORIA, ILLINOIS</td>\n",
       "    </tr>\n",
       "    <tr>\n",
       "      <th>4</th>\n",
       "      <td>WITHDRAWN</td>\n",
       "      <td>VALUE SOFTWARE PRODUCTS INC</td>\n",
       "      <td>COMPUTER SYSTEMS ANALYSTS</td>\n",
       "      <td>Y</td>\n",
       "      <td>71614.0</td>\n",
       "      <td>MANASSAS, VIRGINIA</td>\n",
       "    </tr>\n",
       "  </tbody>\n",
       "</table>\n",
       "</div>"
      ],
      "text/plain": [
       "  CASE_STATUS                             EMPLOYER_NAME  \\\n",
       "0   CERTIFIED  INTERNATIONAL SYSTEMS TECHNOLOGIES, INC.   \n",
       "1   CERTIFIED                               GOOGLE INC.   \n",
       "2   CERTIFIED                             WIPRO LIMITED   \n",
       "3   CERTIFIED                        CPO SERVICES, INC.   \n",
       "4   WITHDRAWN               VALUE SOFTWARE PRODUCTS INC   \n",
       "\n",
       "                                      SOC_NAME FULL_TIME_POSITION  \\\n",
       "0                         Computer Programmers                  Y   \n",
       "1  NETWORK AND COMPUTER SYSTEMS ADMINISTRATORS                  Y   \n",
       "2              Computer Occupations, All Other                  Y   \n",
       "3                  Orthotists and Prosthetists                  Y   \n",
       "4                    COMPUTER SYSTEMS ANALYSTS                  Y   \n",
       "\n",
       "   PREVAILING_WAGE                   WORKSITE  \n",
       "0          61589.0      SUNNYVALE, CALIFORNIA  \n",
       "1          79144.0  SAN FRANCISCO, CALIFORNIA  \n",
       "2          73882.0     EL SEGUNDO, CALIFORNIA  \n",
       "3          61589.0           PEORIA, ILLINOIS  \n",
       "4          71614.0         MANASSAS, VIRGINIA  "
      ]
     },
     "metadata": {},
     "output_type": "display_data"
    }
   ],
   "source": [
    "# Drop 'Unnamed:0', 'JOB_TITLE', 'YEAR', 'lon', 'lat', missing values from columns and change target names\n",
    "visa = df.drop(df.columns[[0, 4, 7, 9, 10]], axis=1).dropna()\n",
    "\n",
    "print('Sum of missing values:\\n', visa.isnull().sum())\n",
    "print('\\nsize of adult dataset after imputation: ', visa.shape)\n",
    "display(visa.head())"
   ]
  },
  {
   "cell_type": "code",
   "execution_count": 5,
   "metadata": {},
   "outputs": [
    {
     "name": "stdout",
     "output_type": "stream",
     "text": [
      "['CERTIFIED' 'WITHDRAWN' 'DENIED' 'CERTIFIED-WITHDRAWN'\n",
      " 'PENDING QUALITY AND COMPLIANCE REVIEW - UNASSIGNED' 'REJECTED'\n",
      " 'INVALIDATED']\n",
      "\n",
      "Before cleaning target label: \n",
      " DENIED                                                  93764\n",
      "REJECTED                                                    2\n",
      "INVALIDATED                                                 1\n",
      "CERTIFIED                                             2600243\n",
      "WITHDRAWN                                               89114\n",
      "CERTIFIED-WITHDRAWN                                    201479\n",
      "PENDING QUALITY AND COMPLIANCE REVIEW - UNASSIGNED         15\n",
      "dtype: int64\n"
     ]
    }
   ],
   "source": [
    "print(visa['CASE_STATUS'].unique())\n",
    "print('\\nBefore cleaning target label: \\n', pd.value_counts(visa['CASE_STATUS'].values, sort=False))"
   ]
  },
  {
   "cell_type": "markdown",
   "metadata": {},
   "source": [
    "다음으로 주목해야 해야 할 특징은 우리가 예측하고자 하는 'CASE_STATUS'입니다. 총 7개의 'CERTIFIED', 'CERTIFIED-WITHDRAWN', 'WITHDRAWN', 'DENIED', INVALIDATED, 'PENDING QUALITY AND COMPLIANCE REVIEW - UNASSIGNED', 'REJECTED' label을 포함하고 있는데, Withdrawn이라는 의미를 파악할 필요가 있습니다. 미국 H-1B 발급 절차 상 Certified-Withdrawn은 비자 승인이 났지만 고용주가 나중에 취소한 경우고, Withdrawn은 비자 승인 전 고용주가 취소한 경우를 뜻합니다. 그런데 상식적으로 비자 발급을 예측할 때 고용주가 취소하는 경우는 고려하지 않습니다. **따라서 Certified-Withdrawn을 Certified로 취급하고, Withdrawn은 삭제하겠습니다. 그리고 Certified는 1로, Denied는 0으로 취급하겠습니다.** \n",
    "\n",
    "또한 REJECTED와 INVALIDATED는 DENIED로 바꾸고, PENDING QUALITY AND COMPLIANCE REVEW-UNASSIGNED는 삭제하겠습니다.\n",
    "\n",
    "이 외에도 SOC_NAME의 값을 보면 대문자와 소문자가 혼재되어 쓰여있는 것을 알 수 있습니다. 따라서 모든 해당 열의 모든 값을 대문자로 바꾸겠습니다."
   ]
  },
  {
   "cell_type": "code",
   "execution_count": 6,
   "metadata": {},
   "outputs": [
    {
     "name": "stdout",
     "output_type": "stream",
     "text": [
      "Target labels after cleaning: \n",
      " 0      93767\n",
      "1    2801722\n",
      "dtype: int64\n"
     ]
    }
   ],
   "source": [
    "# Clean Target Labels\n",
    "visa.CASE_STATUS = visa.CASE_STATUS.map({'CERTIFIED-WITHDRAWN':1, 'CERTIFIED':1, 'REJECTED':0, 'DENIED':0,\n",
    "                                                      'WITHDRAWN':2, 'PENDING QUALITY AND COMPLIANCE REVIEW - UNASSIGNED':2,\n",
    "                                                      'INVALIDATED':0})\n",
    "visa_cleaned = visa[visa.CASE_STATUS != 2]\n",
    "print('Target labels after cleaning: \\n', pd.value_counts(visa_cleaned['CASE_STATUS'].values, sort=False))"
   ]
  },
  {
   "cell_type": "code",
   "execution_count": 7,
   "metadata": {},
   "outputs": [
    {
     "name": "stdout",
     "output_type": "stream",
     "text": [
      "Size of data after label cleaning:  (2895489, 6)\n"
     ]
    },
    {
     "data": {
      "text/html": [
       "<div>\n",
       "<style scoped>\n",
       "    .dataframe tbody tr th:only-of-type {\n",
       "        vertical-align: middle;\n",
       "    }\n",
       "\n",
       "    .dataframe tbody tr th {\n",
       "        vertical-align: top;\n",
       "    }\n",
       "\n",
       "    .dataframe thead th {\n",
       "        text-align: right;\n",
       "    }\n",
       "</style>\n",
       "<table border=\"1\" class=\"dataframe\">\n",
       "  <thead>\n",
       "    <tr style=\"text-align: right;\">\n",
       "      <th></th>\n",
       "      <th>CASE_STATUS</th>\n",
       "      <th>EMPLOYER_NAME</th>\n",
       "      <th>SOC_NAME</th>\n",
       "      <th>FULL_TIME_POSITION</th>\n",
       "      <th>PREVAILING_WAGE</th>\n",
       "      <th>WORKSITE</th>\n",
       "    </tr>\n",
       "  </thead>\n",
       "  <tbody>\n",
       "    <tr>\n",
       "      <th>0</th>\n",
       "      <td>1</td>\n",
       "      <td>INTERNATIONAL SYSTEMS TECHNOLOGIES, INC.</td>\n",
       "      <td>COMPUTER PROGRAMMERS</td>\n",
       "      <td>Y</td>\n",
       "      <td>61589.0</td>\n",
       "      <td>SUNNYVALE, CALIFORNIA</td>\n",
       "    </tr>\n",
       "    <tr>\n",
       "      <th>1</th>\n",
       "      <td>1</td>\n",
       "      <td>GOOGLE INC.</td>\n",
       "      <td>NETWORK AND COMPUTER SYSTEMS ADMINISTRATORS</td>\n",
       "      <td>Y</td>\n",
       "      <td>79144.0</td>\n",
       "      <td>SAN FRANCISCO, CALIFORNIA</td>\n",
       "    </tr>\n",
       "    <tr>\n",
       "      <th>2</th>\n",
       "      <td>1</td>\n",
       "      <td>WIPRO LIMITED</td>\n",
       "      <td>COMPUTER OCCUPATIONS, ALL OTHER</td>\n",
       "      <td>Y</td>\n",
       "      <td>73882.0</td>\n",
       "      <td>EL SEGUNDO, CALIFORNIA</td>\n",
       "    </tr>\n",
       "    <tr>\n",
       "      <th>3</th>\n",
       "      <td>1</td>\n",
       "      <td>CPO SERVICES, INC.</td>\n",
       "      <td>ORTHOTISTS AND PROSTHETISTS</td>\n",
       "      <td>Y</td>\n",
       "      <td>61589.0</td>\n",
       "      <td>PEORIA, ILLINOIS</td>\n",
       "    </tr>\n",
       "    <tr>\n",
       "      <th>5</th>\n",
       "      <td>0</td>\n",
       "      <td>UNIVERSITY OF CALIFORNIA, SAN DIEGO</td>\n",
       "      <td>MEDICAL SCIENTISTS, EXCEPT EPIDEMIOLOGISTS</td>\n",
       "      <td>Y</td>\n",
       "      <td>42120.0</td>\n",
       "      <td>LA JOLLA, CALIFORNIA</td>\n",
       "    </tr>\n",
       "  </tbody>\n",
       "</table>\n",
       "</div>"
      ],
      "text/plain": [
       "   CASE_STATUS                             EMPLOYER_NAME  \\\n",
       "0            1  INTERNATIONAL SYSTEMS TECHNOLOGIES, INC.   \n",
       "1            1                               GOOGLE INC.   \n",
       "2            1                             WIPRO LIMITED   \n",
       "3            1                        CPO SERVICES, INC.   \n",
       "5            0       UNIVERSITY OF CALIFORNIA, SAN DIEGO   \n",
       "\n",
       "                                      SOC_NAME FULL_TIME_POSITION  \\\n",
       "0                         COMPUTER PROGRAMMERS                  Y   \n",
       "1  NETWORK AND COMPUTER SYSTEMS ADMINISTRATORS                  Y   \n",
       "2              COMPUTER OCCUPATIONS, ALL OTHER                  Y   \n",
       "3                  ORTHOTISTS AND PROSTHETISTS                  Y   \n",
       "5   MEDICAL SCIENTISTS, EXCEPT EPIDEMIOLOGISTS                  Y   \n",
       "\n",
       "   PREVAILING_WAGE                   WORKSITE  \n",
       "0          61589.0      SUNNYVALE, CALIFORNIA  \n",
       "1          79144.0  SAN FRANCISCO, CALIFORNIA  \n",
       "2          73882.0     EL SEGUNDO, CALIFORNIA  \n",
       "3          61589.0           PEORIA, ILLINOIS  \n",
       "5          42120.0       LA JOLLA, CALIFORNIA  "
      ]
     },
     "metadata": {},
     "output_type": "display_data"
    }
   ],
   "source": [
    "# Apply uppercase to column 'SOC_NAME'\n",
    "pd.options.mode.chained_assignment = None  # default='warn'\n",
    "\n",
    "visa_cleaned['SOC_NAME'] = visa_cleaned['SOC_NAME'].str.upper()\n",
    "print('Size of data after label cleaning: ', visa_cleaned.shape)\n",
    "display(visa_cleaned.head())"
   ]
  },
  {
   "cell_type": "markdown",
   "metadata": {},
   "source": [
    "다음으로는 비자 발급에 있어서 어떤 직업, 어떤 기업, 어떤 근무지가 제일 많은지 각각 상위 20개씩을 정렬하여 나타내었습니다."
   ]
  },
  {
   "cell_type": "code",
   "execution_count": 8,
   "metadata": {},
   "outputs": [
    {
     "data": {
      "image/png": "[encoded data removed]",
      "text/plain": [
       "<matplotlib.figure.Figure at 0x1b961d1e748>"
      ]
     },
     "metadata": {},
     "output_type": "display_data"
    }
   ],
   "source": [
    "#looking at top 20 SOC_NAME, EMPLOYER_NAME, WORKSITE, CERTIFIED-DENED\n",
    "# Plot the corresponding bar plots in a subplot\n",
    "plt.figure(figsize=(20, 10))\n",
    "\n",
    "# Top job names\n",
    "plt.subplot(2, 2, 1)\n",
    "visa_cleaned['SOC_NAME'].value_counts().nlargest(20).plot(kind=\"barh\",color='skyblue')\n",
    "plt.title('Top 20 Jobs')\n",
    "\n",
    "# Top employers\n",
    "plt.subplot(2, 2, 2)\n",
    "visa_cleaned['EMPLOYER_NAME'].value_counts().nlargest(20).plot(kind=\"barh\", color='skyblue')\n",
    "plt.title('Top 20 Companies')\n",
    "\n",
    "# Top worksites\n",
    "plt.subplot(2, 2, 3)\n",
    "visa_cleaned['WORKSITE'].value_counts().nlargest(20).plot(kind=\"barh\",color='skyblue')\n",
    "plt.title('Top 20 Worksites')\n",
    "\n",
    "# number of Certified&Denied\n",
    "plt.subplot(2, 2, 4)\n",
    "visa_cleaned['CASE_STATUS'].value_counts().plot(kind=\"barh\",color='skyblue')\n",
    "plt.title('Certified(1) and Denied(0)')\n",
    "\n",
    "plt.tight_layout()\n",
    "plt.show()"
   ]
  },
  {
   "cell_type": "code",
   "execution_count": 9,
   "metadata": {},
   "outputs": [
    {
     "name": "stdout",
     "output_type": "stream",
     "text": [
      "Certified accounts for 96.76% of the CASE_STATUS class\n",
      "Denied accounts for 3.24% of the CASE_STATUS class\n"
     ]
    }
   ],
   "source": [
    "counts = visa_cleaned['CASE_STATUS'].value_counts().tolist()\n",
    "print('Certified accounts for {:.2f}% of the CASE_STATUS class'.format(counts[0] / len(visa_cleaned['CASE_STATUS']) * 100))\n",
    "print('Denied accounts for {:.2f}% of the CASE_STATUS class'.format(counts[1] / len(visa_cleaned['CASE_STATUS']) * 100))"
   ]
  },
  {
   "cell_type": "markdown",
   "metadata": {},
   "source": [
    "## Encoding Categorical Values\n",
    "adult 데이터의 범주형 데이터를 기계학습에서 처리하기 위해서는, 범주형 데이터를 숫자로 바꾸는 작업이 필요합니다. 여기에서는 Scikit-learn의 LabelEncoder와 OneHotEncoder 클래스를 이용한 One-Hot-Encoding을 사용하겠습니다."
   ]
  },
  {
   "cell_type": "code",
   "execution_count": 10,
   "metadata": {},
   "outputs": [
    {
     "data": {
      "text/html": [
       "<div>\n",
       "<style scoped>\n",
       "    .dataframe tbody tr th:only-of-type {\n",
       "        vertical-align: middle;\n",
       "    }\n",
       "\n",
       "    .dataframe tbody tr th {\n",
       "        vertical-align: top;\n",
       "    }\n",
       "\n",
       "    .dataframe thead th {\n",
       "        text-align: right;\n",
       "    }\n",
       "</style>\n",
       "<table border=\"1\" class=\"dataframe\">\n",
       "  <thead>\n",
       "    <tr style=\"text-align: right;\">\n",
       "      <th></th>\n",
       "      <th>CASE_STATUS</th>\n",
       "      <th>EMPLOYER_NAME</th>\n",
       "      <th>SOC_NAME</th>\n",
       "      <th>FULL_TIME_POSITION</th>\n",
       "      <th>PREVAILING_WAGE</th>\n",
       "      <th>WORKSITE</th>\n",
       "    </tr>\n",
       "  </thead>\n",
       "  <tbody>\n",
       "    <tr>\n",
       "      <th>0</th>\n",
       "      <td>1</td>\n",
       "      <td>104052</td>\n",
       "      <td>295</td>\n",
       "      <td>1</td>\n",
       "      <td>17929</td>\n",
       "      <td>15919</td>\n",
       "    </tr>\n",
       "    <tr>\n",
       "      <th>1</th>\n",
       "      <td>1</td>\n",
       "      <td>85330</td>\n",
       "      <td>1050</td>\n",
       "      <td>1</td>\n",
       "      <td>27380</td>\n",
       "      <td>14136</td>\n",
       "    </tr>\n",
       "    <tr>\n",
       "      <th>2</th>\n",
       "      <td>1</td>\n",
       "      <td>228570</td>\n",
       "      <td>278</td>\n",
       "      <td>1</td>\n",
       "      <td>24573</td>\n",
       "      <td>5113</td>\n",
       "    </tr>\n",
       "    <tr>\n",
       "      <th>3</th>\n",
       "      <td>1</td>\n",
       "      <td>50796</td>\n",
       "      <td>1106</td>\n",
       "      <td>1</td>\n",
       "      <td>17929</td>\n",
       "      <td>12459</td>\n",
       "    </tr>\n",
       "    <tr>\n",
       "      <th>5</th>\n",
       "      <td>0</td>\n",
       "      <td>217367</td>\n",
       "      <td>993</td>\n",
       "      <td>1</td>\n",
       "      <td>7285</td>\n",
       "      <td>8424</td>\n",
       "    </tr>\n",
       "  </tbody>\n",
       "</table>\n",
       "</div>"
      ],
      "text/plain": [
       "   CASE_STATUS  EMPLOYER_NAME  SOC_NAME  FULL_TIME_POSITION  PREVAILING_WAGE  \\\n",
       "0            1         104052       295                   1            17929   \n",
       "1            1          85330      1050                   1            27380   \n",
       "2            1         228570       278                   1            24573   \n",
       "3            1          50796      1106                   1            17929   \n",
       "5            0         217367       993                   1             7285   \n",
       "\n",
       "   WORKSITE  \n",
       "0     15919  \n",
       "1     14136  \n",
       "2      5113  \n",
       "3     12459  \n",
       "5      8424  "
      ]
     },
     "metadata": {},
     "output_type": "display_data"
    }
   ],
   "source": [
    "label_encoder = preprocessing.LabelEncoder()\n",
    "visa_le = visa_cleaned.apply(label_encoder.fit_transform)\n",
    "display(visa_le.head())"
   ]
  },
  {
   "cell_type": "markdown",
   "metadata": {},
   "source": [
    "### Visualize Correlations between features"
   ]
  },
  {
   "cell_type": "markdown",
   "metadata": {},
   "source": [
    "특성들 간의 상관지수를 Seaborn 라이브러리를 이용해 표현해 보았습니다. FULL_TIME_POSITION과 PREVALING_WAGE, 그리고 SOC_NAME 특성이 다른 변수들보다 강한 양의 상관관계를 지니고 있음을 확인할 수 있었습니다."
   ]
  },
  {
   "cell_type": "code",
   "execution_count": 11,
   "metadata": {},
   "outputs": [
    {
     "data": {
      "text/plain": [
       "<matplotlib.axes._subplots.AxesSubplot at 0x1b93ed0df28>"
      ]
     },
     "execution_count": 11,
     "metadata": {},
     "output_type": "execute_result"
    },
    {
     "data": {
      "image/png": "[encoded data removed]",
      "text/plain": [
       "<matplotlib.figure.Figure at 0x1b911bfb8d0>"
      ]
     },
     "metadata": {},
     "output_type": "display_data"
    }
   ],
   "source": [
    "corr = visa_le.corr(method = 'pearson')\n",
    "f, ax = plt.subplots(figsize=(6, 6))\n",
    "\n",
    "sns.heatmap(corr,square=True, cmap=\"YlGnBu\", xticklabels=True, yticklabels=True, linewidths=.6, cbar_kws={\"shrink\": .6}, ax=ax)"
   ]
  },
  {
   "cell_type": "markdown",
   "metadata": {},
   "source": [
    "## One-Hot Encoding\n",
    "**LabelEncoder의 결과값을 그대로 분류기에 넣는다면 문제가 발생합니다.** 예를 들어 'SOC_NAME'의 class는 'COMPUTER SYSTEMS ANALYSTS\n",
    "', 'DENTISTS, GENERAL'와 같은, 우열을 가릴 수 없는 동등한 범주입니다. 그러나 이를 숫자로 바꾸면 분류기는 한 class가 다른 class보다 크다고 인식하므로 분류 상의 정확도가 떨어지게 됩니다. 그래서 One-Hot Encoding 과정이 필요합니다. One-Hot-Encoding은 범주형 변수를 '가변수(dummy variable)'라는 0과 1의 값을 가진 새로운 특성을 만들어내어 이러한 오류를 방지합니다."
   ]
  },
  {
   "cell_type": "code",
   "execution_count": 12,
   "metadata": {
    "scrolled": true
   },
   "outputs": [
    {
     "data": {
      "text/plain": [
       "<2895489x308905 sparse matrix of type '<class 'numpy.float64'>'\n",
       "\twith 14066012 stored elements in COOrdinate format>"
      ]
     },
     "execution_count": 12,
     "metadata": {},
     "output_type": "execute_result"
    }
   ],
   "source": [
    "# OneHotEncoder(Scikit-learn)\n",
    "y = visa_le.iloc[:, visa_le.columns == 'CASE_STATUS']\n",
    "le_feature = visa_le.iloc[:, visa_le.columns != 'CASE_STATUS']\n",
    "# select categorical features\n",
    "categories = ['EMPLOYER_NAME', 'SOC_NAME', 'PREVAILING_WAGE', 'WORKSITE']\n",
    "visa_data = le_feature.values\n",
    "\n",
    "# find index of categorical features\n",
    "categories_idx = []\n",
    "for str in categories:\n",
    "    categories_idx.append(le_feature.columns.tolist().index(str))\n",
    "\n",
    "OH_encoder = preprocessing.OneHotEncoder(categorical_features = categories_idx, sparse=True, dtype=np.int8)\n",
    "X = OH_encoder.fit_transform(visa_data)\n",
    "X"
   ]
  },
  {
   "cell_type": "markdown",
   "metadata": {},
   "source": [
    "# Model Selection & Evaluation"
   ]
  },
  {
   "cell_type": "code",
   "execution_count": 63,
   "metadata": {},
   "outputs": [],
   "source": [
    "from sklearn.linear_model import LogisticRegression    #Logistic Regression\n",
    "from sklearn.linear_model import Lasso                 #LASSO Regression\n",
    "from sklearn.ensemble import GradientBoostingClassifier#Gradient Boosting Classifier\n",
    "from sklearn.svm import SVC                            #SVM\n",
    "\n",
    "from sklearn.model_selection import train_test_split\n",
    "from sklearn.model_selection import GridSearchCV\n",
    "from sklearn.metrics import classification_report\n",
    "from sklearn.pipeline import make_pipeline\n",
    "import sklearn.metrics as metrics"
   ]
  },
  {
   "cell_type": "code",
   "execution_count": 46,
   "metadata": {},
   "outputs": [
    {
     "name": "stdout",
     "output_type": "stream",
     "text": [
      "(1737293, 308905) (579098, 308905) (579098, 308905)\n"
     ]
    }
   ],
   "source": [
    "X_trainval, X_test, y_trainval, y_test = train_test_split(X, y, test_size=0.2, shuffle=False, random_state=42)\n",
    "X_train, X_dev, y_train, y_dev = train_test_split(X_trainval, y_trainval, test_size=0.25, shuffle=False, random_state=42)\n",
    "print(X_train.shape, X_dev.shape, X_test.shape)"
   ]
  },
  {
   "cell_type": "markdown",
   "metadata": {},
   "source": [
    "## Let's Handle Huge Class Imbalance\n",
    "지금까지 Train, Dev, Test 데이터를 one-hot-encoding하고 원래 순서와 배열대로 나누는 작업을 진행했습니다. **그러나 Train데이터를 학습하기 앞서 해야 할 것이 있습니다. 바로 balanced class를 만드는 것입니다.**\n",
    "\n",
    "현재 96%의 비자 발급 데이터가 승인, 즉 1인 상태입니다. 이는 무조건 승인받는다고 예측해도 96.76%의 정확도를 보인다는 것이므로, 불균형을 해결해주어야만 합니다. 이를 위해 먼저 Traning Data에 down/up sampling을 실시하겠습니다. **replacement 없이** Majority Class의 Down-sample을 진행하고, **replacement 있이** Minority Class의 Up-sample을 진행하며, 최종적으로 승인과 거절의 데이터 비율을 1:1로 조절하겠습니다. 이렇게 처리된 후 Train 데이터는 약 22만개가 될 것입니다."
   ]
  },
  {
   "cell_type": "code",
   "execution_count": 47,
   "metadata": {},
   "outputs": [],
   "source": [
    "zeros = []\n",
    "ones = []\n",
    "for i in range(y_train.shape[0]):\n",
    "    if (y_train.CASE_STATUS.values[i] == 0):\n",
    "        zeros.append(i)\n",
    "    else:\n",
    "        ones.append(i)"
   ]
  },
  {
   "cell_type": "code",
   "execution_count": 48,
   "metadata": {},
   "outputs": [
    {
     "data": {
      "text/plain": [
       "(56213, 1681080)"
      ]
     },
     "execution_count": 48,
     "metadata": {},
     "output_type": "execute_result"
    }
   ],
   "source": [
    "len(zeros), len(ones)"
   ]
  },
  {
   "cell_type": "code",
   "execution_count": 49,
   "metadata": {},
   "outputs": [
    {
     "name": "stdout",
     "output_type": "stream",
     "text": [
      "(1681080, 308905) (56213, 308905) (1681080, 1) (56213, 1)\n",
      "(224852, 308905) (224852, 1)\n"
     ]
    }
   ],
   "source": [
    "from scipy.sparse import vstack\n",
    "from sklearn.utils import resample\n",
    "# Seperate majority and minority classes\n",
    "visa_min = X_train[zeros]\n",
    "visa_maj = X_train[ones]\n",
    "y_min = y_train[y_train['CASE_STATUS']==0]\n",
    "y_maj = y_train[y_train['CASE_STATUS']==1]\n",
    "\n",
    "print(visa_maj.shape, visa_min.shape, y_maj.shape, y_min.shape) \n",
    "# Downsample majority class\n",
    "visa_maj_downsampled = resample(visa_maj, replace=False, n_samples=visa_min.shape[0] * 2, random_state=42)\n",
    "visa_downsampled = vstack([visa_maj_downsampled, visa_min])\n",
    "\n",
    "y_maj_downsampled = resample(y_maj, replace=False, n_samples=y_min.shape[0] * 2, random_state=42)\n",
    "y_downsampled = pd.concat([y_maj_downsampled, y_min])\n",
    "\n",
    "# Up-sample minority class\n",
    "visa_min_upsampled = resample(visa_min, replace=True, n_samples=visa_min.shape[0], random_state=42)\n",
    "visa_sampled = vstack([visa_downsampled, visa_min_upsampled])\n",
    "\n",
    "y_min_upsampled = resample(y_min, replace=False, n_samples=y_min.shape[0], random_state=42)\n",
    "y_sampled = pd.concat([y_downsampled, y_min_upsampled])\n",
    "\n",
    "# Display value counts of downsampled data\n",
    "print(visa_sampled.shape, y_sampled.shape)\n",
    "\n",
    "X_train = visa_sampled\n",
    "y_train = y_sampled"
   ]
  },
  {
   "cell_type": "markdown",
   "metadata": {},
   "source": [
    "그런데 이대로 학습하면 train데이터보다 dev와 test 데이터가 각각 약 3배정도 많은 현상이 발생하게 됩니다. Train 데이터가 22만개이므로, 60:20:20 비율을 맞추기 위해 Dev와 Test데이터를 train의 1/3인 7만개 정도로 맞춰 줍니다."
   ]
  },
  {
   "cell_type": "code",
   "execution_count": 50,
   "metadata": {},
   "outputs": [
    {
     "name": "stdout",
     "output_type": "stream",
     "text": [
      "(74950, 308905) (74950, 308905)\n"
     ]
    }
   ],
   "source": [
    "X_dev = resample(X_dev, replace=False, n_samples=int(X_train.shape[0]/3), random_state=42) \n",
    "y_dev = resample(y_dev, replace=False, n_samples=int(X_train.shape[0]/3), random_state=42) \n",
    "\n",
    "X_test = resample(X_test, replace=False, n_samples=int(X_train.shape[0]/3), random_state=42) \n",
    "y_test = resample(y_test, replace=False, n_samples=int(X_train.shape[0]/3), random_state=42)\n",
    "\n",
    "print(X_dev.shape, X_test.shape)"
   ]
  },
  {
   "cell_type": "code",
   "execution_count": 51,
   "metadata": {},
   "outputs": [],
   "source": [
    "# Clean y values to avoid future warning messages\n",
    "# for 'ravel()', refer to 'https://docs.scipy.org/doc/numpy/reference/generated/numpy.ravel.html'.\n",
    "y_train = y_train.values.ravel()\n",
    "y_dev = y_test.values.ravel()\n",
    "y_test = y_test.values.ravel()\n",
    "y_trainval = y_trainval.values.ravel()"
   ]
  },
  {
   "cell_type": "markdown",
   "metadata": {},
   "source": [
    "### Logistic Regression"
   ]
  },
  {
   "cell_type": "markdown",
   "metadata": {},
   "source": [
    "로지스틱 회귀는 거대한 희소행렬에 괜찮은 성능을 보여주는 분류기입니다. 우선 희소행렬에 적합한 solver인 'sag' 조건만 두고 학습시켜 보겠습니다."
   ]
  },
  {
   "cell_type": "code",
   "execution_count": 52,
   "metadata": {},
   "outputs": [
    {
     "name": "stdout",
     "output_type": "stream",
     "text": [
      "======== Logistic Regression Classifier Result ========\n",
      "Train data accuracy: 86.294%\n",
      "CV data accuracy: 74.209%\n",
      "<<Classification Result(Train Data)>>\n",
      "              precision    recall  f1-score   support\n",
      "\n",
      "          0       0.86      0.86      0.86    112426\n",
      "          1       0.86      0.87      0.86    112426\n",
      "\n",
      "avg / total       0.86      0.86      0.86    224852\n",
      "\n",
      "<<Classification Result(Dev Data)>>\n",
      "              precision    recall  f1-score   support\n",
      "\n",
      "          0       0.03      0.25      0.06      2473\n",
      "          1       0.97      0.76      0.85     72477\n",
      "\n",
      "avg / total       0.94      0.74      0.82     74950\n",
      "\n"
     ]
    }
   ],
   "source": [
    "#----------------Logistic Regression\n",
    "lr = LogisticRegression(random_state=0, solver='sag', n_jobs=-1)\n",
    "lr.fit(X_train, y_train)\n",
    "\n",
    "print('======== Logistic Regression Classifier Result ========')\n",
    "print('Train data accuracy: {:.3f}%'.format(lr.score(X_train, y_train)*100))\n",
    "print('CV data accuracy: {:.3f}%'.format(lr.score(X_dev, y_dev)*100))\n",
    "print('<<Classification Result(Train Data)>>\\n', classification_report(y_train, lr.predict(X_train)))\n",
    "print('<<Classification Result(Dev Data)>>\\n', classification_report(y_dev, lr.predict(X_dev)))"
   ]
  },
  {
   "cell_type": "markdown",
   "metadata": {},
   "source": [
    "Train데이터의 Classification 결과를 보면, 0과 1이 각각 11만개인데 두 클래스 모두 잘 예측하고 있음을 확인할 수 있습니다. 반면 따로 균형 샘플링되지 않은 dev 데이터의 경우, 0 class에 대한 여러 수치가 떨어지고, 특히 recall에서 저조한 현상을 보이고 있습니다. 그러므로 우선 더 좋은 성능을 도출하기 위해 'C'와 같은 로지스틱 회귀의 hyperparameter를 GridSearchCV를 사용해 조절하겠습니다."
   ]
  },
  {
   "cell_type": "code",
   "execution_count": 54,
   "metadata": {},
   "outputs": [
    {
     "name": "stdout",
     "output_type": "stream",
     "text": [
      "======== Logistic Regression Classifier Result ========\n",
      "Train set accuracy: 91.333%\n",
      "Best Parameter: {'C': 10, 'max_iter': 100}\n",
      "<<Classification Result(Dev Data)>>\n",
      "              precision    recall  f1-score   support\n",
      "\n",
      "          0       0.03      0.23      0.06      2473\n",
      "          1       0.97      0.78      0.86     72477\n",
      "\n",
      "avg / total       0.94      0.76      0.84     74950\n",
      "\n"
     ]
    }
   ],
   "source": [
    "param_lr = {'C': [0.1, 0.3, 1, 3, 10]}\n",
    "\n",
    "# Select Best parameter using GridSearchCV and 2-fold Cross Validation\n",
    "lr_grid = GridSearchCV(lr, param_lr, cv=2, return_train_score=True)\n",
    "lr_grid.fit(X_train, y_train)\n",
    "\n",
    "print('======== Logistic Regression Classifier Result ========')\n",
    "print('Train set accuracy: {:.3f}%'.format(lr_grid.score(X_train, y_train)*100))\n",
    "print('Best Parameter: {}'.format(lr_grid.best_params_))\n",
    "print('<<Classification Result(Dev Data)>>\\n', classification_report(y_dev, lr_grid.predict(X_dev)))"
   ]
  },
  {
   "cell_type": "markdown",
   "metadata": {},
   "source": [
    "hyperparameter를 조정함으로서 약간 좋아진 것을 확인할 수 있었으나, 아직 미비합니다. 위 GridSearchCV에서 나온 최고의 hyperparameter를 바탕으로, 로지스틱 회귀 모델을 Test 데이터에 적용해 보겠습니다."
   ]
  },
  {
   "cell_type": "code",
   "execution_count": 58,
   "metadata": {},
   "outputs": [
    {
     "name": "stdout",
     "output_type": "stream",
     "text": [
      "Test set accuracy: 78.692%\n"
     ]
    }
   ],
   "source": [
    "lr = LogisticRegression(C=10, random_state=0, solver='sag', n_jobs=-1)\n",
    "lr.fit(X_train, y_train)\n",
    "\n",
    "y_pred = lr.predict(X_test)\n",
    "accuracy = metrics.accuracy_score(y_test, y_pred)\n",
    "print('Test set accuracy: {:.3f}%'.format(accuracy*100))"
   ]
  },
  {
   "cell_type": "markdown",
   "metadata": {},
   "source": [
    "# Enhancement"
   ]
  },
  {
   "cell_type": "markdown",
   "metadata": {},
   "source": [
    "### Gradient Boosting Regression Tree\n",
    "그래디언트 부스팅 회귀 트리는 여러 개의 결정 트리를 묶어 강력한 모델을 만드는 앙상블 방법입니다. 이름은 회귀이지만 회귀와 분류 모두에 사용할 수 있습니다. 이전 트리의 오차를 보완하는 'Boosting'기법과 강력한 사전 가지치기가 쓰여 메모리를 적게 사용하고 예측도 빠릅니다. 방금 전 로지스틱 회귀에서는 0 class를 제대로 분류하지 못했으므로, 그래디언트 부스팅 회귀 트리로 0 학습을 강화시켜 주는 것이 도움이 되리라 판단했습니다."
   ]
  },
  {
   "cell_type": "code",
   "execution_count": 59,
   "metadata": {},
   "outputs": [
    {
     "name": "stdout",
     "output_type": "stream",
     "text": [
      "======== Logistic Regression Classifier Result ========\n",
      "Train data accuracy: 65.525%\n",
      "CV data accuracy: 53.474%\n",
      "<<Classification Result(Train Data)>>\n",
      "              precision    recall  f1-score   support\n",
      "\n",
      "          0       0.63      0.76      0.69    112426\n",
      "          1       0.70      0.55      0.61    112426\n",
      "\n",
      "avg / total       0.66      0.66      0.65    224852\n",
      "\n",
      "<<Classification Result(Dev Data)>>\n",
      "              precision    recall  f1-score   support\n",
      "\n",
      "          0       0.03      0.46      0.06      2473\n",
      "          1       0.97      0.54      0.69     72477\n",
      "\n",
      "avg / total       0.94      0.53      0.67     74950\n",
      "\n"
     ]
    }
   ],
   "source": [
    "gbrt = GradientBoostingClassifier(learning_rate=0.01, random_state=0, n_estimators=500)\n",
    "\n",
    "gbrt.fit(X_train, y_train)\n",
    "\n",
    "print('======== Logistic Regression Classifier Result ========')\n",
    "print('Train data accuracy: {:.3f}%'.format(gbrt.score(X_train, y_train)*100))\n",
    "print('CV data accuracy: {:.3f}%'.format(gbrt.score(X_dev, y_dev)*100))\n",
    "print('<<Classification Result(Train Data)>>\\n', classification_report(y_train, gbrt.predict(X_train)))\n",
    "print('<<Classification Result(Dev Data)>>\\n', classification_report(y_dev, gbrt.predict(X_dev)))"
   ]
  },
  {
   "cell_type": "markdown",
   "metadata": {},
   "source": [
    "그러나 약 1시간여 학습시킨 결과, 위와 같이 전체적으로 낮게 나왔습니다. 이는 그래디언트 부스트 회귀 트리가 희소행렬형 데이터에 취약하기 때문이라고 보여집니다. 그래디언트 부스트 회귀 트리는 우리가 갖고 있는 데이터에 대해서는 잘 동작하지 않는 것을 확인할 수 있었습니다. 앞으로 기회가 있다면 더 많은 분류기를 학습시켜 그 성능을 비교 분석하고 싶습니다."
   ]
  },
  {
   "cell_type": "code",
   "execution_count": null,
   "metadata": {},
   "outputs": [],
   "source": []
  },
  {
   "cell_type": "markdown",
   "metadata": {},
   "source": [
    "## Project 2\n",
    "### AAAI Accepted Papers\n",
    "\n",
    "- Cluster papers using AAAI Accepted Papers data [use __'title'__ as primary key].\n",
    "- Visualize your clustering result and explain it.\n",
    "<br>\n",
    "<br>\n",
    "- __Your goal is to show clustering result with AAAI Accepted Papers.__\n",
    "- __You must use 'abstract' feature.__ \n",
    "- You can choose the features you want to use in your project."
   ]
  },
  {
   "cell_type": "markdown",
   "metadata": {},
   "source": [
    "### Attribute Information\n",
    "\n",
    "- __Title__\n",
    "    - Free text; title of the paper \n",
    "<br>\n",
    "<br>\n",
    "- Groups\n",
    "    - Categorical; author-selected, high-level keyword(s) \n",
    "<br>\n",
    "<br>\n",
    "- Keywords\n",
    "    - Free text; author-generated keywords \n",
    "<br>\n",
    "<br>\n",
    "- Topics\n",
    "    - Free text; author-selected, low-level keywords \n",
    "<br>\n",
    "<br>\n",
    "- __Abstracts__\n",
    "    - Free text; paper abstracts"
   ]
  },
  {
   "cell_type": "markdown",
   "metadata": {},
   "source": [
    "# Preprocessing\n",
    "먼저 데이터를 클러스터링하기 위해, 각 특성의 값들이 어떤 특징을 갖고 있는지 살펴보겠습니다."
   ]
  },
  {
   "cell_type": "code",
   "execution_count": 65,
   "metadata": {},
   "outputs": [
    {
     "name": "stdout",
     "output_type": "stream",
     "text": [
      "Size of data:  (548, 5)\n"
     ]
    },
    {
     "data": {
      "text/html": [
       "<div>\n",
       "<style scoped>\n",
       "    .dataframe tbody tr th:only-of-type {\n",
       "        vertical-align: middle;\n",
       "    }\n",
       "\n",
       "    .dataframe tbody tr th {\n",
       "        vertical-align: top;\n",
       "    }\n",
       "\n",
       "    .dataframe thead th {\n",
       "        text-align: right;\n",
       "    }\n",
       "</style>\n",
       "<table border=\"1\" class=\"dataframe\">\n",
       "  <thead>\n",
       "    <tr style=\"text-align: right;\">\n",
       "      <th></th>\n",
       "      <th>title</th>\n",
       "      <th>groups</th>\n",
       "      <th>keywords</th>\n",
       "      <th>topics</th>\n",
       "      <th>abstract</th>\n",
       "    </tr>\n",
       "  </thead>\n",
       "  <tbody>\n",
       "    <tr>\n",
       "      <th>0</th>\n",
       "      <td>The cascade auction ??a mechanism for deterrin...</td>\n",
       "      <td>Mediators\\nAuctions\\nCollusion\\nAd Exchanges</td>\n",
       "      <td>Multiagent Systems</td>\n",
       "      <td>Auctions and Market-Based Systems\\nE-Commerce\\...</td>\n",
       "      <td>We introduce a sealed bid auction of a single ...</td>\n",
       "    </tr>\n",
       "    <tr>\n",
       "      <th>1</th>\n",
       "      <td>Basis Adaptation for Sparse Nonlinear Reinforc...</td>\n",
       "      <td>Reinforcement learning\\nSparsity\\nMirror desce...</td>\n",
       "      <td>Machine Learning\\nReasoning under Uncertainty</td>\n",
       "      <td>Dimension Reduction/Feature Selection\\nOnline ...</td>\n",
       "      <td>This paper presents a new approach to basis ad...</td>\n",
       "    </tr>\n",
       "    <tr>\n",
       "      <th>2</th>\n",
       "      <td>Optimal Coalition Structures in Cooperative Gr...</td>\n",
       "      <td>Cooperative Game Theory\\nCoalition Structure G...</td>\n",
       "      <td>Multiagent Systems</td>\n",
       "      <td>Coordination and Collaboration\\nGame Theory</td>\n",
       "      <td>Representation  languages for coalitional game...</td>\n",
       "    </tr>\n",
       "    <tr>\n",
       "      <th>3</th>\n",
       "      <td>External Memory Best-First Search for Multiple...</td>\n",
       "      <td>External-Memory Search\\nParallel Search\\nMulti...</td>\n",
       "      <td>Heuristic Search and Optimization</td>\n",
       "      <td>Heuristic Search\\nEvaluation and Analysis (Sea...</td>\n",
       "      <td>Multiple sequence alignment (MSA) is a central...</td>\n",
       "    </tr>\n",
       "    <tr>\n",
       "      <th>4</th>\n",
       "      <td>Posted Prices Exchange for Display Advertising...</td>\n",
       "      <td>Display Advertising\\nDynamic Pricing\\nMarket E...</td>\n",
       "      <td>Multiagent Systems</td>\n",
       "      <td>Auctions and Market-Based Systems\\nE-Commerce\\...</td>\n",
       "      <td>We propose a new market design for display adv...</td>\n",
       "    </tr>\n",
       "  </tbody>\n",
       "</table>\n",
       "</div>"
      ],
      "text/plain": [
       "                                               title  \\\n",
       "0  The cascade auction ??a mechanism for deterrin...   \n",
       "1  Basis Adaptation for Sparse Nonlinear Reinforc...   \n",
       "2  Optimal Coalition Structures in Cooperative Gr...   \n",
       "3  External Memory Best-First Search for Multiple...   \n",
       "4  Posted Prices Exchange for Display Advertising...   \n",
       "\n",
       "                                              groups  \\\n",
       "0       Mediators\\nAuctions\\nCollusion\\nAd Exchanges   \n",
       "1  Reinforcement learning\\nSparsity\\nMirror desce...   \n",
       "2  Cooperative Game Theory\\nCoalition Structure G...   \n",
       "3  External-Memory Search\\nParallel Search\\nMulti...   \n",
       "4  Display Advertising\\nDynamic Pricing\\nMarket E...   \n",
       "\n",
       "                                        keywords  \\\n",
       "0                             Multiagent Systems   \n",
       "1  Machine Learning\\nReasoning under Uncertainty   \n",
       "2                             Multiagent Systems   \n",
       "3              Heuristic Search and Optimization   \n",
       "4                             Multiagent Systems   \n",
       "\n",
       "                                              topics  \\\n",
       "0  Auctions and Market-Based Systems\\nE-Commerce\\...   \n",
       "1  Dimension Reduction/Feature Selection\\nOnline ...   \n",
       "2        Coordination and Collaboration\\nGame Theory   \n",
       "3  Heuristic Search\\nEvaluation and Analysis (Sea...   \n",
       "4  Auctions and Market-Based Systems\\nE-Commerce\\...   \n",
       "\n",
       "                                            abstract  \n",
       "0  We introduce a sealed bid auction of a single ...  \n",
       "1  This paper presents a new approach to basis ad...  \n",
       "2  Representation  languages for coalitional game...  \n",
       "3  Multiple sequence alignment (MSA) is a central...  \n",
       "4  We propose a new market design for display adv...  "
      ]
     },
     "metadata": {},
     "output_type": "display_data"
    }
   ],
   "source": [
    "from sklearn.feature_extraction.text import TfidfVectorizer\n",
    "from sklearn.cluster import KMeans\n",
    "from sklearn.metrics.pairwise import cosine_similarity\n",
    "import matplotlib.pyplot as plt\n",
    "from sklearn.decomposition import PCA\n",
    "\n",
    "#import data\n",
    "papers = pd.read_csv('AAAI_Accepted_Papers.csv', encoding = \"ISO-8859-1\")\n",
    "print('Size of data: ', papers.shape)\n",
    "display(papers.head())"
   ]
  },
  {
   "cell_type": "markdown",
   "metadata": {},
   "source": [
    "먼저 abstract를 보면 \\n으로 나뉘어 있는 문장이 대다수입니다. 문장의 경우, TFI-DF vectorizer를 사용해 클러스터링 하는 게 효과적입니다. 따라서, 먼저 scikit-learn의 TfidfVectorizer를 사용해 희소행렬을 만들고, 이를 우선 행렬로 변환하겠습니다."
   ]
  },
  {
   "cell_type": "code",
   "execution_count": 66,
   "metadata": {},
   "outputs": [
    {
     "name": "stdout",
     "output_type": "stream",
     "text": [
      "Extracting features from the training dataset using a sparse vectorizer\n"
     ]
    }
   ],
   "source": [
    "# Deal with column abstract\n",
    "print(\"Extracting features from the training dataset using a sparse vectorizer\")\n",
    "tfidf_vectorizer =  TfidfVectorizer(analyzer='word', ngram_range=(1,6),\n",
    "                                   stop_words='english', min_df = 2, sublinear_tf=True)\n",
    "tfidf_matrix = tfidf_vectorizer.fit_transform(papers.abstract)\n",
    "\n",
    "tdidf_arr = tfidf_matrix.toarray()\n",
    "papers.drop('abstract',axis = 1)\n",
    "papers.abstract = \"\"\n",
    "for i in range(len(tdidf_arr)):\n",
    "    val = (np.where(tdidf_arr==max(tdidf_arr[i])))[-1][0]\n",
    "    papers.abstract[i] = tfidf_vectorizer.get_feature_names()[val]"
   ]
  },
  {
   "cell_type": "code",
   "execution_count": 67,
   "metadata": {
    "scrolled": true
   },
   "outputs": [
    {
     "data": {
      "text/plain": [
       "0                     auction\n",
       "1                     descent\n",
       "2                   coalition\n",
       "3                    external\n",
       "4                      demand\n",
       "5                       shape\n",
       "6      constraint propagation\n",
       "7                      theory\n",
       "8                        cake\n",
       "9                        hash\n",
       "10          human computation\n",
       "11                   saliency\n",
       "12       probabilistic models\n",
       "13                 random sat\n",
       "14                      mixed\n",
       "15                     causal\n",
       "16                       rank\n",
       "17                     peaked\n",
       "18                    vendors\n",
       "19                    opinion\n",
       "20                  stability\n",
       "21               hierarchical\n",
       "22                 clustering\n",
       "23             gibbs sampling\n",
       "24                     reveal\n",
       "25                        min\n",
       "26                        map\n",
       "27                      costs\n",
       "28                 preference\n",
       "29                  customers\n",
       "                ...          \n",
       "518          graph clustering\n",
       "519               orientation\n",
       "520                  marginal\n",
       "521              intersection\n",
       "522    feature representation\n",
       "523                   battery\n",
       "524                 integrity\n",
       "525                     brain\n",
       "526                 diagnoses\n",
       "527                   planner\n",
       "528                 portfolio\n",
       "529                    review\n",
       "530                    energy\n",
       "531                     robot\n",
       "532                perceptron\n",
       "533                 questions\n",
       "534                    events\n",
       "535                 expansion\n",
       "536                    clause\n",
       "537                    expand\n",
       "538          gradient descent\n",
       "539                   clauses\n",
       "540    equilibrium strategies\n",
       "541                    policy\n",
       "542                   scripts\n",
       "543             methods based\n",
       "544                 expansion\n",
       "545                        dl\n",
       "546                   pronoun\n",
       "547             sparse coding\n",
       "Name: abstract, Length: 548, dtype: object"
      ]
     },
     "execution_count": 67,
     "metadata": {},
     "output_type": "execute_result"
    }
   ],
   "source": [
    "papers.abstract"
   ]
  },
  {
   "cell_type": "markdown",
   "metadata": {},
   "source": [
    "또한 group, topics, keywords 특성의 값 모두 '\\n'으로 소주제가 분리되어 있기 때문에, 이를 제대로 처리해주는 것이 필요합니다. 그러므로 이 column들도 모두 split을 사용하여 '\\n'공백을 기준으로 분리하고, 그 단어들을 리스트로 만들었습니다."
   ]
  },
  {
   "cell_type": "code",
   "execution_count": 68,
   "metadata": {},
   "outputs": [],
   "source": [
    "str_g = papers.groups.str.split('\\n').apply(pd.Series,1).stack().tolist()\n",
    "str_t = papers.topics.str.split('\\n').apply(pd.Series,1).stack().tolist()\n",
    "str_k = papers.keywords.str.split('\\n').apply(pd.Series,1).stack().tolist()\n",
    "str_a = papers.abstract.apply(pd.Series,1).stack().tolist()"
   ]
  },
  {
   "cell_type": "markdown",
   "metadata": {},
   "source": [
    "각 특성 리스트의 길이는 다음과 같습니다."
   ]
  },
  {
   "cell_type": "code",
   "execution_count": 69,
   "metadata": {},
   "outputs": [
    {
     "data": {
      "text/plain": [
       "(1280, 1610, 1822, 548)"
      ]
     },
     "execution_count": 69,
     "metadata": {},
     "output_type": "execute_result"
    }
   ],
   "source": [
    "len(str_g), len(str_t), len(str_k), len(str_a)"
   ]
  },
  {
   "cell_type": "markdown",
   "metadata": {},
   "source": [
    "클러스터링을 더 진행하기 위해, 이 리스트들을 우선 attr(attribute)라는 큰 리스트로 병합합니다. 그리고 abstract 특성을 포함한 모든 특성들을 clustering의 feature로 만들었습니다.\n",
    "\n",
    "그 후, 논문의 feature 포함 여부에 따라 feature값을 1로 할당하였습니다."
   ]
  },
  {
   "cell_type": "code",
   "execution_count": 70,
   "metadata": {},
   "outputs": [],
   "source": [
    "# Concatenate lists into one\n",
    "attr = str_g + str_t + str_k + str_a\n",
    "\n",
    "data = np.zeros((len(papers),len(attr)))\n",
    "for i in(range(len(papers))):\n",
    "    a = papers.groups.str.split('\\n').apply(pd.Series,1).stack()[i].tolist()\n",
    "    b = papers.topics.str.split('\\n').apply(pd.Series,1).stack()[i].tolist()\n",
    "    c = papers.keywords.str.split('\\n').apply(pd.Series,1).stack()[i].tolist()\n",
    "    d = papers.abstract.apply(pd.Series,1).stack()[i].tolist()\n",
    "    iattr = a + b + c + d\n",
    "    for j in(range(len(iattr))):\n",
    "        if iattr[j] in attr:\n",
    "            data[i,attr.index(iattr[j])] = 1"
   ]
  },
  {
   "cell_type": "code",
   "execution_count": 72,
   "metadata": {},
   "outputs": [],
   "source": [
    "new_papers = pd.DataFrame(data, columns=attr)\n",
    "new_papers['titles'] = papers.title\n",
    "new_papers = new_papers.set_index('titles')"
   ]
  },
  {
   "cell_type": "markdown",
   "metadata": {},
   "source": [
    "이후, PCA 알고리즘을 통해 이 특성들을 2차원으로 줄였습니다. 그리고 클러스터 값 k를 5로 설정하였습니다. 이 k값은 물론 더욱 크게 조정할 수 있으며, 그에 따라 더 세부적으로 클러스터링 되게 될 것입니다. \n",
    "\n",
    "결국, 아래 그림과 같은 클러스터링 결과를 얻을 수 있었습니다. 추후 k값을 변경하여 실험하거나 특성 값을 조정하여 실험해 보겠습니다. \n",
    "\n",
    "이 프로젝트는 제 데이터 처리 실력이 많이 성장하는 시간이었습니다. 이런 프로젝트를 주시고 도전하게 해 주셔서 교수님과 조교님께 정말 감사드립니다."
   ]
  },
  {
   "cell_type": "code",
   "execution_count": 73,
   "metadata": {},
   "outputs": [],
   "source": [
    "pca = PCA(n_components=2)\n",
    "components = pca.fit_transform(new_papers)\n",
    "\n",
    "kmeans = KMeans(n_clusters=5, random_state=42).fit(components)\n",
    "clusters = kmeans.labels_.tolist()"
   ]
  },
  {
   "cell_type": "code",
   "execution_count": 81,
   "metadata": {},
   "outputs": [
    {
     "data": {
      "image/png": "[encoded data removed]",
      "text/plain": [
       "<matplotlib.figure.Figure at 0x1b93edcf1d0>"
      ]
     },
     "metadata": {},
     "output_type": "display_data"
    }
   ],
   "source": [
    "label_colormap = {0:'skyblue', 1:'wheat', 2:'#1b9e77', 3:'#d95f02', 4:'#7570b3'}\n",
    "label_color = [label_colormap[k] for k in clusters]\n",
    "\n",
    "f, ax = plt.subplots(figsize=(20, 10))\n",
    "plt.scatter(components[:,0], components[:,1], c=label_color, marker='o',)\n",
    "ax.tick_params(\\\n",
    "            axis= 'x',          \n",
    "            which='both',      \n",
    "            bottom='off',      \n",
    "            top='off',         \n",
    "            labelbottom='off')\n",
    "ax.tick_params(\\\n",
    "            axis= 'y',         \n",
    "            which='both',     \n",
    "            left='off',     \n",
    "            top='off',      \n",
    "            labelleft='off')\n",
    "plt.title('Visualized Clustering of AAAI Accepted Papers', size=18)\n",
    "plt.show()"
   ]
  },
  {
   "cell_type": "markdown",
   "metadata": {},
   "source": [
    "# FIN\n",
    "## You did a really good job for the short semester. Have a nice vacation!! :) "
   ]
  }
 ],
 "metadata": {
  "kernelspec": {
   "display_name": "Python 3",
   "language": "python",
   "name": "python3"
  },
  "language_info": {
   "codemirror_mode": {
    "name": "ipython",
    "version": 3
   },
   "file_extension": ".py",
   "mimetype": "text/x-python",
   "name": "python",
   "nbconvert_exporter": "python",
   "pygments_lexer": "ipython3",
   "version": "3.6.4"
  }
 },
 "nbformat": 4,
 "nbformat_minor": 1
}

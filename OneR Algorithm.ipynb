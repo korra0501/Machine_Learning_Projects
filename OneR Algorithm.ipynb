{
 "cells": [
  {
   "cell_type": "markdown",
   "metadata": {},
   "source": [
    "# Applying OneR to UCI ML Repository Adult&Cancer dataset Analysis\n",
    "### 2018-1학기 고려대학교 김현철 교수님 인공지능 기말과제\n",
    "#### 2018.06.10 2013130625 조성표"
   ]
  },
  {
   "cell_type": "code",
   "execution_count": 70,
   "metadata": {},
   "outputs": [],
   "source": [
    "library(OneR)"
   ]
  },
  {
   "cell_type": "markdown",
   "metadata": {},
   "source": [
    "## 1. Wisconsin Breast Cancer Dataset Analysis\n",
    "R에 구현된 OneR 라이브러리를 사용하여 Wisconsin 유방암 데이터와 Adult 데이터를 분석했습니다.\n",
    "\n",
    "OneR 라이브러리 주소(by Holger K. von Jouanne-Diedrich): https://github.com/vonjd/OneR"
   ]
  },
  {
   "cell_type": "code",
   "execution_count": 59,
   "metadata": {
    "scrolled": true
   },
   "outputs": [
    {
     "data": {
      "text/html": [
       "<table>\n",
       "<thead><tr><th scope=col>diagnosis</th><th scope=col>mean radius</th><th scope=col>mean texture</th><th scope=col>mean perimeter</th><th scope=col>mean area</th><th scope=col>mean smoothness</th><th scope=col>mean compactness</th><th scope=col>mean concavity</th><th scope=col>mean concave points</th><th scope=col>mean symmetry</th><th scope=col>...</th><th scope=col>worst radius</th><th scope=col>worst texture</th><th scope=col>worst perimeter</th><th scope=col>worst area</th><th scope=col>worst smoothness</th><th scope=col>worst compactness</th><th scope=col>worst concavity</th><th scope=col>worst concave points</th><th scope=col>worst symmetry</th><th scope=col>worst fractal dimension</th></tr></thead>\n",
       "<tbody>\n",
       "\t<tr><td>M      </td><td>17.99  </td><td>10.38  </td><td>122.80 </td><td>1001.0 </td><td>0.11840</td><td>0.27760</td><td>0.3001 </td><td>0.14710</td><td>0.2419 </td><td>...    </td><td>25.38  </td><td>17.33  </td><td>184.60 </td><td>2019.0 </td><td>0.1622 </td><td>0.6656 </td><td>0.7119 </td><td>0.2654 </td><td>0.4601 </td><td>0.11890</td></tr>\n",
       "\t<tr><td>M      </td><td>20.57  </td><td>17.77  </td><td>132.90 </td><td>1326.0 </td><td>0.08474</td><td>0.07864</td><td>0.0869 </td><td>0.07017</td><td>0.1812 </td><td>...    </td><td>24.99  </td><td>23.41  </td><td>158.80 </td><td>1956.0 </td><td>0.1238 </td><td>0.1866 </td><td>0.2416 </td><td>0.1860 </td><td>0.2750 </td><td>0.08902</td></tr>\n",
       "\t<tr><td>M      </td><td>19.69  </td><td>21.25  </td><td>130.00 </td><td>1203.0 </td><td>0.10960</td><td>0.15990</td><td>0.1974 </td><td>0.12790</td><td>0.2069 </td><td>...    </td><td>23.57  </td><td>25.53  </td><td>152.50 </td><td>1709.0 </td><td>0.1444 </td><td>0.4245 </td><td>0.4504 </td><td>0.2430 </td><td>0.3613 </td><td>0.08758</td></tr>\n",
       "\t<tr><td>M      </td><td>11.42  </td><td>20.38  </td><td> 77.58 </td><td> 386.1 </td><td>0.14250</td><td>0.28390</td><td>0.2414 </td><td>0.10520</td><td>0.2597 </td><td>...    </td><td>14.91  </td><td>26.50  </td><td> 98.87 </td><td> 567.7 </td><td>0.2098 </td><td>0.8663 </td><td>0.6869 </td><td>0.2575 </td><td>0.6638 </td><td>0.17300</td></tr>\n",
       "\t<tr><td>M      </td><td>20.29  </td><td>14.34  </td><td>135.10 </td><td>1297.0 </td><td>0.10030</td><td>0.13280</td><td>0.1980 </td><td>0.10430</td><td>0.1809 </td><td>...    </td><td>22.54  </td><td>16.67  </td><td>152.20 </td><td>1575.0 </td><td>0.1374 </td><td>0.2050 </td><td>0.4000 </td><td>0.1625 </td><td>0.2364 </td><td>0.07678</td></tr>\n",
       "\t<tr><td>M      </td><td>12.45  </td><td>15.70  </td><td> 82.57 </td><td> 477.1 </td><td>0.12780</td><td>0.17000</td><td>0.1578 </td><td>0.08089</td><td>0.2087 </td><td>...    </td><td>15.47  </td><td>23.75  </td><td>103.40 </td><td> 741.6 </td><td>0.1791 </td><td>0.5249 </td><td>0.5355 </td><td>0.1741 </td><td>0.3985 </td><td>0.12440</td></tr>\n",
       "</tbody>\n",
       "</table>\n"
      ],
      "text/latex": [
       "\\begin{tabular}{r|lllllllllllllllllllllllllllllll}\n",
       " diagnosis & mean radius & mean texture & mean perimeter & mean area & mean smoothness & mean compactness & mean concavity & mean concave points & mean symmetry & ... & worst radius & worst texture & worst perimeter & worst area & worst smoothness & worst compactness & worst concavity & worst concave points & worst symmetry & worst fractal dimension\\\\\n",
       "\\hline\n",
       "\t M       & 17.99   & 10.38   & 122.80  & 1001.0  & 0.11840 & 0.27760 & 0.3001  & 0.14710 & 0.2419  & ...     & 25.38   & 17.33   & 184.60  & 2019.0  & 0.1622  & 0.6656  & 0.7119  & 0.2654  & 0.4601  & 0.11890\\\\\n",
       "\t M       & 20.57   & 17.77   & 132.90  & 1326.0  & 0.08474 & 0.07864 & 0.0869  & 0.07017 & 0.1812  & ...     & 24.99   & 23.41   & 158.80  & 1956.0  & 0.1238  & 0.1866  & 0.2416  & 0.1860  & 0.2750  & 0.08902\\\\\n",
       "\t M       & 19.69   & 21.25   & 130.00  & 1203.0  & 0.10960 & 0.15990 & 0.1974  & 0.12790 & 0.2069  & ...     & 23.57   & 25.53   & 152.50  & 1709.0  & 0.1444  & 0.4245  & 0.4504  & 0.2430  & 0.3613  & 0.08758\\\\\n",
       "\t M       & 11.42   & 20.38   &  77.58  &  386.1  & 0.14250 & 0.28390 & 0.2414  & 0.10520 & 0.2597  & ...     & 14.91   & 26.50   &  98.87  &  567.7  & 0.2098  & 0.8663  & 0.6869  & 0.2575  & 0.6638  & 0.17300\\\\\n",
       "\t M       & 20.29   & 14.34   & 135.10  & 1297.0  & 0.10030 & 0.13280 & 0.1980  & 0.10430 & 0.1809  & ...     & 22.54   & 16.67   & 152.20  & 1575.0  & 0.1374  & 0.2050  & 0.4000  & 0.1625  & 0.2364  & 0.07678\\\\\n",
       "\t M       & 12.45   & 15.70   &  82.57  &  477.1  & 0.12780 & 0.17000 & 0.1578  & 0.08089 & 0.2087  & ...     & 15.47   & 23.75   & 103.40  &  741.6  & 0.1791  & 0.5249  & 0.5355  & 0.1741  & 0.3985  & 0.12440\\\\\n",
       "\\end{tabular}\n"
      ],
      "text/markdown": [
       "\n",
       "diagnosis | mean radius | mean texture | mean perimeter | mean area | mean smoothness | mean compactness | mean concavity | mean concave points | mean symmetry | ... | worst radius | worst texture | worst perimeter | worst area | worst smoothness | worst compactness | worst concavity | worst concave points | worst symmetry | worst fractal dimension | \n",
       "|---|---|---|---|---|---|\n",
       "| M       | 17.99   | 10.38   | 122.80  | 1001.0  | 0.11840 | 0.27760 | 0.3001  | 0.14710 | 0.2419  | ...     | 25.38   | 17.33   | 184.60  | 2019.0  | 0.1622  | 0.6656  | 0.7119  | 0.2654  | 0.4601  | 0.11890 | \n",
       "| M       | 20.57   | 17.77   | 132.90  | 1326.0  | 0.08474 | 0.07864 | 0.0869  | 0.07017 | 0.1812  | ...     | 24.99   | 23.41   | 158.80  | 1956.0  | 0.1238  | 0.1866  | 0.2416  | 0.1860  | 0.2750  | 0.08902 | \n",
       "| M       | 19.69   | 21.25   | 130.00  | 1203.0  | 0.10960 | 0.15990 | 0.1974  | 0.12790 | 0.2069  | ...     | 23.57   | 25.53   | 152.50  | 1709.0  | 0.1444  | 0.4245  | 0.4504  | 0.2430  | 0.3613  | 0.08758 | \n",
       "| M       | 11.42   | 20.38   |  77.58  |  386.1  | 0.14250 | 0.28390 | 0.2414  | 0.10520 | 0.2597  | ...     | 14.91   | 26.50   |  98.87  |  567.7  | 0.2098  | 0.8663  | 0.6869  | 0.2575  | 0.6638  | 0.17300 | \n",
       "| M       | 20.29   | 14.34   | 135.10  | 1297.0  | 0.10030 | 0.13280 | 0.1980  | 0.10430 | 0.1809  | ...     | 22.54   | 16.67   | 152.20  | 1575.0  | 0.1374  | 0.2050  | 0.4000  | 0.1625  | 0.2364  | 0.07678 | \n",
       "| M       | 12.45   | 15.70   |  82.57  |  477.1  | 0.12780 | 0.17000 | 0.1578  | 0.08089 | 0.2087  | ...     | 15.47   | 23.75   | 103.40  |  741.6  | 0.1791  | 0.5249  | 0.5355  | 0.1741  | 0.3985  | 0.12440 | \n",
       "\n",
       "\n"
      ],
      "text/plain": [
       "  diagnosis mean radius mean texture mean perimeter mean area mean smoothness\n",
       "1 M         17.99       10.38        122.80         1001.0    0.11840        \n",
       "2 M         20.57       17.77        132.90         1326.0    0.08474        \n",
       "3 M         19.69       21.25        130.00         1203.0    0.10960        \n",
       "4 M         11.42       20.38         77.58          386.1    0.14250        \n",
       "5 M         20.29       14.34        135.10         1297.0    0.10030        \n",
       "6 M         12.45       15.70         82.57          477.1    0.12780        \n",
       "  mean compactness mean concavity mean concave points mean symmetry ...\n",
       "1 0.27760          0.3001         0.14710             0.2419        ...\n",
       "2 0.07864          0.0869         0.07017             0.1812        ...\n",
       "3 0.15990          0.1974         0.12790             0.2069        ...\n",
       "4 0.28390          0.2414         0.10520             0.2597        ...\n",
       "5 0.13280          0.1980         0.10430             0.1809        ...\n",
       "6 0.17000          0.1578         0.08089             0.2087        ...\n",
       "  worst radius worst texture worst perimeter worst area worst smoothness\n",
       "1 25.38        17.33         184.60          2019.0     0.1622          \n",
       "2 24.99        23.41         158.80          1956.0     0.1238          \n",
       "3 23.57        25.53         152.50          1709.0     0.1444          \n",
       "4 14.91        26.50          98.87           567.7     0.2098          \n",
       "5 22.54        16.67         152.20          1575.0     0.1374          \n",
       "6 15.47        23.75         103.40           741.6     0.1791          \n",
       "  worst compactness worst concavity worst concave points worst symmetry\n",
       "1 0.6656            0.7119          0.2654               0.4601        \n",
       "2 0.1866            0.2416          0.1860               0.2750        \n",
       "3 0.4245            0.4504          0.2430               0.3613        \n",
       "4 0.8663            0.6869          0.2575               0.6638        \n",
       "5 0.2050            0.4000          0.1625               0.2364        \n",
       "6 0.5249            0.5355          0.1741               0.3985        \n",
       "  worst fractal dimension\n",
       "1 0.11890                \n",
       "2 0.08902                \n",
       "3 0.08758                \n",
       "4 0.17300                \n",
       "5 0.07678                \n",
       "6 0.12440                "
      ]
     },
     "metadata": {},
     "output_type": "display_data"
    }
   ],
   "source": [
    "# Load and name data\n",
    "data <- read.csv(\"https://archive.ics.uci.edu/ml/machine-learning-databases/breast-cancer-wisconsin/wdbc.data\",\n",
    "                header = FALSE)\n",
    "data <- data[-1] #remove sample code number\n",
    "names(data) <- c('diagnosis', 'mean radius', 'mean texture', 'mean perimeter', 'mean area', 'mean smoothness', \n",
    "              'mean compactness', 'mean concavity', 'mean concave points', 'mean symmetry', 'mean fractal dimension',\n",
    "              'radius error', 'texture error', 'perimeter error', 'area error','smoothness error', 'compactness error', \n",
    "              'concavity error', 'concave points error', 'symmetry error', 'fractal dimension error', 'worst radius',\n",
    "              'worst texture', 'worst perimeter', 'worst area', 'worst smoothness', 'worst compactness', 'worst concavity', \n",
    "              'worst concave points', 'worst symmetry', 'worst fractal dimension')\n",
    "head(data)"
   ]
  },
  {
   "cell_type": "code",
   "execution_count": 60,
   "metadata": {},
   "outputs": [],
   "source": [
    "# moveme func: from 'https://stackoverflow.com/questions/3369959/moving-columns-within-a-data-frame-without-retyping/18540144'\n",
    "moveme <- function (invec, movecommand) {\n",
    "  movecommand <- lapply(strsplit(strsplit(movecommand, \";\")[[1]], \n",
    "                                 \",|\\\\s+\"), function(x) x[x != \"\"])\n",
    "  movelist <- lapply(movecommand, function(x) {\n",
    "    Where <- x[which(x %in% c(\"before\", \"after\", \"first\", \n",
    "                              \"last\")):length(x)]\n",
    "    ToMove <- setdiff(x, Where)\n",
    "    list(ToMove, Where)\n",
    "  })\n",
    "  myVec <- invec\n",
    "  for (i in seq_along(movelist)) {\n",
    "    temp <- setdiff(myVec, movelist[[i]][[1]])\n",
    "    A <- movelist[[i]][[2]][1]\n",
    "    if (A %in% c(\"before\", \"after\")) {\n",
    "      ba <- movelist[[i]][[2]][2]\n",
    "      if (A == \"before\") {\n",
    "        after <- match(ba, temp) - 1\n",
    "      }\n",
    "      else if (A == \"after\") {\n",
    "        after <- match(ba, temp)\n",
    "      }\n",
    "    }\n",
    "    else if (A == \"first\") {\n",
    "      after <- 0\n",
    "    }\n",
    "    else if (A == \"last\") {\n",
    "      after <- length(myVec)\n",
    "    }\n",
    "    myVec <- append(temp, values = movelist[[i]][[1]], after = after)\n",
    "  }\n",
    "  myVec\n",
    "}"
   ]
  },
  {
   "cell_type": "code",
   "execution_count": 62,
   "metadata": {},
   "outputs": [
    {
     "data": {
      "text/html": [
       "<table>\n",
       "<thead><tr><th scope=col>mean radius</th><th scope=col>mean texture</th><th scope=col>mean perimeter</th><th scope=col>mean area</th><th scope=col>mean smoothness</th><th scope=col>mean compactness</th><th scope=col>mean concavity</th><th scope=col>mean concave points</th><th scope=col>mean symmetry</th><th scope=col>mean fractal dimension</th><th scope=col>...</th><th scope=col>worst texture</th><th scope=col>worst perimeter</th><th scope=col>worst area</th><th scope=col>worst smoothness</th><th scope=col>worst compactness</th><th scope=col>worst concavity</th><th scope=col>worst concave points</th><th scope=col>worst symmetry</th><th scope=col>worst fractal dimension</th><th scope=col>diagnosis</th></tr></thead>\n",
       "<tbody>\n",
       "\t<tr><td>17.99  </td><td>10.38  </td><td>122.80 </td><td>1001.0 </td><td>0.11840</td><td>0.27760</td><td>0.3001 </td><td>0.14710</td><td>0.2419 </td><td>0.07871</td><td>...    </td><td>17.33  </td><td>184.60 </td><td>2019.0 </td><td>0.1622 </td><td>0.6656 </td><td>0.7119 </td><td>0.2654 </td><td>0.4601 </td><td>0.11890</td><td>M      </td></tr>\n",
       "\t<tr><td>20.57  </td><td>17.77  </td><td>132.90 </td><td>1326.0 </td><td>0.08474</td><td>0.07864</td><td>0.0869 </td><td>0.07017</td><td>0.1812 </td><td>0.05667</td><td>...    </td><td>23.41  </td><td>158.80 </td><td>1956.0 </td><td>0.1238 </td><td>0.1866 </td><td>0.2416 </td><td>0.1860 </td><td>0.2750 </td><td>0.08902</td><td>M      </td></tr>\n",
       "\t<tr><td>19.69  </td><td>21.25  </td><td>130.00 </td><td>1203.0 </td><td>0.10960</td><td>0.15990</td><td>0.1974 </td><td>0.12790</td><td>0.2069 </td><td>0.05999</td><td>...    </td><td>25.53  </td><td>152.50 </td><td>1709.0 </td><td>0.1444 </td><td>0.4245 </td><td>0.4504 </td><td>0.2430 </td><td>0.3613 </td><td>0.08758</td><td>M      </td></tr>\n",
       "\t<tr><td>11.42  </td><td>20.38  </td><td> 77.58 </td><td> 386.1 </td><td>0.14250</td><td>0.28390</td><td>0.2414 </td><td>0.10520</td><td>0.2597 </td><td>0.09744</td><td>...    </td><td>26.50  </td><td> 98.87 </td><td> 567.7 </td><td>0.2098 </td><td>0.8663 </td><td>0.6869 </td><td>0.2575 </td><td>0.6638 </td><td>0.17300</td><td>M      </td></tr>\n",
       "\t<tr><td>20.29  </td><td>14.34  </td><td>135.10 </td><td>1297.0 </td><td>0.10030</td><td>0.13280</td><td>0.1980 </td><td>0.10430</td><td>0.1809 </td><td>0.05883</td><td>...    </td><td>16.67  </td><td>152.20 </td><td>1575.0 </td><td>0.1374 </td><td>0.2050 </td><td>0.4000 </td><td>0.1625 </td><td>0.2364 </td><td>0.07678</td><td>M      </td></tr>\n",
       "\t<tr><td>12.45  </td><td>15.70  </td><td> 82.57 </td><td> 477.1 </td><td>0.12780</td><td>0.17000</td><td>0.1578 </td><td>0.08089</td><td>0.2087 </td><td>0.07613</td><td>...    </td><td>23.75  </td><td>103.40 </td><td> 741.6 </td><td>0.1791 </td><td>0.5249 </td><td>0.5355 </td><td>0.1741 </td><td>0.3985 </td><td>0.12440</td><td>M      </td></tr>\n",
       "</tbody>\n",
       "</table>\n"
      ],
      "text/latex": [
       "\\begin{tabular}{r|lllllllllllllllllllllllllllllll}\n",
       " mean radius & mean texture & mean perimeter & mean area & mean smoothness & mean compactness & mean concavity & mean concave points & mean symmetry & mean fractal dimension & ... & worst texture & worst perimeter & worst area & worst smoothness & worst compactness & worst concavity & worst concave points & worst symmetry & worst fractal dimension & diagnosis\\\\\n",
       "\\hline\n",
       "\t 17.99   & 10.38   & 122.80  & 1001.0  & 0.11840 & 0.27760 & 0.3001  & 0.14710 & 0.2419  & 0.07871 & ...     & 17.33   & 184.60  & 2019.0  & 0.1622  & 0.6656  & 0.7119  & 0.2654  & 0.4601  & 0.11890 & M      \\\\\n",
       "\t 20.57   & 17.77   & 132.90  & 1326.0  & 0.08474 & 0.07864 & 0.0869  & 0.07017 & 0.1812  & 0.05667 & ...     & 23.41   & 158.80  & 1956.0  & 0.1238  & 0.1866  & 0.2416  & 0.1860  & 0.2750  & 0.08902 & M      \\\\\n",
       "\t 19.69   & 21.25   & 130.00  & 1203.0  & 0.10960 & 0.15990 & 0.1974  & 0.12790 & 0.2069  & 0.05999 & ...     & 25.53   & 152.50  & 1709.0  & 0.1444  & 0.4245  & 0.4504  & 0.2430  & 0.3613  & 0.08758 & M      \\\\\n",
       "\t 11.42   & 20.38   &  77.58  &  386.1  & 0.14250 & 0.28390 & 0.2414  & 0.10520 & 0.2597  & 0.09744 & ...     & 26.50   &  98.87  &  567.7  & 0.2098  & 0.8663  & 0.6869  & 0.2575  & 0.6638  & 0.17300 & M      \\\\\n",
       "\t 20.29   & 14.34   & 135.10  & 1297.0  & 0.10030 & 0.13280 & 0.1980  & 0.10430 & 0.1809  & 0.05883 & ...     & 16.67   & 152.20  & 1575.0  & 0.1374  & 0.2050  & 0.4000  & 0.1625  & 0.2364  & 0.07678 & M      \\\\\n",
       "\t 12.45   & 15.70   &  82.57  &  477.1  & 0.12780 & 0.17000 & 0.1578  & 0.08089 & 0.2087  & 0.07613 & ...     & 23.75   & 103.40  &  741.6  & 0.1791  & 0.5249  & 0.5355  & 0.1741  & 0.3985  & 0.12440 & M      \\\\\n",
       "\\end{tabular}\n"
      ],
      "text/markdown": [
       "\n",
       "mean radius | mean texture | mean perimeter | mean area | mean smoothness | mean compactness | mean concavity | mean concave points | mean symmetry | mean fractal dimension | ... | worst texture | worst perimeter | worst area | worst smoothness | worst compactness | worst concavity | worst concave points | worst symmetry | worst fractal dimension | diagnosis | \n",
       "|---|---|---|---|---|---|\n",
       "| 17.99   | 10.38   | 122.80  | 1001.0  | 0.11840 | 0.27760 | 0.3001  | 0.14710 | 0.2419  | 0.07871 | ...     | 17.33   | 184.60  | 2019.0  | 0.1622  | 0.6656  | 0.7119  | 0.2654  | 0.4601  | 0.11890 | M       | \n",
       "| 20.57   | 17.77   | 132.90  | 1326.0  | 0.08474 | 0.07864 | 0.0869  | 0.07017 | 0.1812  | 0.05667 | ...     | 23.41   | 158.80  | 1956.0  | 0.1238  | 0.1866  | 0.2416  | 0.1860  | 0.2750  | 0.08902 | M       | \n",
       "| 19.69   | 21.25   | 130.00  | 1203.0  | 0.10960 | 0.15990 | 0.1974  | 0.12790 | 0.2069  | 0.05999 | ...     | 25.53   | 152.50  | 1709.0  | 0.1444  | 0.4245  | 0.4504  | 0.2430  | 0.3613  | 0.08758 | M       | \n",
       "| 11.42   | 20.38   |  77.58  |  386.1  | 0.14250 | 0.28390 | 0.2414  | 0.10520 | 0.2597  | 0.09744 | ...     | 26.50   |  98.87  |  567.7  | 0.2098  | 0.8663  | 0.6869  | 0.2575  | 0.6638  | 0.17300 | M       | \n",
       "| 20.29   | 14.34   | 135.10  | 1297.0  | 0.10030 | 0.13280 | 0.1980  | 0.10430 | 0.1809  | 0.05883 | ...     | 16.67   | 152.20  | 1575.0  | 0.1374  | 0.2050  | 0.4000  | 0.1625  | 0.2364  | 0.07678 | M       | \n",
       "| 12.45   | 15.70   |  82.57  |  477.1  | 0.12780 | 0.17000 | 0.1578  | 0.08089 | 0.2087  | 0.07613 | ...     | 23.75   | 103.40  |  741.6  | 0.1791  | 0.5249  | 0.5355  | 0.1741  | 0.3985  | 0.12440 | M       | \n",
       "\n",
       "\n"
      ],
      "text/plain": [
       "  mean radius mean texture mean perimeter mean area mean smoothness\n",
       "1 17.99       10.38        122.80         1001.0    0.11840        \n",
       "2 20.57       17.77        132.90         1326.0    0.08474        \n",
       "3 19.69       21.25        130.00         1203.0    0.10960        \n",
       "4 11.42       20.38         77.58          386.1    0.14250        \n",
       "5 20.29       14.34        135.10         1297.0    0.10030        \n",
       "6 12.45       15.70         82.57          477.1    0.12780        \n",
       "  mean compactness mean concavity mean concave points mean symmetry\n",
       "1 0.27760          0.3001         0.14710             0.2419       \n",
       "2 0.07864          0.0869         0.07017             0.1812       \n",
       "3 0.15990          0.1974         0.12790             0.2069       \n",
       "4 0.28390          0.2414         0.10520             0.2597       \n",
       "5 0.13280          0.1980         0.10430             0.1809       \n",
       "6 0.17000          0.1578         0.08089             0.2087       \n",
       "  mean fractal dimension ... worst texture worst perimeter worst area\n",
       "1 0.07871                ... 17.33         184.60          2019.0    \n",
       "2 0.05667                ... 23.41         158.80          1956.0    \n",
       "3 0.05999                ... 25.53         152.50          1709.0    \n",
       "4 0.09744                ... 26.50          98.87           567.7    \n",
       "5 0.05883                ... 16.67         152.20          1575.0    \n",
       "6 0.07613                ... 23.75         103.40           741.6    \n",
       "  worst smoothness worst compactness worst concavity worst concave points\n",
       "1 0.1622           0.6656            0.7119          0.2654              \n",
       "2 0.1238           0.1866            0.2416          0.1860              \n",
       "3 0.1444           0.4245            0.4504          0.2430              \n",
       "4 0.2098           0.8663            0.6869          0.2575              \n",
       "5 0.1374           0.2050            0.4000          0.1625              \n",
       "6 0.1791           0.5249            0.5355          0.1741              \n",
       "  worst symmetry worst fractal dimension diagnosis\n",
       "1 0.4601         0.11890                 M        \n",
       "2 0.2750         0.08902                 M        \n",
       "3 0.3613         0.08758                 M        \n",
       "4 0.6638         0.17300                 M        \n",
       "5 0.2364         0.07678                 M        \n",
       "6 0.3985         0.12440                 M        "
      ]
     },
     "metadata": {},
     "output_type": "display_data"
    }
   ],
   "source": [
    "data <- data[moveme(names(data), \"diagnosis last\")]\n",
    "head(data)"
   ]
  },
  {
   "cell_type": "code",
   "execution_count": 64,
   "metadata": {},
   "outputs": [
    {
     "data": {
      "text/html": [
       "<table>\n",
       "<thead><tr><th></th><th scope=col>mean radius</th><th scope=col>mean texture</th><th scope=col>mean perimeter</th><th scope=col>mean area</th><th scope=col>mean smoothness</th><th scope=col>mean compactness</th><th scope=col>mean concavity</th><th scope=col>mean concave points</th><th scope=col>mean symmetry</th><th scope=col>mean fractal dimension</th><th scope=col>...</th><th scope=col>worst texture</th><th scope=col>worst perimeter</th><th scope=col>worst area</th><th scope=col>worst smoothness</th><th scope=col>worst compactness</th><th scope=col>worst concavity</th><th scope=col>worst concave points</th><th scope=col>worst symmetry</th><th scope=col>worst fractal dimension</th><th scope=col>diagnosis</th></tr></thead>\n",
       "<tbody>\n",
       "\t<tr><th scope=row>164</th><td>(6.96,14.8]       </td><td>(21.5,39.3]       </td><td>(43.6,95.8]       </td><td>(141,679]         </td><td>(0.0525,0.103]    </td><td>(0.0262,0.121]    </td><td>(-0.000427,0.103] </td><td>(-0.000201,0.0544]</td><td>(0.106,0.193]     </td><td>(0.0622,0.0975]   </td><td>...               </td><td>(12,29.1]         </td><td>(50.2,110]        </td><td>(181,856]         </td><td>(0.144,0.223]     </td><td>(0.0424,0.297]    </td><td>(-0.00125,0.329]  </td><td>(-0.000291,0.134] </td><td>(0.156,0.32]      </td><td>(0.0902,0.173]    </td><td>B                 </td></tr>\n",
       "\t<tr><th scope=row>448</th><td>(6.96,14.8]       </td><td>(9.68,21.5]       </td><td>(95.8,189]        </td><td>(141,679]         </td><td>(0.0525,0.103]    </td><td>(0.0262,0.121]    </td><td>(-0.000427,0.103] </td><td>(-0.000201,0.0544]</td><td>(0.106,0.193]     </td><td>(0.0499,0.0622]   </td><td>...               </td><td>(12,29.1]         </td><td>(50.2,110]        </td><td>(181,856]         </td><td>(0.0847,0.144]    </td><td>(0.0424,0.297]    </td><td>(-0.00125,0.329]  </td><td>(-0.000291,0.134] </td><td>(0.32,0.664]      </td><td>(0.0551,0.0902]   </td><td>B                 </td></tr>\n",
       "\t<tr><th scope=row>232</th><td>(6.96,14.8]       </td><td>(21.5,39.3]       </td><td>(43.6,95.8]       </td><td>(141,679]         </td><td>(0.0525,0.103]    </td><td>(0.0262,0.121]    </td><td>(-0.000427,0.103] </td><td>(-0.000201,0.0544]</td><td>(0.106,0.193]     </td><td>(0.0499,0.0622]   </td><td>...               </td><td>(29.1,47.2]       </td><td>(50.2,110]        </td><td>(181,856]         </td><td>(0.0847,0.144]    </td><td>(0.0424,0.297]    </td><td>(-0.00125,0.329]  </td><td>(-0.000291,0.134] </td><td>(0.156,0.32]      </td><td>(0.0551,0.0902]   </td><td>B                 </td></tr>\n",
       "\t<tr><th scope=row>500</th><td>(14.8,28.1]       </td><td>(9.68,21.5]       </td><td>(95.8,189]        </td><td>(679,2.5e+03]     </td><td>(0.103,0.164]     </td><td>(0.121,0.346]     </td><td>(0.103,0.427]     </td><td>(0.0544,0.201]    </td><td>(0.106,0.193]     </td><td>(0.0622,0.0975]   </td><td>...               </td><td>(29.1,47.2]       </td><td>(110,251]         </td><td>(856,4.26e+03]    </td><td>(0.144,0.223]     </td><td>(0.297,0.939]     </td><td>(0.329,1.25]      </td><td>(0.134,0.291]     </td><td>(0.156,0.32]      </td><td>(0.0551,0.0902]   </td><td>M                 </td></tr>\n",
       "\t<tr><th scope=row>532</th><td>(6.96,14.8]       </td><td>(9.68,21.5]       </td><td>(43.6,95.8]       </td><td>(141,679]         </td><td>(0.0525,0.103]    </td><td>(0.0262,0.121]    </td><td>(-0.000427,0.103] </td><td>(-0.000201,0.0544]</td><td>(0.106,0.193]     </td><td>(0.0622,0.0975]   </td><td>...               </td><td>(12,29.1]         </td><td>(50.2,110]        </td><td>(181,856]         </td><td>(0.144,0.223]     </td><td>(0.0424,0.297]    </td><td>(-0.00125,0.329]  </td><td>(-0.000291,0.134] </td><td>(0.32,0.664]      </td><td>(0.0551,0.0902]   </td><td>B                 </td></tr>\n",
       "\t<tr><th scope=row>26</th><td>(14.8,28.1]       </td><td>(9.68,21.5]       </td><td>(95.8,189]        </td><td>(679,2.5e+03]     </td><td>(0.103,0.164]     </td><td>(0.121,0.346]     </td><td>(0.103,0.427]     </td><td>(0.0544,0.201]    </td><td>(0.193,0.304]     </td><td>(0.0622,0.0975]   </td><td>...               </td><td>(12,29.1]         </td><td>(110,251]         </td><td>(856,4.26e+03]    </td><td>(0.144,0.223]     </td><td>(0.297,0.939]     </td><td>(0.329,1.25]      </td><td>(0.134,0.291]     </td><td>(0.32,0.664]      </td><td>(0.0902,0.173]    </td><td>M                 </td></tr>\n",
       "</tbody>\n",
       "</table>\n"
      ],
      "text/latex": [
       "\\begin{tabular}{r|lllllllllllllllllllllllllllllll}\n",
       "  & mean radius & mean texture & mean perimeter & mean area & mean smoothness & mean compactness & mean concavity & mean concave points & mean symmetry & mean fractal dimension & ... & worst texture & worst perimeter & worst area & worst smoothness & worst compactness & worst concavity & worst concave points & worst symmetry & worst fractal dimension & diagnosis\\\\\n",
       "\\hline\n",
       "\t164 & (6.96,14.8{]}        & (21.5,39.3{]}        & (43.6,95.8{]}        & (141,679{]}          & (0.0525,0.103{]}     & (0.0262,0.121{]}     & (-0.000427,0.103{]}  & (-0.000201,0.0544{]} & (0.106,0.193{]}      & (0.0622,0.0975{]}    & ...                  & (12,29.1{]}          & (50.2,110{]}         & (181,856{]}          & (0.144,0.223{]}      & (0.0424,0.297{]}     & (-0.00125,0.329{]}   & (-0.000291,0.134{]}  & (0.156,0.32{]}       & (0.0902,0.173{]}     & B                   \\\\\n",
       "\t448 & (6.96,14.8{]}        & (9.68,21.5{]}        & (95.8,189{]}         & (141,679{]}          & (0.0525,0.103{]}     & (0.0262,0.121{]}     & (-0.000427,0.103{]}  & (-0.000201,0.0544{]} & (0.106,0.193{]}      & (0.0499,0.0622{]}    & ...                  & (12,29.1{]}          & (50.2,110{]}         & (181,856{]}          & (0.0847,0.144{]}     & (0.0424,0.297{]}     & (-0.00125,0.329{]}   & (-0.000291,0.134{]}  & (0.32,0.664{]}       & (0.0551,0.0902{]}    & B                   \\\\\n",
       "\t232 & (6.96,14.8{]}        & (21.5,39.3{]}        & (43.6,95.8{]}        & (141,679{]}          & (0.0525,0.103{]}     & (0.0262,0.121{]}     & (-0.000427,0.103{]}  & (-0.000201,0.0544{]} & (0.106,0.193{]}      & (0.0499,0.0622{]}    & ...                  & (29.1,47.2{]}        & (50.2,110{]}         & (181,856{]}          & (0.0847,0.144{]}     & (0.0424,0.297{]}     & (-0.00125,0.329{]}   & (-0.000291,0.134{]}  & (0.156,0.32{]}       & (0.0551,0.0902{]}    & B                   \\\\\n",
       "\t500 & (14.8,28.1{]}        & (9.68,21.5{]}        & (95.8,189{]}         & (679,2.5e+03{]}      & (0.103,0.164{]}      & (0.121,0.346{]}      & (0.103,0.427{]}      & (0.0544,0.201{]}     & (0.106,0.193{]}      & (0.0622,0.0975{]}    & ...                  & (29.1,47.2{]}        & (110,251{]}          & (856,4.26e+03{]}     & (0.144,0.223{]}      & (0.297,0.939{]}      & (0.329,1.25{]}       & (0.134,0.291{]}      & (0.156,0.32{]}       & (0.0551,0.0902{]}    & M                   \\\\\n",
       "\t532 & (6.96,14.8{]}        & (9.68,21.5{]}        & (43.6,95.8{]}        & (141,679{]}          & (0.0525,0.103{]}     & (0.0262,0.121{]}     & (-0.000427,0.103{]}  & (-0.000201,0.0544{]} & (0.106,0.193{]}      & (0.0622,0.0975{]}    & ...                  & (12,29.1{]}          & (50.2,110{]}         & (181,856{]}          & (0.144,0.223{]}      & (0.0424,0.297{]}     & (-0.00125,0.329{]}   & (-0.000291,0.134{]}  & (0.32,0.664{]}       & (0.0551,0.0902{]}    & B                   \\\\\n",
       "\t26 & (14.8,28.1{]}        & (9.68,21.5{]}        & (95.8,189{]}         & (679,2.5e+03{]}      & (0.103,0.164{]}      & (0.121,0.346{]}      & (0.103,0.427{]}      & (0.0544,0.201{]}     & (0.193,0.304{]}      & (0.0622,0.0975{]}    & ...                  & (12,29.1{]}          & (110,251{]}          & (856,4.26e+03{]}     & (0.144,0.223{]}      & (0.297,0.939{]}      & (0.329,1.25{]}       & (0.134,0.291{]}      & (0.32,0.664{]}       & (0.0902,0.173{]}     & M                   \\\\\n",
       "\\end{tabular}\n"
      ],
      "text/markdown": [
       "\n",
       "| <!--/--> | mean radius | mean texture | mean perimeter | mean area | mean smoothness | mean compactness | mean concavity | mean concave points | mean symmetry | mean fractal dimension | ... | worst texture | worst perimeter | worst area | worst smoothness | worst compactness | worst concavity | worst concave points | worst symmetry | worst fractal dimension | diagnosis | \n",
       "|---|---|---|---|---|---|\n",
       "| 164 | (6.96,14.8]        | (21.5,39.3]        | (43.6,95.8]        | (141,679]          | (0.0525,0.103]     | (0.0262,0.121]     | (-0.000427,0.103]  | (-0.000201,0.0544] | (0.106,0.193]      | (0.0622,0.0975]    | ...                | (12,29.1]          | (50.2,110]         | (181,856]          | (0.144,0.223]      | (0.0424,0.297]     | (-0.00125,0.329]   | (-0.000291,0.134]  | (0.156,0.32]       | (0.0902,0.173]     | B                  | \n",
       "| 448 | (6.96,14.8]        | (9.68,21.5]        | (95.8,189]         | (141,679]          | (0.0525,0.103]     | (0.0262,0.121]     | (-0.000427,0.103]  | (-0.000201,0.0544] | (0.106,0.193]      | (0.0499,0.0622]    | ...                | (12,29.1]          | (50.2,110]         | (181,856]          | (0.0847,0.144]     | (0.0424,0.297]     | (-0.00125,0.329]   | (-0.000291,0.134]  | (0.32,0.664]       | (0.0551,0.0902]    | B                  | \n",
       "| 232 | (6.96,14.8]        | (21.5,39.3]        | (43.6,95.8]        | (141,679]          | (0.0525,0.103]     | (0.0262,0.121]     | (-0.000427,0.103]  | (-0.000201,0.0544] | (0.106,0.193]      | (0.0499,0.0622]    | ...                | (29.1,47.2]        | (50.2,110]         | (181,856]          | (0.0847,0.144]     | (0.0424,0.297]     | (-0.00125,0.329]   | (-0.000291,0.134]  | (0.156,0.32]       | (0.0551,0.0902]    | B                  | \n",
       "| 500 | (14.8,28.1]        | (9.68,21.5]        | (95.8,189]         | (679,2.5e+03]      | (0.103,0.164]      | (0.121,0.346]      | (0.103,0.427]      | (0.0544,0.201]     | (0.106,0.193]      | (0.0622,0.0975]    | ...                | (29.1,47.2]        | (110,251]          | (856,4.26e+03]     | (0.144,0.223]      | (0.297,0.939]      | (0.329,1.25]       | (0.134,0.291]      | (0.156,0.32]       | (0.0551,0.0902]    | M                  | \n",
       "| 532 | (6.96,14.8]        | (9.68,21.5]        | (43.6,95.8]        | (141,679]          | (0.0525,0.103]     | (0.0262,0.121]     | (-0.000427,0.103]  | (-0.000201,0.0544] | (0.106,0.193]      | (0.0622,0.0975]    | ...                | (12,29.1]          | (50.2,110]         | (181,856]          | (0.144,0.223]      | (0.0424,0.297]     | (-0.00125,0.329]   | (-0.000291,0.134]  | (0.32,0.664]       | (0.0551,0.0902]    | B                  | \n",
       "| 26 | (14.8,28.1]        | (9.68,21.5]        | (95.8,189]         | (679,2.5e+03]      | (0.103,0.164]      | (0.121,0.346]      | (0.103,0.427]      | (0.0544,0.201]     | (0.193,0.304]      | (0.0622,0.0975]    | ...                | (12,29.1]          | (110,251]          | (856,4.26e+03]     | (0.144,0.223]      | (0.297,0.939]      | (0.329,1.25]       | (0.134,0.291]      | (0.32,0.664]       | (0.0902,0.173]     | M                  | \n",
       "\n",
       "\n"
      ],
      "text/plain": [
       "    mean radius mean texture mean perimeter mean area     mean smoothness\n",
       "164 (6.96,14.8] (21.5,39.3]  (43.6,95.8]    (141,679]     (0.0525,0.103] \n",
       "448 (6.96,14.8] (9.68,21.5]  (95.8,189]     (141,679]     (0.0525,0.103] \n",
       "232 (6.96,14.8] (21.5,39.3]  (43.6,95.8]    (141,679]     (0.0525,0.103] \n",
       "500 (14.8,28.1] (9.68,21.5]  (95.8,189]     (679,2.5e+03] (0.103,0.164]  \n",
       "532 (6.96,14.8] (9.68,21.5]  (43.6,95.8]    (141,679]     (0.0525,0.103] \n",
       "26  (14.8,28.1] (9.68,21.5]  (95.8,189]     (679,2.5e+03] (0.103,0.164]  \n",
       "    mean compactness mean concavity    mean concave points mean symmetry\n",
       "164 (0.0262,0.121]   (-0.000427,0.103] (-0.000201,0.0544]  (0.106,0.193]\n",
       "448 (0.0262,0.121]   (-0.000427,0.103] (-0.000201,0.0544]  (0.106,0.193]\n",
       "232 (0.0262,0.121]   (-0.000427,0.103] (-0.000201,0.0544]  (0.106,0.193]\n",
       "500 (0.121,0.346]    (0.103,0.427]     (0.0544,0.201]      (0.106,0.193]\n",
       "532 (0.0262,0.121]   (-0.000427,0.103] (-0.000201,0.0544]  (0.106,0.193]\n",
       "26  (0.121,0.346]    (0.103,0.427]     (0.0544,0.201]      (0.193,0.304]\n",
       "    mean fractal dimension ... worst texture worst perimeter worst area    \n",
       "164 (0.0622,0.0975]        ... (12,29.1]     (50.2,110]      (181,856]     \n",
       "448 (0.0499,0.0622]        ... (12,29.1]     (50.2,110]      (181,856]     \n",
       "232 (0.0499,0.0622]        ... (29.1,47.2]   (50.2,110]      (181,856]     \n",
       "500 (0.0622,0.0975]        ... (29.1,47.2]   (110,251]       (856,4.26e+03]\n",
       "532 (0.0622,0.0975]        ... (12,29.1]     (50.2,110]      (181,856]     \n",
       "26  (0.0622,0.0975]        ... (12,29.1]     (110,251]       (856,4.26e+03]\n",
       "    worst smoothness worst compactness worst concavity  worst concave points\n",
       "164 (0.144,0.223]    (0.0424,0.297]    (-0.00125,0.329] (-0.000291,0.134]   \n",
       "448 (0.0847,0.144]   (0.0424,0.297]    (-0.00125,0.329] (-0.000291,0.134]   \n",
       "232 (0.0847,0.144]   (0.0424,0.297]    (-0.00125,0.329] (-0.000291,0.134]   \n",
       "500 (0.144,0.223]    (0.297,0.939]     (0.329,1.25]     (0.134,0.291]       \n",
       "532 (0.144,0.223]    (0.0424,0.297]    (-0.00125,0.329] (-0.000291,0.134]   \n",
       "26  (0.144,0.223]    (0.297,0.939]     (0.329,1.25]     (0.134,0.291]       \n",
       "    worst symmetry worst fractal dimension diagnosis\n",
       "164 (0.156,0.32]   (0.0902,0.173]          B        \n",
       "448 (0.32,0.664]   (0.0551,0.0902]         B        \n",
       "232 (0.156,0.32]   (0.0551,0.0902]         B        \n",
       "500 (0.156,0.32]   (0.0551,0.0902]         M        \n",
       "532 (0.32,0.664]   (0.0551,0.0902]         B        \n",
       "26  (0.32,0.664]   (0.0902,0.173]          M        "
      ]
     },
     "metadata": {},
     "output_type": "display_data"
    }
   ],
   "source": [
    "# Divide training (80%) and test set (20%)\n",
    "set.seed(123)\n",
    "random <- sample(1:nrow(data), 0.8 * nrow(data))\n",
    "data.train <- optbin(data[random, ])\n",
    "data.test <- data[-random, ]\n",
    "\n",
    "head(data.train)"
   ]
  },
  {
   "cell_type": "code",
   "execution_count": 65,
   "metadata": {},
   "outputs": [
    {
     "name": "stdout",
     "output_type": "stream",
     "text": [
      "\n",
      "    Attribute               Accuracy\n",
      "1 * worst perimeter         92.09%  \n",
      "2   worst concave points    91.87%  \n",
      "3   worst radius            91.21%  \n",
      "4   worst area              90.77%  \n",
      "5   mean concave points     90.33%  \n",
      "6   mean perimeter          87.91%  \n",
      "6   mean area               87.91%  \n",
      "8   mean radius             87.69%  \n",
      "8   mean concavity          87.69%  \n",
      "10  area error              87.25%  \n",
      "11  worst concavity         85.05%  \n",
      "12  radius error            82.86%  \n",
      "13  perimeter error         81.54%  \n",
      "14  worst compactness       80%     \n",
      "15  mean compactness        79.34%  \n",
      "16  worst symmetry          72.31%  \n",
      "17  worst smoothness        71.65%  \n",
      "18  worst texture           71.43%  \n",
      "19  concave points error    70.99%  \n",
      "20  mean texture            70.33%  \n",
      "21  concavity error         68.57%  \n",
      "22  worst fractal dimension 68.35%  \n",
      "23  mean smoothness         67.03%  \n",
      "24  compactness error       66.37%  \n",
      "25  mean symmetry           65.27%  \n",
      "26  mean fractal dimension  62.64%  \n",
      "26  texture error           62.64%  \n",
      "26  smoothness error        62.64%  \n",
      "26  symmetry error          62.64%  \n",
      "26  fractal dimension error 62.64%  \n",
      "---\n",
      "Chosen attribute due to accuracy\n",
      "and ties method (if applicable): '*'\n",
      "\n"
     ]
    }
   ],
   "source": [
    "# Train OneR model on training set\n",
    "model.train <- OneR(data.train, verbose = T)"
   ]
  },
  {
   "cell_type": "code",
   "execution_count": 66,
   "metadata": {},
   "outputs": [
    {
     "name": "stdout",
     "output_type": "stream",
     "text": [
      "\n",
      "Call:\n",
      "OneR.data.frame(x = data.train, verbose = T)\n",
      "\n",
      "Rules:\n",
      "If worst perimeter = (50.2,110] then diagnosis = B\n",
      "If worst perimeter = (110,251]  then diagnosis = M\n",
      "\n",
      "Accuracy:\n",
      "419 of 455 instances classified correctly (92.09%)\n",
      "\n",
      "Contingency table:\n",
      "         worst perimeter\n",
      "diagnosis (50.2,110] (110,251] Sum\n",
      "      B        * 271        14 285\n",
      "      M           22     * 148 170\n",
      "      Sum        293       162 455\n",
      "---\n",
      "Maximum in each column: '*'\n",
      "\n",
      "Pearson's Chi-squared test:\n",
      "X-squared = 309.83, df = 1, p-value < 2.2e-16\n",
      "\n"
     ]
    }
   ],
   "source": [
    "# Show model and diagnostics\n",
    "summary(model.train)"
   ]
  },
  {
   "cell_type": "code",
   "execution_count": 67,
   "metadata": {},
   "outputs": [
    {
     "data": {
      "image/png": "[encoded data removed]",
      "text/plain": [
       "Plot with title \"OneR model diagnostic plot\""
      ]
     },
     "metadata": {},
     "output_type": "display_data"
    }
   ],
   "source": [
    "# Plot model diagnostics\n",
    "plot(model.train)"
   ]
  },
  {
   "cell_type": "code",
   "execution_count": 68,
   "metadata": {},
   "outputs": [
    {
     "name": "stdout",
     "output_type": "stream",
     "text": [
      "\n",
      "Confusion matrix (absolute):\n",
      "          Actual\n",
      "Prediction   B   M Sum\n",
      "       B    68   6  74\n",
      "       M     4  36  40\n",
      "       Sum  72  42 114\n",
      "\n",
      "Confusion matrix (relative):\n",
      "          Actual\n",
      "Prediction    B    M  Sum\n",
      "       B   0.60 0.05 0.65\n",
      "       M   0.04 0.32 0.35\n",
      "       Sum 0.63 0.37 1.00\n",
      "\n",
      "Accuracy:\n",
      "0.9123 (104/114)\n",
      "\n",
      "Error rate:\n",
      "0.0877 (10/114)\n",
      "\n",
      "Error rate reduction (vs. base rate):\n",
      "0.7619 (p-value = 6.554e-12)\n",
      "\n"
     ]
    }
   ],
   "source": [
    "# Use trained model to predict test set\n",
    "prediction <- predict(model.train, data.test)\n",
    "# Evaluate model performance on test set\n",
    "eval_model(prediction, data.test)"
   ]
  },
  {
   "cell_type": "markdown",
   "metadata": {},
   "source": [
    "## 2. UCI Adult Dataset Analysis"
   ]
  },
  {
   "cell_type": "code",
   "execution_count": 91,
   "metadata": {},
   "outputs": [],
   "source": [
    "df <- read.csv(\"https://archive.ics.uci.edu/ml/machine-learning-databases/adult/adult.data\", header = FALSE)\n",
    "colnames(df) <- c(\"Age\", \"Work_Class\", \"Sampling_Weight\", \"Highest_Education\", \"Education_Num\", \n",
    "                  \"Martial_Status\", \"Occupation\", \"Relationship\", \"Race\", \"Sex\", \"Cap_Gain\", \"Cap_Loss\",\n",
    "                  \"Hours_Per_Week\", \"Native_Country\", \"Income\")"
   ]
  },
  {
   "cell_type": "code",
   "execution_count": 93,
   "metadata": {},
   "outputs": [
    {
     "data": {
      "text/html": [
       "<table>\n",
       "<thead><tr><th scope=col>Age</th><th scope=col>Work_Class</th><th scope=col>Sampling_Weight</th><th scope=col>Highest_Education</th><th scope=col>Education_Num</th><th scope=col>Martial_Status</th><th scope=col>Occupation</th><th scope=col>Relationship</th><th scope=col>Race</th><th scope=col>Sex</th><th scope=col>Cap_Gain</th><th scope=col>Cap_Loss</th><th scope=col>Hours_Per_Week</th><th scope=col>Native_Country</th><th scope=col>Income</th></tr></thead>\n",
       "<tbody>\n",
       "\t<tr><td>39                                                         </td><td><span style=white-space:pre-wrap> State-gov       </span>  </td><td> 77516                                                     </td><td> Bachelors                                                 </td><td>13                                                         </td><td><span style=white-space:pre-wrap> Never-married     </span></td><td><span style=white-space:pre-wrap> Adm-clerical     </span> </td><td> Not-in-family                                             </td><td> White                                                     </td><td><span style=white-space:pre-wrap> Male  </span>            </td><td>2174                                                       </td><td>0                                                          </td><td>40                                                         </td><td> United-States                                             </td><td> &lt;=50K                                                  </td></tr>\n",
       "\t<tr><td>50                                                        </td><td> Self-emp-not-inc                                         </td><td> 83311                                                    </td><td> Bachelors                                                </td><td>13                                                        </td><td> Married-civ-spouse                                       </td><td><span style=white-space:pre-wrap> Exec-managerial  </span></td><td><span style=white-space:pre-wrap> Husband      </span>    </td><td> White                                                    </td><td><span style=white-space:pre-wrap> Male  </span>           </td><td><span style=white-space:pre-wrap>   0</span>              </td><td>0                                                         </td><td>13                                                        </td><td> United-States                                            </td><td> &lt;=50K                                                 </td></tr>\n",
       "\t<tr><td>38                                                         </td><td><span style=white-space:pre-wrap> Private         </span>  </td><td>215646                                                     </td><td><span style=white-space:pre-wrap> HS-grad  </span>         </td><td> 9                                                         </td><td><span style=white-space:pre-wrap> Divorced          </span></td><td> Handlers-cleaners                                         </td><td> Not-in-family                                             </td><td> White                                                     </td><td><span style=white-space:pre-wrap> Male  </span>            </td><td><span style=white-space:pre-wrap>   0</span>               </td><td>0                                                          </td><td>40                                                         </td><td> United-States                                             </td><td> &lt;=50K                                                  </td></tr>\n",
       "\t<tr><td>53                                                       </td><td><span style=white-space:pre-wrap> Private         </span></td><td>234721                                                   </td><td><span style=white-space:pre-wrap> 11th     </span>       </td><td> 7                                                       </td><td> Married-civ-spouse                                      </td><td> Handlers-cleaners                                       </td><td><span style=white-space:pre-wrap> Husband      </span>   </td><td> Black                                                   </td><td><span style=white-space:pre-wrap> Male  </span>          </td><td><span style=white-space:pre-wrap>   0</span>             </td><td>0                                                        </td><td>40                                                       </td><td> United-States                                           </td><td> &lt;=50K                                                </td></tr>\n",
       "\t<tr><td>28                                                        </td><td><span style=white-space:pre-wrap> Private         </span> </td><td>338409                                                    </td><td> Bachelors                                                </td><td>13                                                        </td><td> Married-civ-spouse                                       </td><td><span style=white-space:pre-wrap> Prof-specialty   </span></td><td><span style=white-space:pre-wrap> Wife         </span>    </td><td> Black                                                    </td><td> Female                                                   </td><td><span style=white-space:pre-wrap>   0</span>              </td><td>0                                                         </td><td>40                                                        </td><td><span style=white-space:pre-wrap> Cuba         </span>    </td><td> &lt;=50K                                                 </td></tr>\n",
       "\t<tr><td>37                                                        </td><td><span style=white-space:pre-wrap> Private         </span> </td><td>284582                                                    </td><td><span style=white-space:pre-wrap> Masters  </span>        </td><td>14                                                        </td><td> Married-civ-spouse                                       </td><td><span style=white-space:pre-wrap> Exec-managerial  </span></td><td><span style=white-space:pre-wrap> Wife         </span>    </td><td> White                                                    </td><td> Female                                                   </td><td><span style=white-space:pre-wrap>   0</span>              </td><td>0                                                         </td><td>40                                                        </td><td> United-States                                            </td><td> &lt;=50K                                                 </td></tr>\n",
       "</tbody>\n",
       "</table>\n"
      ],
      "text/latex": [
       "\\begin{tabular}{r|lllllllllllllll}\n",
       " Age & Work\\_Class & Sampling\\_Weight & Highest\\_Education & Education\\_Num & Martial\\_Status & Occupation & Relationship & Race & Sex & Cap\\_Gain & Cap\\_Loss & Hours\\_Per\\_Week & Native\\_Country & Income\\\\\n",
       "\\hline\n",
       "\t 39                  &  State-gov          &  77516              &  Bachelors          & 13                  &  Never-married      &  Adm-clerical       &  Not-in-family      &  White              &  Male               & 2174                & 0                   & 40                  &  United-States      &  <=50K             \\\\\n",
       "\t 50                  &  Self-emp-not-inc   &  83311              &  Bachelors          & 13                  &  Married-civ-spouse &  Exec-managerial    &  Husband            &  White              &  Male               &    0                & 0                   & 13                  &  United-States      &  <=50K             \\\\\n",
       "\t 38                  &  Private            & 215646              &  HS-grad            &  9                  &  Divorced           &  Handlers-cleaners  &  Not-in-family      &  White              &  Male               &    0                & 0                   & 40                  &  United-States      &  <=50K             \\\\\n",
       "\t 53                  &  Private            & 234721              &  11th               &  7                  &  Married-civ-spouse &  Handlers-cleaners  &  Husband            &  Black              &  Male               &    0                & 0                   & 40                  &  United-States      &  <=50K             \\\\\n",
       "\t 28                  &  Private            & 338409              &  Bachelors          & 13                  &  Married-civ-spouse &  Prof-specialty     &  Wife               &  Black              &  Female             &    0                & 0                   & 40                  &  Cuba               &  <=50K             \\\\\n",
       "\t 37                  &  Private            & 284582              &  Masters            & 14                  &  Married-civ-spouse &  Exec-managerial    &  Wife               &  White              &  Female             &    0                & 0                   & 40                  &  United-States      &  <=50K             \\\\\n",
       "\\end{tabular}\n"
      ],
      "text/markdown": [
       "\n",
       "Age | Work_Class | Sampling_Weight | Highest_Education | Education_Num | Martial_Status | Occupation | Relationship | Race | Sex | Cap_Gain | Cap_Loss | Hours_Per_Week | Native_Country | Income | \n",
       "|---|---|---|---|---|---|\n",
       "| 39                  |  State-gov          |  77516              |  Bachelors          | 13                  |  Never-married      |  Adm-clerical       |  Not-in-family      |  White              |  Male               | 2174                | 0                   | 40                  |  United-States      |  <=50K              | \n",
       "| 50                  |  Self-emp-not-inc   |  83311              |  Bachelors          | 13                  |  Married-civ-spouse |  Exec-managerial    |  Husband            |  White              |  Male               |    0                | 0                   | 13                  |  United-States      |  <=50K              | \n",
       "| 38                  |  Private            | 215646              |  HS-grad            |  9                  |  Divorced           |  Handlers-cleaners  |  Not-in-family      |  White              |  Male               |    0                | 0                   | 40                  |  United-States      |  <=50K              | \n",
       "| 53                  |  Private            | 234721              |  11th               |  7                  |  Married-civ-spouse |  Handlers-cleaners  |  Husband            |  Black              |  Male               |    0                | 0                   | 40                  |  United-States      |  <=50K              | \n",
       "| 28                  |  Private            | 338409              |  Bachelors          | 13                  |  Married-civ-spouse |  Prof-specialty     |  Wife               |  Black              |  Female             |    0                | 0                   | 40                  |  Cuba               |  <=50K              | \n",
       "| 37                  |  Private            | 284582              |  Masters            | 14                  |  Married-civ-spouse |  Exec-managerial    |  Wife               |  White              |  Female             |    0                | 0                   | 40                  |  United-States      |  <=50K              | \n",
       "\n",
       "\n"
      ],
      "text/plain": [
       "  Age Work_Class        Sampling_Weight Highest_Education Education_Num\n",
       "1 39   State-gov         77516           Bachelors        13           \n",
       "2 50   Self-emp-not-inc  83311           Bachelors        13           \n",
       "3 38   Private          215646           HS-grad           9           \n",
       "4 53   Private          234721           11th              7           \n",
       "5 28   Private          338409           Bachelors        13           \n",
       "6 37   Private          284582           Masters          14           \n",
       "  Martial_Status      Occupation         Relationship   Race   Sex     Cap_Gain\n",
       "1  Never-married       Adm-clerical       Not-in-family  White  Male   2174    \n",
       "2  Married-civ-spouse  Exec-managerial    Husband        White  Male      0    \n",
       "3  Divorced            Handlers-cleaners  Not-in-family  White  Male      0    \n",
       "4  Married-civ-spouse  Handlers-cleaners  Husband        Black  Male      0    \n",
       "5  Married-civ-spouse  Prof-specialty     Wife           Black  Female    0    \n",
       "6  Married-civ-spouse  Exec-managerial    Wife           White  Female    0    \n",
       "  Cap_Loss Hours_Per_Week Native_Country Income\n",
       "1 0        40              United-States  <=50K\n",
       "2 0        13              United-States  <=50K\n",
       "3 0        40              United-States  <=50K\n",
       "4 0        40              United-States  <=50K\n",
       "5 0        40              Cuba           <=50K\n",
       "6 0        40              United-States  <=50K"
      ]
     },
     "metadata": {},
     "output_type": "display_data"
    }
   ],
   "source": [
    "head(df)"
   ]
  },
  {
   "cell_type": "code",
   "execution_count": 94,
   "metadata": {},
   "outputs": [
    {
     "data": {
      "text/html": [
       "<table>\n",
       "<thead><tr><th></th><th scope=col>Age</th><th scope=col>Work_Class</th><th scope=col>Sampling_Weight</th><th scope=col>Highest_Education</th><th scope=col>Education_Num</th><th scope=col>Martial_Status</th><th scope=col>Occupation</th><th scope=col>Relationship</th><th scope=col>Race</th><th scope=col>Sex</th><th scope=col>Cap_Gain</th><th scope=col>Cap_Loss</th><th scope=col>Hours_Per_Week</th><th scope=col>Native_Country</th><th scope=col>Income</th></tr></thead>\n",
       "<tbody>\n",
       "\t<tr><th scope=row>9364</th><td>(16.9,44.3]                                                </td><td><span style=white-space:pre-wrap> Private         </span>  </td><td>(1.87e+05,1.49e+06]                                        </td><td> HS-grad                                                   </td><td>(0.985,11.6]                                               </td><td> Married-civ-spouse                                        </td><td><span style=white-space:pre-wrap> Other-service  </span>   </td><td><span style=white-space:pre-wrap> Husband      </span>     </td><td><span style=white-space:pre-wrap> White             </span></td><td><span style=white-space:pre-wrap> Male  </span>            </td><td>(-100,3.97e+03]                                            </td><td>(-4.36,193]                                                </td><td>(0.902,45.5]                                               </td><td> United-States                                             </td><td> &lt;=50K                                                  </td></tr>\n",
       "\t<tr><th scope=row>25668</th><td>(16.9,44.3]                                                </td><td><span style=white-space:pre-wrap> Private         </span>  </td><td>(1.08e+04,1.87e+05]                                        </td><td> HS-grad                                                   </td><td>(0.985,11.6]                                               </td><td> Married-civ-spouse                                        </td><td><span style=white-space:pre-wrap> Craft-repair   </span>   </td><td><span style=white-space:pre-wrap> Husband      </span>     </td><td><span style=white-space:pre-wrap> White             </span></td><td><span style=white-space:pre-wrap> Male  </span>            </td><td>(-100,3.97e+03]                                            </td><td>(-4.36,193]                                                </td><td>(45.5,99.1]                                                </td><td> United-States                                             </td><td> &lt;=50K                                                  </td></tr>\n",
       "\t<tr><th scope=row>13316</th><td>(16.9,44.3]                                                </td><td><span style=white-space:pre-wrap> Private         </span>  </td><td>(1.08e+04,1.87e+05]                                        </td><td> HS-grad                                                   </td><td>(0.985,11.6]                                               </td><td><span style=white-space:pre-wrap> Never-married     </span></td><td> Exec-managerial                                           </td><td><span style=white-space:pre-wrap> Own-child    </span>     </td><td><span style=white-space:pre-wrap> Other             </span></td><td> Female                                                    </td><td>(-100,3.97e+03]                                            </td><td>(-4.36,193]                                                </td><td>(0.902,45.5]                                               </td><td><span style=white-space:pre-wrap> Mexico       </span>     </td><td> &lt;=50K                                                  </td></tr>\n",
       "\t<tr><th scope=row>28750</th><td>(44.3,90.1]                                                </td><td> Self-emp-not-inc                                          </td><td>(1.08e+04,1.87e+05]                                        </td><td> 5th-6th                                                   </td><td>(0.985,11.6]                                               </td><td><span style=white-space:pre-wrap> Never-married     </span></td><td><span style=white-space:pre-wrap> Tech-support   </span>   </td><td> Not-in-family                                             </td><td> Asian-Pac-Islander                                        </td><td> Female                                                    </td><td>(-100,3.97e+03]                                            </td><td>(-4.36,193]                                                </td><td>(0.902,45.5]                                               </td><td> United-States                                             </td><td> &lt;=50K                                                  </td></tr>\n",
       "\t<tr><th scope=row>30619</th><td>(16.9,44.3]                                                </td><td><span style=white-space:pre-wrap> Private         </span>  </td><td>(1.87e+05,1.49e+06]                                        </td><td> HS-grad                                                   </td><td>(0.985,11.6]                                               </td><td><span style=white-space:pre-wrap> Never-married     </span></td><td><span style=white-space:pre-wrap> Other-service  </span>   </td><td> Not-in-family                                             </td><td><span style=white-space:pre-wrap> White             </span></td><td> Female                                                    </td><td>(-100,3.97e+03]                                            </td><td>(-4.36,193]                                                </td><td>(0.902,45.5]                                               </td><td> United-States                                             </td><td> &lt;=50K                                                  </td></tr>\n",
       "\t<tr><th scope=row>1484</th><td>(16.9,44.3]                                                </td><td><span style=white-space:pre-wrap> Private         </span>  </td><td>(1.87e+05,1.49e+06]                                        </td><td> HS-grad                                                   </td><td>(0.985,11.6]                                               </td><td><span style=white-space:pre-wrap> Never-married     </span></td><td><span style=white-space:pre-wrap> Craft-repair   </span>   </td><td> Not-in-family                                             </td><td><span style=white-space:pre-wrap> White             </span></td><td><span style=white-space:pre-wrap> Male  </span>            </td><td>(-100,3.97e+03]                                            </td><td>(-4.36,193]                                                </td><td>(0.902,45.5]                                               </td><td> United-States                                             </td><td> &lt;=50K                                                  </td></tr>\n",
       "</tbody>\n",
       "</table>\n"
      ],
      "text/latex": [
       "\\begin{tabular}{r|lllllllllllllll}\n",
       "  & Age & Work\\_Class & Sampling\\_Weight & Highest\\_Education & Education\\_Num & Martial\\_Status & Occupation & Relationship & Race & Sex & Cap\\_Gain & Cap\\_Loss & Hours\\_Per\\_Week & Native\\_Country & Income\\\\\n",
       "\\hline\n",
       "\t9364 & (16.9,44.3{]}         &  Private              & (1.87e+05,1.49e+06{]} &  HS-grad              & (0.985,11.6{]}        &  Married-civ-spouse   &  Other-service        &  Husband              &  White                &  Male                 & (-100,3.97e+03{]}     & (-4.36,193{]}         & (0.902,45.5{]}        &  United-States        &  <=50K               \\\\\n",
       "\t25668 & (16.9,44.3{]}         &  Private              & (1.08e+04,1.87e+05{]} &  HS-grad              & (0.985,11.6{]}        &  Married-civ-spouse   &  Craft-repair         &  Husband              &  White                &  Male                 & (-100,3.97e+03{]}     & (-4.36,193{]}         & (45.5,99.1{]}         &  United-States        &  <=50K               \\\\\n",
       "\t13316 & (16.9,44.3{]}         &  Private              & (1.08e+04,1.87e+05{]} &  HS-grad              & (0.985,11.6{]}        &  Never-married        &  Exec-managerial      &  Own-child            &  Other                &  Female               & (-100,3.97e+03{]}     & (-4.36,193{]}         & (0.902,45.5{]}        &  Mexico               &  <=50K               \\\\\n",
       "\t28750 & (44.3,90.1{]}         &  Self-emp-not-inc     & (1.08e+04,1.87e+05{]} &  5th-6th              & (0.985,11.6{]}        &  Never-married        &  Tech-support         &  Not-in-family        &  Asian-Pac-Islander   &  Female               & (-100,3.97e+03{]}     & (-4.36,193{]}         & (0.902,45.5{]}        &  United-States        &  <=50K               \\\\\n",
       "\t30619 & (16.9,44.3{]}         &  Private              & (1.87e+05,1.49e+06{]} &  HS-grad              & (0.985,11.6{]}        &  Never-married        &  Other-service        &  Not-in-family        &  White                &  Female               & (-100,3.97e+03{]}     & (-4.36,193{]}         & (0.902,45.5{]}        &  United-States        &  <=50K               \\\\\n",
       "\t1484 & (16.9,44.3{]}         &  Private              & (1.87e+05,1.49e+06{]} &  HS-grad              & (0.985,11.6{]}        &  Never-married        &  Craft-repair         &  Not-in-family        &  White                &  Male                 & (-100,3.97e+03{]}     & (-4.36,193{]}         & (0.902,45.5{]}        &  United-States        &  <=50K               \\\\\n",
       "\\end{tabular}\n"
      ],
      "text/markdown": [
       "\n",
       "| <!--/--> | Age | Work_Class | Sampling_Weight | Highest_Education | Education_Num | Martial_Status | Occupation | Relationship | Race | Sex | Cap_Gain | Cap_Loss | Hours_Per_Week | Native_Country | Income | \n",
       "|---|---|---|---|---|---|\n",
       "| 9364 | (16.9,44.3]         |  Private            | (1.87e+05,1.49e+06] |  HS-grad            | (0.985,11.6]        |  Married-civ-spouse |  Other-service      |  Husband            |  White              |  Male               | (-100,3.97e+03]     | (-4.36,193]         | (0.902,45.5]        |  United-States      |  <=50K              | \n",
       "| 25668 | (16.9,44.3]         |  Private            | (1.08e+04,1.87e+05] |  HS-grad            | (0.985,11.6]        |  Married-civ-spouse |  Craft-repair       |  Husband            |  White              |  Male               | (-100,3.97e+03]     | (-4.36,193]         | (45.5,99.1]         |  United-States      |  <=50K              | \n",
       "| 13316 | (16.9,44.3]         |  Private            | (1.08e+04,1.87e+05] |  HS-grad            | (0.985,11.6]        |  Never-married      |  Exec-managerial    |  Own-child          |  Other              |  Female             | (-100,3.97e+03]     | (-4.36,193]         | (0.902,45.5]        |  Mexico             |  <=50K              | \n",
       "| 28750 | (44.3,90.1]         |  Self-emp-not-inc   | (1.08e+04,1.87e+05] |  5th-6th            | (0.985,11.6]        |  Never-married      |  Tech-support       |  Not-in-family      |  Asian-Pac-Islander |  Female             | (-100,3.97e+03]     | (-4.36,193]         | (0.902,45.5]        |  United-States      |  <=50K              | \n",
       "| 30619 | (16.9,44.3]         |  Private            | (1.87e+05,1.49e+06] |  HS-grad            | (0.985,11.6]        |  Never-married      |  Other-service      |  Not-in-family      |  White              |  Female             | (-100,3.97e+03]     | (-4.36,193]         | (0.902,45.5]        |  United-States      |  <=50K              | \n",
       "| 1484 | (16.9,44.3]         |  Private            | (1.87e+05,1.49e+06] |  HS-grad            | (0.985,11.6]        |  Never-married      |  Craft-repair       |  Not-in-family      |  White              |  Male               | (-100,3.97e+03]     | (-4.36,193]         | (0.902,45.5]        |  United-States      |  <=50K              | \n",
       "\n",
       "\n"
      ],
      "text/plain": [
       "      Age         Work_Class        Sampling_Weight     Highest_Education\n",
       "9364  (16.9,44.3]  Private          (1.87e+05,1.49e+06]  HS-grad         \n",
       "25668 (16.9,44.3]  Private          (1.08e+04,1.87e+05]  HS-grad         \n",
       "13316 (16.9,44.3]  Private          (1.08e+04,1.87e+05]  HS-grad         \n",
       "28750 (44.3,90.1]  Self-emp-not-inc (1.08e+04,1.87e+05]  5th-6th         \n",
       "30619 (16.9,44.3]  Private          (1.87e+05,1.49e+06]  HS-grad         \n",
       "1484  (16.9,44.3]  Private          (1.87e+05,1.49e+06]  HS-grad         \n",
       "      Education_Num Martial_Status      Occupation       Relationship  \n",
       "9364  (0.985,11.6]   Married-civ-spouse  Other-service    Husband      \n",
       "25668 (0.985,11.6]   Married-civ-spouse  Craft-repair     Husband      \n",
       "13316 (0.985,11.6]   Never-married       Exec-managerial  Own-child    \n",
       "28750 (0.985,11.6]   Never-married       Tech-support     Not-in-family\n",
       "30619 (0.985,11.6]   Never-married       Other-service    Not-in-family\n",
       "1484  (0.985,11.6]   Never-married       Craft-repair     Not-in-family\n",
       "      Race                Sex     Cap_Gain        Cap_Loss    Hours_Per_Week\n",
       "9364   White               Male   (-100,3.97e+03] (-4.36,193] (0.902,45.5]  \n",
       "25668  White               Male   (-100,3.97e+03] (-4.36,193] (45.5,99.1]   \n",
       "13316  Other               Female (-100,3.97e+03] (-4.36,193] (0.902,45.5]  \n",
       "28750  Asian-Pac-Islander  Female (-100,3.97e+03] (-4.36,193] (0.902,45.5]  \n",
       "30619  White               Female (-100,3.97e+03] (-4.36,193] (0.902,45.5]  \n",
       "1484   White               Male   (-100,3.97e+03] (-4.36,193] (0.902,45.5]  \n",
       "      Native_Country Income\n",
       "9364   United-States  <=50K\n",
       "25668  United-States  <=50K\n",
       "13316  Mexico         <=50K\n",
       "28750  United-States  <=50K\n",
       "30619  United-States  <=50K\n",
       "1484   United-States  <=50K"
      ]
     },
     "metadata": {},
     "output_type": "display_data"
    }
   ],
   "source": [
    "# Divide training (80%) and test set (20%)\n",
    "set.seed(123)\n",
    "random <- sample(1:nrow(df), 0.8 * nrow(df))\n",
    "df.train <- optbin(df[random, ])\n",
    "df.test <- df[-random, ]\n",
    "\n",
    "head(df.train)"
   ]
  },
  {
   "cell_type": "code",
   "execution_count": 95,
   "metadata": {},
   "outputs": [
    {
     "name": "stderr",
     "output_type": "stream",
     "text": [
      "Warning message in OneR.data.frame(df.train, verbose = T):\n",
      "\"data contains unused factor levels\""
     ]
    },
    {
     "name": "stdout",
     "output_type": "stream",
     "text": [
      "\n",
      "    Attribute         Accuracy\n",
      "1 * Cap_Gain          79.91%  \n",
      "2   Highest_Education 78.02%  \n",
      "3   Work_Class        76.19%  \n",
      "4   Cap_Loss          75.91%  \n",
      "5   Age               75.84%  \n",
      "5   Sampling_Weight   75.84%  \n",
      "5   Education_Num     75.84%  \n",
      "5   Martial_Status    75.84%  \n",
      "5   Occupation        75.84%  \n",
      "5   Relationship      75.84%  \n",
      "5   Race              75.84%  \n",
      "5   Sex               75.84%  \n",
      "5   Hours_Per_Week    75.84%  \n",
      "5   Native_Country    75.84%  \n",
      "---\n",
      "Chosen attribute due to accuracy\n",
      "and ties method (if applicable): '*'\n",
      "\n"
     ]
    }
   ],
   "source": [
    "# Train OneR model on training set\n",
    "model.train <- OneR(df.train, verbose = T)"
   ]
  },
  {
   "cell_type": "code",
   "execution_count": 96,
   "metadata": {},
   "outputs": [
    {
     "name": "stdout",
     "output_type": "stream",
     "text": [
      "\n",
      "Call:\n",
      "OneR.data.frame(x = df.train, verbose = T)\n",
      "\n",
      "Rules:\n",
      "If Cap_Gain = (-100,3.97e+03]  then Income =  <=50K\n",
      "If Cap_Gain = (3.97e+03,1e+05] then Income =  >50K\n",
      "\n",
      "Accuracy:\n",
      "20815 of 26048 instances classified correctly (79.91%)\n",
      "\n",
      "Contingency table:\n",
      "        Cap_Gain\n",
      "Income   (-100,3.97e+03] (3.97e+03,1e+05]   Sum\n",
      "   <=50K         * 19522              233 19755\n",
      "   >50K             5000           * 1293  6293\n",
      "  Sum              24522             1526 26048\n",
      "---\n",
      "Maximum in each column: '*'\n",
      "\n",
      "Pearson's Chi-squared test:\n",
      "X-squared = 3242.4, df = 1, p-value < 2.2e-16\n",
      "\n"
     ]
    }
   ],
   "source": [
    "# Show model and diagnostics\n",
    "summary(model.train)"
   ]
  },
  {
   "cell_type": "code",
   "execution_count": 97,
   "metadata": {},
   "outputs": [
    {
     "data": {
      "image/png": "[encoded data removed]",
      "text/plain": [
       "Plot with title \"OneR model diagnostic plot\""
      ]
     },
     "metadata": {},
     "output_type": "display_data"
    }
   ],
   "source": [
    "# Plot model diagnostics\n",
    "plot(model.train)"
   ]
  },
  {
   "cell_type": "code",
   "execution_count": 99,
   "metadata": {},
   "outputs": [
    {
     "name": "stdout",
     "output_type": "stream",
     "text": [
      "\n",
      "Confusion matrix (absolute):\n",
      "          Actual\n",
      "Prediction  <=50K  >50K  Sum\n",
      "     <=50K   4889  1254 6143\n",
      "     >50K      76   294  370\n",
      "    Sum      4965  1548 6513\n",
      "\n",
      "Confusion matrix (relative):\n",
      "          Actual\n",
      "Prediction  <=50K  >50K  Sum\n",
      "     <=50K   0.75  0.19 0.94\n",
      "     >50K    0.01  0.05 0.06\n",
      "    Sum      0.76  0.24 1.00\n",
      "\n",
      "Accuracy:\n",
      "0.7958 (5183/6513)\n",
      "\n",
      "Error rate:\n",
      "0.2042 (1330/6513)\n",
      "\n",
      "Error rate reduction (vs. base rate):\n",
      "0.1408 (p-value = 6.021e-11)\n",
      "\n"
     ]
    }
   ],
   "source": [
    "# Use trained model to predict test set\n",
    "prediction <- predict(model.train, df.test)\n",
    "# Evaluate model performance on test set\n",
    "eval_model(prediction, df.test)"
   ]
  },
  {
   "cell_type": "code",
   "execution_count": null,
   "metadata": {},
   "outputs": [],
   "source": []
  }
 ],
 "metadata": {
  "kernelspec": {
   "display_name": "R",
   "language": "R",
   "name": "ir"
  },
  "language_info": {
   "codemirror_mode": "r",
   "file_extension": ".r",
   "mimetype": "text/x-r-source",
   "name": "R",
   "pygments_lexer": "r",
   "version": "3.4.3"
  }
 },
 "nbformat": 4,
 "nbformat_minor": 2
}

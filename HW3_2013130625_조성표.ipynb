{
 "cells": [
  {
   "cell_type": "markdown",
   "metadata": {},
   "source": [
    "# HW3 - Data Analysis & Make Prediction Models\n",
    "\n",
    "#### Data Science in Korea University, Prof. Jaewoo Kang\n",
    "#### COSE471, Spring 2018\n",
    "#### Due : 6/12 (Tues)  11:59 AM [Before Class Start]"
   ]
  },
  {
   "cell_type": "markdown",
   "metadata": {},
   "source": [
    "## Notice Class schedule\n",
    "<table>\n",
    "  <tr>\n",
    "    <th>Date</th>\n",
    "    <th>Desc.</th>\n",
    "  <tr>\n",
    "    <td>5/29</td>\n",
    "    <td>MID-TERM EXAM & HW#3 Start Date</td>\n",
    "  </tr>\n",
    "  <tr>\n",
    "    <td>5/31</td>\n",
    "    <td>HW#2 Late Hand-In Due Date</td>\n",
    "  </tr>\n",
    "  <tr>\n",
    "    <td>6/12</td>\n",
    "    <td>HW#3 Due Date & HW#4(Project) Start Date</td>\n",
    "  </tr>\n",
    "  <tr>\n",
    "    <td>6/19</td>\n",
    "    <td>HW#3 Late Hand-In Due Date</td>\n",
    "  </tr>\n",
    "  <tr>\n",
    "    <td>6/21</td>\n",
    "    <td>FINAL EXAM(NOT FIXED)</td>\n",
    "  </tr>\n",
    "  <tr>\n",
    "    <td>6/26</td>\n",
    "    <td>HW#4(Project) Due Date(NO LATE HAND-IN)</td>\n",
    "  </tr>\n",
    "</table>"
   ]
  },
  {
   "cell_type": "markdown",
   "metadata": {},
   "source": [
    "## Assignment Credit\n",
    "\n",
    "### Your assignments are 30% of the total score. The scores for each assignment are as follows.\n",
    "- __HW#1: 5%__\n",
    "- __HW#2: 7%__\n",
    "- __HW#3: 8%__\n",
    "- __HW#4(Project): 10%__"
   ]
  },
  {
   "cell_type": "markdown",
   "metadata": {},
   "source": [
    "## Python Assingment HW3 Guide\n",
    "- You need to fill out your code in ###YOUR CODE HERE### or #TODO.\n",
    "- The code results should be the same as the results displayed below the code or the format we gave in problem description.\n",
    "- When solving descriptive problems, both __Korean and English are available.__\n",
    "- The some libraries are already imported below. __But you should import more.__\n",
    "    - If you don't have some libraries, install it with pip or conda command. [Google will help you]"
   ]
  },
  {
   "cell_type": "markdown",
   "metadata": {},
   "source": [
    "## Problem1. Scikit-learn\n",
    "- Scikit-learn is the most common python library in machine learning.\n",
    "- Let's port our work from matplotlib to scikit-learn.\n",
    "- However, not all plots will be handled. We will focus on the most recent data, 2000-2015.\n",
    "\n",
    "<b>URL:</b> http://scikit-learn.org/\n",
    "<br/><b>Install guide:</b> http://scikit-learn.org/stable/install.html"
   ]
  },
  {
   "cell_type": "code",
   "execution_count": 1,
   "metadata": {},
   "outputs": [],
   "source": [
    "import pandas as pd\n",
    "import numpy as np\n",
    "import matplotlib.pyplot as plt\n",
    "%matplotlib inline\n",
    "\n",
    "from sklearn.linear_model import LinearRegression\n",
    "from sklearn.metrics import mean_squared_error"
   ]
  },
  {
   "cell_type": "markdown",
   "metadata": {},
   "source": [
    "### Problem 1-1 Applying the linear regression model of scikit-learn to our data\n",
    "- Information about the various model api is available at the following url:<br/>&nbsp;&nbsp;&nbsp;&nbsp;&nbsp;&nbsp;http://scikit-learn.org/stable/modules/classes.html\n",
    "- Apply regression model for 2000-2015 data only.\n",
    "- You should use same datasets in HW#2[infant mortality rate and GDP]\n",
    "- xData : GDP per capita\n",
    "- yData : Infant morality rate \n",
    "- Please print __MSE__ of implemented model."
   ]
  },
  {
   "cell_type": "code",
   "execution_count": 2,
   "metadata": {},
   "outputs": [],
   "source": [
    "#load data and filtering data (2000-2015) you can use HW#2 preprocessing code\n",
    "###YOUR CODE HERE###\n",
    "# remove row which has 'NaN' values\n",
    "gdp_tsv = pd.read_csv('GDPperCapByTab.txt',sep='\\t',index_col=0).dropna()\n",
    "\n",
    "# Drop everything but \"name of country\" and \"data by year(2000 ~ 2015)\"\n",
    "gdp_tsv1 = gdp_tsv.iloc[:,24:34]\n",
    "gdp_tsv2 = gdp_tsv.iloc[:,34:-1]\n",
    "\n",
    "# modify data type as float type, \n",
    "gdp_tsv1 = gdp_tsv1.replace(',','', regex=True).astype(float)\n",
    "gdp_tsv2 = gdp_tsv2.replace(',','', regex=True).astype(float)\n",
    "# group every 5/6 columns and get median values; convert them to int types, and rename names of columns\n",
    "gdp_tsv1 = gdp_tsv1.groupby(np.arange(len(gdp_tsv1.columns))//5, axis=1).median().astype('int64')\n",
    "gdp_tsv2 = gdp_tsv2.groupby(np.arange(len(gdp_tsv2.columns))//6, axis=1).median().astype('int64')\n",
    "\n",
    "result_gdp = pd.concat([gdp_tsv1, gdp_tsv2], axis=1)\n",
    "result_gdp.columns = ['2000-2005', '2005-2010', '2010-2015']\n",
    "\n",
    "IMtsv = pd.read_csv('InfantMortalityByTab.txt',sep='\\t',index_col=0)\n",
    "result_IM = IMtsv.drop(IMtsv.columns[0:10], axis=1)\n",
    "\n",
    "# Delete country row from DroppedIMtsv & resulttsv until the two tables include same number of countries\n",
    "result_IM = result_IM[result_IM.index.isin(result_gdp.index)]\n",
    "result_gdp = result_gdp[result_gdp.index.isin(result_IM.index)]\n",
    "\n",
    "# Concatenate 3 columns into one, and remove 'Country' index from GDP tsv\n",
    "final_gdp = pd.concat([result_gdp['2000-2005'], result_gdp['2005-2010'], result_gdp['2010-2015']]).to_frame()\n",
    "final_IM = pd.concat([result_IM['2000-2005'], result_IM['2005-2010'], result_IM['2010-2015']]).to_frame()\n",
    "\n",
    "final_gdp.columns = ['2000-2015']\n",
    "final_IM.columns = ['2000-2015']"
   ]
  },
  {
   "cell_type": "code",
   "execution_count": 3,
   "metadata": {},
   "outputs": [
    {
     "name": "stdout",
     "output_type": "stream",
     "text": [
      "MSE - scikit learn linear regression:  635.0250787937521\n"
     ]
    }
   ],
   "source": [
    "lr = LinearRegression()\n",
    "\n",
    "# convert 1D array xData(342,) to 2D array xData(342, 1)\n",
    "xData = final_gdp['2000-2015'].values[:, np.newaxis]\n",
    "yData = final_IM['2000-2015'].values\n",
    "\n",
    "#TODO\n",
    "lr.fit(xData, yData)\n",
    "y_pred = lr.predict(xData)\n",
    "\n",
    "print (\"MSE - scikit learn linear regression: \", mean_squared_error(lr.predict(xData), yData))"
   ]
  },
  {
   "cell_type": "markdown",
   "metadata": {},
   "source": [
    "### Problem 1-2 Expanded to polynomial regression\n",
    "- Let's look at the performance change by changing the degree in 0-9.\n",
    "- Normalization should also be followed.\n",
    "\n",
    "*hint: You can use an additional API to implement the polynomial regression model.*"
   ]
  },
  {
   "cell_type": "code",
   "execution_count": 4,
   "metadata": {},
   "outputs": [
    {
     "name": "stdout",
     "output_type": "stream",
     "text": [
      "MSE - poly-linear regression; degree= 0 :  908.2880607639959\n",
      "MSE - poly-linear regression; degree= 1 :  635.0250787937521\n",
      "MSE - poly-linear regression; degree= 2 :  527.2070887274822\n",
      "MSE - poly-linear regression; degree= 3 :  445.0779259343032\n",
      "MSE - poly-linear regression; degree= 4 :  398.3763940853926\n",
      "MSE - poly-linear regression; degree= 5 :  358.2493964065132\n",
      "MSE - poly-linear regression; degree= 6 :  333.5783640029589\n",
      "MSE - poly-linear regression; degree= 7 :  317.1575263971416\n",
      "MSE - poly-linear regression; degree= 8 :  305.9627071601355\n",
      "MSE - poly-linear regression; degree= 9 :  300.29535640939366\n"
     ]
    }
   ],
   "source": [
    "#TODO: import api(s) to implement the polynomial regression model\n",
    "from sklearn.preprocessing import PolynomialFeatures\n",
    "from sklearn.pipeline import make_pipeline\n",
    "from sklearn.preprocessing import normalize\n",
    "\n",
    "# Scale individual samples to have unit norm\n",
    "x_normalized = normalize(xData, norm='l2', axis=0)\n",
    "\n",
    "for deg in range(10):\n",
    "    # This pipeline takes our xData, creates polynomial features, and does a linear fit on them.\n",
    "    PolynomialRegression = make_pipeline(PolynomialFeatures(degree=deg), LinearRegression(normalize=True))\n",
    "    \n",
    "    # Then we can treat this like a single model and not explicitly worry about the steps.\n",
    "    plr = PolynomialRegression.fit(x_normalized, yData)\n",
    "    print (\"MSE - poly-linear regression; degree=\", deg,\": \", mean_squared_error(plr.predict(x_normalized), yData))"
   ]
  },
  {
   "cell_type": "markdown",
   "metadata": {},
   "source": [
    "### Problem 1-3 The change in performance according to the degree can be confirmed. Is performance improvement reliable? Describe the problem of current method."
   ]
  },
  {
   "cell_type": "markdown",
   "metadata": {},
   "source": [
    "### YOUR ANSWER HERE ###\n",
    "\n"
   ]
  },
  {
   "cell_type": "markdown",
   "metadata": {},
   "source": [
    "**현재 방법의 문제: Train-test split를 하지 않았다.**\n",
    "\n",
    "위에서 확인할 수 있는 것처럼 다항 차수를 높이면 높일수록, MSE가 낮아지며 모델이 데이터에 잘 맞게 된다. 그러나 이는 과적합(Overfitting)으로 이어져, traning data인 xData에는 매우 잘 맞지만 새로운 Data에 대해서는 잘 예측하지 못하는 문제가 생긴다.\n",
    "\n",
    "그래서 \"다른 데이터\"를 사용해 모델을 평가하고, 파라미터를 조정하는 작업이 필요하다. 이는 주어진 데이터를 traning data와 test data로 나누어 학습 모델을 학습하고, 검증해야 한다. test data에 대해서도 좋은 성능을 보이면 학습 모델이 잘 동작하고 있다는 좋은 신호이다."
   ]
  },
  {
   "cell_type": "markdown",
   "metadata": {},
   "source": [
    "### Problem 1-4 To solve the problem mentioned above, you must divide the train set and the test set. Try experimenting by assigning 20% of the total sample to a test set.\n",
    "- Please print MSEs of implemented model, for both of training and test set.\n",
    "- Degree is the same as the previous experiment, 0-9.\n",
    "\n",
    "*hint: Implementing it yourself can be a good experience, but using scikit-learn would make it easy to solve this problem.*"
   ]
  },
  {
   "cell_type": "code",
   "execution_count": 8,
   "metadata": {},
   "outputs": [
    {
     "name": "stdout",
     "output_type": "stream",
     "text": [
      "MSE - sklearn poly-linear regression; degree= 0 \n",
      "\ttrain:  821.623686511291 ,\tval:  1257.1836112112762\n",
      "MSE - sklearn poly-linear regression; degree= 1 \n",
      "\ttrain:  591.2181264988642 ,\tval:  1066.5972174055887\n",
      "MSE - sklearn poly-linear regression; degree= 2 \n",
      "\ttrain:  491.7717743523634 ,\tval:  808.9962430034154\n",
      "MSE - sklearn poly-linear regression; degree= 3 \n",
      "\ttrain:  419.30299934232454 ,\tval:  1043.1507158990225\n",
      "MSE - sklearn poly-linear regression; degree= 4 \n",
      "\ttrain:  377.21950701574826 ,\tval:  1629.7937851928662\n",
      "MSE - sklearn poly-linear regression; degree= 5 \n",
      "\ttrain:  339.9151358720186 ,\tval:  4150.747985466091\n",
      "MSE - sklearn poly-linear regression; degree= 6 \n",
      "\ttrain:  315.6591328902933 ,\tval:  12812.614996720053\n",
      "MSE - sklearn poly-linear regression; degree= 7 \n",
      "\ttrain:  299.1136738675626 ,\tval:  51285.84530268707\n",
      "MSE - sklearn poly-linear regression; degree= 8 \n",
      "\ttrain:  288.0338592586453 ,\tval:  329864.5520371606\n",
      "MSE - sklearn poly-linear regression; degree= 9 \n",
      "\ttrain:  282.3950444575969 ,\tval:  1168792.2478648908\n"
     ]
    }
   ],
   "source": [
    "#TODO: import API for deviding training and test set\n",
    "from sklearn.model_selection import train_test_split\n",
    "\n",
    "x_train, x_val, y_train, y_val = train_test_split(xData, yData, test_size=0.2, shuffle=True)\n",
    "\n",
    "for deg in range(10):\n",
    "    PolynomialRegression = make_pipeline(PolynomialFeatures(degree=deg), LinearRegression(normalize=True))\n",
    "    \n",
    "    # You should normalize train and val data respectively after split.\n",
    "    x_train_norm = normalize(x_train, norm='l2', axis=0)\n",
    "    plr = PolynomialRegression.fit(x_train_norm, y_train)\n",
    "    x_val_norm = normalize(x_val, norm='l2', axis=0)\n",
    "    \n",
    "    print (\"MSE - sklearn poly-linear regression; degree=\", deg,\"\\n\\ttrain: \", mean_squared_error(plr.predict(x_train_norm), y_train), \",\\tval: \", mean_squared_error(plr.predict(x_val_norm), y_val))"
   ]
  },
  {
   "cell_type": "markdown",
   "metadata": {},
   "source": [
    "### Problem 1-5 We currently use only one feature called GDP per capita. If you want to improve performance, you will need to add features. Present other valid features and describe why you think so. \n",
    "- You only need to collect the URL. You do not need to collect data or conduct further experiments."
   ]
  },
  {
   "cell_type": "markdown",
   "metadata": {},
   "source": [
    "### YOUR ANSWER HERE ###"
   ]
  },
  {
   "cell_type": "markdown",
   "metadata": {},
   "source": [
    "**World Bank의 'World Development Indicators'자료를 사용한다.**\n",
    "https://datacatalog.worldbank.org/dataset/world-development-indicators\n",
    "\n",
    "위 자료는 1960년부터 2017년까지 전 세계 국가들의 발전관련 지표들을 모아놓은 자료이다. 이 중 '농작물 생산 지표(Crop Production Index)'과 '곡물 수확량(Cereal Yield)'를 사용해 feature를 더하고자 한다. 이는 사망률이 영양실조와 관련이 있다고 생각하기 때문이다. 따라서 농작물을 얼마나 생산하고 수확하는지가 사망률과 어떤 관련이 있는지 비교해 볼 것이다. 이 지표를 선택한 다른 이유는 공란으로 채워져 있는 다른 다른 수많은 지표들에 비해, 거의 모든 국가들에 공통으로 자료가 존재해 유의미한 비교가 가능하기 때문이다.\n"
   ]
  },
  {
   "cell_type": "markdown",
   "metadata": {},
   "source": [
    "## Problem2. Regression Model\n",
    "## -Amzon stock price prediction."
   ]
  },
  {
   "cell_type": "markdown",
   "metadata": {},
   "source": [
    "### Problem 2-1\n",
    "- In this problem you will predict stock price only with price related data. People usually call it as Technical analysis.\n",
    "- Find best combination of parameters to predict next day price.\n",
    "- __Your MSE loss should be lower than 30.__"
   ]
  },
  {
   "cell_type": "code",
   "execution_count": 20,
   "metadata": {},
   "outputs": [],
   "source": [
    "# TODO : load data 'AMZN.csv'\n",
    "raw_data = pd.read_csv('AMZN.csv', index_col=0)"
   ]
  },
  {
   "cell_type": "code",
   "execution_count": 21,
   "metadata": {},
   "outputs": [
    {
     "data": {
      "text/html": [
       "<div>\n",
       "<style scoped>\n",
       "    .dataframe tbody tr th:only-of-type {\n",
       "        vertical-align: middle;\n",
       "    }\n",
       "\n",
       "    .dataframe tbody tr th {\n",
       "        vertical-align: top;\n",
       "    }\n",
       "\n",
       "    .dataframe thead th {\n",
       "        text-align: right;\n",
       "    }\n",
       "</style>\n",
       "<table border=\"1\" class=\"dataframe\">\n",
       "  <thead>\n",
       "    <tr style=\"text-align: right;\">\n",
       "      <th></th>\n",
       "      <th>Open</th>\n",
       "      <th>High</th>\n",
       "      <th>Low</th>\n",
       "      <th>Close</th>\n",
       "      <th>Adj Close</th>\n",
       "      <th>Volume</th>\n",
       "    </tr>\n",
       "    <tr>\n",
       "      <th>Date</th>\n",
       "      <th></th>\n",
       "      <th></th>\n",
       "      <th></th>\n",
       "      <th></th>\n",
       "      <th></th>\n",
       "      <th></th>\n",
       "    </tr>\n",
       "  </thead>\n",
       "  <tbody>\n",
       "    <tr>\n",
       "      <th>1997-05-15</th>\n",
       "      <td>2.437500</td>\n",
       "      <td>2.500000</td>\n",
       "      <td>1.927083</td>\n",
       "      <td>1.958333</td>\n",
       "      <td>1.958333</td>\n",
       "      <td>72156000</td>\n",
       "    </tr>\n",
       "    <tr>\n",
       "      <th>1997-05-16</th>\n",
       "      <td>1.968750</td>\n",
       "      <td>1.979167</td>\n",
       "      <td>1.708333</td>\n",
       "      <td>1.729167</td>\n",
       "      <td>1.729167</td>\n",
       "      <td>14700000</td>\n",
       "    </tr>\n",
       "    <tr>\n",
       "      <th>1997-05-19</th>\n",
       "      <td>1.760417</td>\n",
       "      <td>1.770833</td>\n",
       "      <td>1.625000</td>\n",
       "      <td>1.708333</td>\n",
       "      <td>1.708333</td>\n",
       "      <td>6106800</td>\n",
       "    </tr>\n",
       "    <tr>\n",
       "      <th>1997-05-20</th>\n",
       "      <td>1.729167</td>\n",
       "      <td>1.750000</td>\n",
       "      <td>1.635417</td>\n",
       "      <td>1.635417</td>\n",
       "      <td>1.635417</td>\n",
       "      <td>5467200</td>\n",
       "    </tr>\n",
       "    <tr>\n",
       "      <th>1997-05-21</th>\n",
       "      <td>1.635417</td>\n",
       "      <td>1.645833</td>\n",
       "      <td>1.375000</td>\n",
       "      <td>1.427083</td>\n",
       "      <td>1.427083</td>\n",
       "      <td>18853200</td>\n",
       "    </tr>\n",
       "  </tbody>\n",
       "</table>\n",
       "</div>"
      ],
      "text/plain": [
       "                Open      High       Low     Close  Adj Close    Volume\n",
       "Date                                                                   \n",
       "1997-05-15  2.437500  2.500000  1.927083  1.958333   1.958333  72156000\n",
       "1997-05-16  1.968750  1.979167  1.708333  1.729167   1.729167  14700000\n",
       "1997-05-19  1.760417  1.770833  1.625000  1.708333   1.708333   6106800\n",
       "1997-05-20  1.729167  1.750000  1.635417  1.635417   1.635417   5467200\n",
       "1997-05-21  1.635417  1.645833  1.375000  1.427083   1.427083  18853200"
      ]
     },
     "execution_count": 21,
     "metadata": {},
     "output_type": "execute_result"
    }
   ],
   "source": [
    "raw_data.head()"
   ]
  },
  {
   "cell_type": "markdown",
   "metadata": {},
   "source": [
    "<br/><br/>\n",
    "- We will use only __one kind of variable__ for __last 'lookback' days__ to predict next day close price.<br/>\n",
    "For example, if we set lookback days as 5, and use close price for our independent variable.<br/><br/>\n",
    "Close price of [1997-05-15, 1997-05-16, 1997-05-19, 1997-05-20, 1997-05-21] --> predict [1997-05-22] <br/><br/>"
   ]
  },
  {
   "cell_type": "code",
   "execution_count": null,
   "metadata": {
    "collapsed": true
   },
   "outputs": [],
   "source": [
    "\"\"\"\n",
    "TODO : make get_concated_data function.\n",
    "       this function create x and y data\n",
    "\n",
    "@Function\n",
    "get_concated_data\n",
    "\n",
    "@Inputs\n",
    "__\n",
    "raw_data : dataframe, full Amazon stock data.\n",
    "     \n",
    "\n",
    "@Returns\n",
    "___\n",
    "\n",
    "x_data \n",
    "    : <class 'numpy.ndarray'>\n",
    "    : crteated data should in shape of [len(raw_data)-lookback, lookback]\n",
    "    : x_data should be made based on 'col_name', parameters of the function, variable we will use\n",
    "    \n",
    "y_data \n",
    "    : <class 'numpy.ndarray'>\n",
    "    : crteated data should in shape of [len(raw_data)-lookback]\n",
    "    : y should be always made based on 'Close'.\n",
    "\"\"\""
   ]
  },
  {
   "cell_type": "code",
   "execution_count": 22,
   "metadata": {},
   "outputs": [],
   "source": [
    "# We will use only one kind of variable as a time series data\n",
    "def get_concated_data(raw_data, col_name, lookback):\n",
    "    x_datas = list()\n",
    "    y_datas = list()\n",
    "    # col_name : Variable to be used\n",
    "    col_data = raw_data[col_name].values\n",
    "    # aggregate target variable data for length of lookback days\n",
    "    \n",
    "    ##### Your Code Here ####\n",
    "    # Use 'stride_tricks'.\n",
    "    as_strided = np.lib.stride_tricks.as_strided\n",
    "    x_data = as_strided(col_data, (len(col_data) - lookback, lookback), col_data.strides*2)\n",
    "    y_datas = col_data[lookback:]\n",
    "   ##########################    \n",
    "#    x_data = np.concatenate(x_datas,0)\n",
    "    y_data = np.asarray(y_datas)\n",
    "\n",
    "    return x_data, y_data\n"
   ]
  },
  {
   "cell_type": "code",
   "execution_count": 18,
   "metadata": {
    "collapsed": true
   },
   "outputs": [],
   "source": [
    "\"\"\"\n",
    "TODO : make split_data function which split train / test (8/2 rate)\n",
    "\n",
    "@Function\n",
    "split_data\n",
    "\n",
    "@Inputs\n",
    "__\n",
    "data : numpy array\n",
    "     \n",
    "@Returns\n",
    "___\n",
    "x_train, x_test, y_train, y_test\n",
    "    :<class 'numpy.ndarray'>\n",
    "\n",
    "\"\"\""
   ]
  },
  {
   "cell_type": "code",
   "execution_count": 23,
   "metadata": {},
   "outputs": [],
   "source": [
    "from sklearn.model_selection import train_test_split\n",
    "\n",
    "def split_data(x,y):\n",
    "    ##### Your Code Here ####\n",
    "    x_train, x_test, y_train, y_test = train_test_split(x, y, test_size=0.2, shuffle=False)\n",
    "    ###########################\n",
    "    return x_train, x_test, y_train, y_test"
   ]
  },
  {
   "cell_type": "code",
   "execution_count": 24,
   "metadata": {},
   "outputs": [
    {
     "data": {
      "text/plain": [
       "(array([[1.958333, 1.729167, 1.708333, 1.635417, 1.427083],\n",
       "        [1.729167, 1.708333, 1.635417, 1.427083, 1.395833],\n",
       "        [1.708333, 1.635417, 1.427083, 1.395833, 1.5     ],\n",
       "        [1.635417, 1.427083, 1.395833, 1.5     , 1.583333],\n",
       "        [1.427083, 1.395833, 1.5     , 1.583333, 1.53125 ],\n",
       "        [1.395833, 1.5     , 1.583333, 1.53125 , 1.505208],\n",
       "        [1.5     , 1.583333, 1.53125 , 1.505208, 1.5     ],\n",
       "        [1.583333, 1.53125 , 1.505208, 1.5     , 1.510417],\n",
       "        [1.53125 , 1.505208, 1.5     , 1.510417, 1.479167],\n",
       "        [1.505208, 1.5     , 1.510417, 1.479167, 1.416667]]),\n",
       " array([1.395833, 1.5     , 1.583333, 1.53125 , 1.505208, 1.5     ,\n",
       "        1.510417, 1.479167, 1.416667, 1.541667]))"
      ]
     },
     "execution_count": 24,
     "metadata": {},
     "output_type": "execute_result"
    }
   ],
   "source": [
    "x, y = get_concated_data(raw_data, 'Close', 5)\n",
    "x[:10], y[:10]"
   ]
  },
  {
   "cell_type": "code",
   "execution_count": 25,
   "metadata": {},
   "outputs": [
    {
     "data": {
      "text/plain": [
       "((4226, 5), (4226,), (1057, 5), (1057,))"
      ]
     },
     "execution_count": 25,
     "metadata": {},
     "output_type": "execute_result"
    }
   ],
   "source": [
    "x_train, x_test, y_train, y_test = split_data(x, y)\n",
    "x_train.shape, y_train.shape, x_test.shape, y_test.shape"
   ]
  },
  {
   "cell_type": "markdown",
   "metadata": {},
   "source": [
    "### <br/>Problem 2-2 Find best parameter combination \n",
    "- You can choose which __columns to use__ as variable for __how many days__, and in which __polynomial space.__\n",
    "- Find the best combination of parameters to predict next day price.\n",
    "- __Find combination which makes MSE loss for train data lower than 6.__"
   ]
  },
  {
   "cell_type": "code",
   "execution_count": null,
   "metadata": {
    "collapsed": true
   },
   "outputs": [],
   "source": [
    "# TODO : complete run_regression function\n",
    "# Hint : use api i gave below"
   ]
  },
  {
   "cell_type": "code",
   "execution_count": 26,
   "metadata": {},
   "outputs": [],
   "source": [
    "from sklearn.preprocessing import PolynomialFeatures\n",
    "from sklearn import linear_model\n",
    "\n",
    "def run_regression(raw_data, column_name, lookback_days, poly_degree):\n",
    "    # performing regression analysis with specified parameters\n",
    "    x, y = get_concated_data(raw_data, column_name, lookback_days)\n",
    "    x_train, x_test, y_train, y_test = split_data(x, y)\n",
    "\n",
    "    ##### Your Code Here ####\n",
    "    # PolynomialFeatures (prepreprocessing)\n",
    "    poly = PolynomialFeatures(degree=poly_degree, interaction_only=False)\n",
    "    x_train_ = poly.fit_transform(x_train)\n",
    "    x_test_ = poly.fit_transform(x_test)\n",
    "    \n",
    "    # fit linear model to training set, and predict test set\n",
    "    model = linear_model.LinearRegression()\n",
    "    model.fit(x_train_, y_train)\n",
    "    test_pred = model.predict(x_test_)\n",
    "    ########################\n",
    "    print (\"MSE - Train %.4f\"%mean_squared_error(model.predict(x_train_), y_train))\n",
    "    print (\"MSE - Test %.4f\"%mean_squared_error(model.predict(x_test_), y_test))\n",
    "    print(\"Test Set Accuracy: %.4f\"%model.score(x_test_, y_test))\n",
    "    return test_pred, y_test"
   ]
  },
  {
   "cell_type": "code",
   "execution_count": 27,
   "metadata": {},
   "outputs": [
    {
     "name": "stdout",
     "output_type": "stream",
     "text": [
      "MSE - Train 5.6887\n",
      "MSE - Test 2490.1394\n",
      "Test Set Accuracy: 0.9789\n"
     ]
    }
   ],
   "source": [
    "# TODO : run experiment with various combination\n",
    "test_pred, y_test = run_regression(raw_data, column_name='Adj Close', lookback_days=30, poly_degree=2)"
   ]
  },
  {
   "cell_type": "markdown",
   "metadata": {},
   "source": [
    "Write Combination that you've found. (Train loss lower than 6) <br/><br/>\n",
    "Variable :   'Adj Close'    <br/>\n",
    "Lookback :   30    <br/>\n",
    "Poly_degree :   2    <br/>"
   ]
  },
  {
   "cell_type": "markdown",
   "metadata": {},
   "source": [
    "### Problem 2-3 Overfitting & Underfitting\n",
    "1. Briefly explain about the concept of overfitting and underftting with proper example that you can find from experiment above.\n",
    "2. In the above problem desciption, I set your goal as fiding best parameters for total data loss. What is wrong with it? "
   ]
  },
  {
   "cell_type": "markdown",
   "metadata": {},
   "source": [
    "### YOUR ANSWER HERE ###"
   ]
  },
  {
   "cell_type": "markdown",
   "metadata": {},
   "source": [
    "#### 1\n",
    "- **Overfitting: 학습 모델이 training set에만 지나치게 적합한 현상으로, training set에 대해서는 좋은 성능을 보여주지만 test set에 대해서는 좋은 성능을 나타내지 못하는 것이다. 과도한 polynomial features의 사용 등으로 인해 발생한다.** \n",
    "\n",
    "  실제로 위의 run_regression 함수에서 poly_degree를 높이면, train의 MSE는 0에 가까워지지만 test의 MSE는 기하급수적으로 커진다는 것을 알 수 있다. 그 예로 lookback_days을 10으로, poly_degree는 5로 설정했을 때, training set의 MSE는 0.32지만 test set의 MSE는 991270938795427라는 값을 보이는 것을 확인할 수 있었다.\n",
    "\n",
    "- **Underfitting: 모델이 너무 단순해서 training set과 test set 모두에 대해 좋은 성능을 보이지 못하는 현상이다. 이는 polynomial features의 사용과 정규화 값(lamda)를 줄이는 방법 등으로 해결될 수 있다.**\n",
    "\n",
    "  실제로 run_regression 함수에서 poly_degree를 0으로 설정하면, training set과 training set의 MSE가 모두 높은 것을 확인할 수 있었다.\n",
    "\n",
    "#### 2\n",
    "- train data의 MSE loss를 0에 가까이 줄일 수 있지만, 이는 overfitting으로 이어진다. 이는 기존의 traning data는 매우 잘 예측하지만, 새로운 정보는 제대로 예측하지 못하는 문제가 발생한다. 따라서 train data와 test data의 MSE loss를 균형있게 조정하는 것이 필요하다. "
   ]
  },
  {
   "cell_type": "markdown",
   "metadata": {},
   "source": [
    "### Problem 2-4 Visualization\n",
    "- Visualize your predicton.\n",
    "- You can use code below with proper variable.\n",
    "- __Your best model's prediction --> best_pred.__"
   ]
  },
  {
   "cell_type": "code",
   "execution_count": 28,
   "metadata": {},
   "outputs": [
    {
     "name": "stdout",
     "output_type": "stream",
     "text": [
      "MSE - Train 8.6340\n",
      "MSE - Test 178.9263\n",
      "Test Set Accuracy: 0.9985\n"
     ]
    }
   ],
   "source": [
    "# TODO : Assign your best prediction for test data to best_pred\n",
    " \n",
    "best_pred, y_test = run_regression(raw_data, column_name='Adj Close', lookback_days=5, poly_degree=1)"
   ]
  },
  {
   "cell_type": "code",
   "execution_count": 29,
   "metadata": {
    "scrolled": true
   },
   "outputs": [
    {
     "data": {
      "image/png": "[encoded data removed]",
      "text/plain": [
       "<matplotlib.figure.Figure at 0x1dbea7f3f28>"
      ]
     },
     "metadata": {},
     "output_type": "display_data"
    }
   ],
   "source": [
    "from matplotlib import pyplot as plt\n",
    "\n",
    "plt.figure(figsize=(20,10))\n",
    "plt.plot(best_pred, label='prediction')\n",
    "plt.plot(y_test, label='target')\n",
    "plt.legend(loc='best', fontsize=20)\n",
    "plt.show()"
   ]
  },
  {
   "cell_type": "markdown",
   "metadata": {},
   "source": [
    "## Problem3. Classification Model : Sentiment Analysis (NLP)\n",
    "- Use amazon_cells_labelled.tsv data to solve your problem3"
   ]
  },
  {
   "cell_type": "code",
   "execution_count": 30,
   "metadata": {},
   "outputs": [],
   "source": [
    "import pandas as pd\n",
    "import numpy as np\n",
    "import matplotlib.pyplot as plt\n",
    "%matplotlib inline"
   ]
  },
  {
   "cell_type": "markdown",
   "metadata": {},
   "source": [
    "### Problem 3-1 Load Data\n",
    "- Load amazon_cells_labelled.tsv and make pandas dataframe."
   ]
  },
  {
   "cell_type": "code",
   "execution_count": 31,
   "metadata": {},
   "outputs": [
    {
     "data": {
      "text/html": [
       "<div>\n",
       "<style scoped>\n",
       "    .dataframe tbody tr th:only-of-type {\n",
       "        vertical-align: middle;\n",
       "    }\n",
       "\n",
       "    .dataframe tbody tr th {\n",
       "        vertical-align: top;\n",
       "    }\n",
       "\n",
       "    .dataframe thead th {\n",
       "        text-align: right;\n",
       "    }\n",
       "</style>\n",
       "<table border=\"1\" class=\"dataframe\">\n",
       "  <thead>\n",
       "    <tr style=\"text-align: right;\">\n",
       "      <th></th>\n",
       "      <th>Review</th>\n",
       "      <th>Sentiment</th>\n",
       "    </tr>\n",
       "  </thead>\n",
       "  <tbody>\n",
       "    <tr>\n",
       "      <th>0</th>\n",
       "      <td>So there is no way for me to plug it in here i...</td>\n",
       "      <td>0</td>\n",
       "    </tr>\n",
       "    <tr>\n",
       "      <th>1</th>\n",
       "      <td>Good case, Excellent value.</td>\n",
       "      <td>1</td>\n",
       "    </tr>\n",
       "    <tr>\n",
       "      <th>2</th>\n",
       "      <td>Great for the jawbone.</td>\n",
       "      <td>1</td>\n",
       "    </tr>\n",
       "    <tr>\n",
       "      <th>3</th>\n",
       "      <td>Tied to charger for conversations lasting more...</td>\n",
       "      <td>0</td>\n",
       "    </tr>\n",
       "    <tr>\n",
       "      <th>4</th>\n",
       "      <td>The mic is great.</td>\n",
       "      <td>1</td>\n",
       "    </tr>\n",
       "  </tbody>\n",
       "</table>\n",
       "</div>"
      ],
      "text/plain": [
       "                                              Review  Sentiment\n",
       "0  So there is no way for me to plug it in here i...          0\n",
       "1                        Good case, Excellent value.          1\n",
       "2                             Great for the jawbone.          1\n",
       "3  Tied to charger for conversations lasting more...          0\n",
       "4                                  The mic is great.          1"
      ]
     },
     "execution_count": 31,
     "metadata": {},
     "output_type": "execute_result"
    }
   ],
   "source": [
    "amazon_review = pd.read_csv('amazon_cells_labelled.tsv', sep='\\t', index_col=False)\n",
    "amazon_review.head()"
   ]
  },
  {
   "cell_type": "markdown",
   "metadata": {},
   "source": [
    "### Problem 3-2 BOW (Bag Of Word)\n",
    "- Finish your make_review_bow function.\n",
    "- Make BOW using make_review_bow function.\n",
    "- Make BOW_df using BOW you made.\n",
    "    \n",
    "*hint: Refer to Tutorial code below*"
   ]
  },
  {
   "cell_type": "code",
   "execution_count": 32,
   "metadata": {},
   "outputs": [],
   "source": [
    "from sklearn.feature_extraction.text import CountVectorizer"
   ]
  },
  {
   "cell_type": "code",
   "execution_count": 33,
   "metadata": {},
   "outputs": [
    {
     "name": "stdout",
     "output_type": "stream",
     "text": [
      "# Original text is \n",
      " This is the first sentence.\n",
      "Creating BOW step by step.\n",
      "This is the last sentence.\n",
      "# Word Vector\n",
      "   (0, 3)\t1\n",
      "  (0, 4)\t1\n",
      "  (0, 6)\t1\n",
      "  (0, 8)\t1\n",
      "  (0, 9)\t1\n",
      "  (1, 0)\t1\n",
      "  (1, 1)\t1\n",
      "  (1, 2)\t1\n",
      "  (1, 7)\t2\n",
      "  (2, 4)\t1\n",
      "  (2, 5)\t1\n",
      "  (2, 6)\t1\n",
      "  (2, 8)\t1\n",
      "  (2, 9)\t1\n"
     ]
    },
    {
     "data": {
      "text/html": [
       "<div>\n",
       "<style scoped>\n",
       "    .dataframe tbody tr th:only-of-type {\n",
       "        vertical-align: middle;\n",
       "    }\n",
       "\n",
       "    .dataframe tbody tr th {\n",
       "        vertical-align: top;\n",
       "    }\n",
       "\n",
       "    .dataframe thead th {\n",
       "        text-align: right;\n",
       "    }\n",
       "</style>\n",
       "<table border=\"1\" class=\"dataframe\">\n",
       "  <thead>\n",
       "    <tr style=\"text-align: right;\">\n",
       "      <th></th>\n",
       "      <th>bow</th>\n",
       "      <th>by</th>\n",
       "      <th>creating</th>\n",
       "      <th>first</th>\n",
       "      <th>is</th>\n",
       "      <th>last</th>\n",
       "      <th>sentence</th>\n",
       "      <th>step</th>\n",
       "      <th>the</th>\n",
       "      <th>this</th>\n",
       "    </tr>\n",
       "  </thead>\n",
       "  <tbody>\n",
       "    <tr>\n",
       "      <th>0</th>\n",
       "      <td>0</td>\n",
       "      <td>0</td>\n",
       "      <td>0</td>\n",
       "      <td>1</td>\n",
       "      <td>1</td>\n",
       "      <td>0</td>\n",
       "      <td>1</td>\n",
       "      <td>0</td>\n",
       "      <td>1</td>\n",
       "      <td>1</td>\n",
       "    </tr>\n",
       "    <tr>\n",
       "      <th>1</th>\n",
       "      <td>1</td>\n",
       "      <td>1</td>\n",
       "      <td>1</td>\n",
       "      <td>0</td>\n",
       "      <td>0</td>\n",
       "      <td>0</td>\n",
       "      <td>0</td>\n",
       "      <td>2</td>\n",
       "      <td>0</td>\n",
       "      <td>0</td>\n",
       "    </tr>\n",
       "    <tr>\n",
       "      <th>2</th>\n",
       "      <td>0</td>\n",
       "      <td>0</td>\n",
       "      <td>0</td>\n",
       "      <td>0</td>\n",
       "      <td>1</td>\n",
       "      <td>1</td>\n",
       "      <td>1</td>\n",
       "      <td>0</td>\n",
       "      <td>1</td>\n",
       "      <td>1</td>\n",
       "    </tr>\n",
       "  </tbody>\n",
       "</table>\n",
       "</div>"
      ],
      "text/plain": [
       "   bow  by  creating  first  is  last  sentence  step  the  this\n",
       "0    0   0         0      1   1     0         1     0    1     1\n",
       "1    1   1         1      0   0     0         0     2    0     0\n",
       "2    0   0         0      0   1     1         1     0    1     1"
      ]
     },
     "execution_count": 33,
     "metadata": {},
     "output_type": "execute_result"
    }
   ],
   "source": [
    "#BOW Tutorial\n",
    "\n",
    "example_doc = [\n",
    "    'This is the first sentence.',\n",
    "    'Creating BOW step by step.',\n",
    "    'This is the last sentence.'\n",
    "]\n",
    "\n",
    "print ('# Original text is \\n', '\\n'.join(example_doc))\n",
    "\n",
    "vectorizer = CountVectorizer(min_df=0)\n",
    "\n",
    "vectorizer.fit(example_doc)\n",
    "x = vectorizer.transform(example_doc)\n",
    "print ('# Word Vector\\n', x)\n",
    "\n",
    "bow = x.toarray()\n",
    "\n",
    "bow_df = pd.DataFrame(bow, columns=vectorizer.get_feature_names())\n",
    "bow_df"
   ]
  },
  {
   "cell_type": "code",
   "execution_count": 34,
   "metadata": {},
   "outputs": [],
   "source": [
    "\"\"\"\n",
    "@Function\n",
    "make_review_bow\n",
    "\n",
    "@Inputs\n",
    "__\n",
    "data : data frame\n",
    "    Amajon review data frame\n",
    "\n",
    "@Returns\n",
    "___\n",
    "vectorizer \n",
    "    :<class 'sklearn.feature_extraction.text.CountVectorizer'> \n",
    "    \n",
    "bow \n",
    "    : <class 'scipy.sparse.csr.csr_matrix'>\n",
    "\"\"\"\n",
    "\n",
    "def make_review_bow(data):    \n",
    "    vectorizer = CountVectorizer(min_df=0)\n",
    "    \n",
    "    ###YOUR CODE HERE###\n",
    "    # make a corpus from Amazon reviews\n",
    "    reviews = list()\n",
    "    for i in range(len(data)):\n",
    "        reviews.append(data['Review'][i])\n",
    "\n",
    "    bow = vectorizer.fit(reviews).transform(reviews)\n",
    "    return vectorizer, bow"
   ]
  },
  {
   "cell_type": "code",
   "execution_count": 35,
   "metadata": {},
   "outputs": [
    {
     "data": {
      "text/html": [
       "<div>\n",
       "<style scoped>\n",
       "    .dataframe tbody tr th:only-of-type {\n",
       "        vertical-align: middle;\n",
       "    }\n",
       "\n",
       "    .dataframe tbody tr th {\n",
       "        vertical-align: top;\n",
       "    }\n",
       "\n",
       "    .dataframe thead th {\n",
       "        text-align: right;\n",
       "    }\n",
       "</style>\n",
       "<table border=\"1\" class=\"dataframe\">\n",
       "  <thead>\n",
       "    <tr style=\"text-align: right;\">\n",
       "      <th></th>\n",
       "      <th>10</th>\n",
       "      <th>100</th>\n",
       "      <th>11</th>\n",
       "      <th>12</th>\n",
       "      <th>13</th>\n",
       "      <th>15</th>\n",
       "      <th>15g</th>\n",
       "      <th>18</th>\n",
       "      <th>20</th>\n",
       "      <th>2000</th>\n",
       "      <th>...</th>\n",
       "      <th>wrongly</th>\n",
       "      <th>year</th>\n",
       "      <th>years</th>\n",
       "      <th>yell</th>\n",
       "      <th>yes</th>\n",
       "      <th>yet</th>\n",
       "      <th>you</th>\n",
       "      <th>your</th>\n",
       "      <th>z500a</th>\n",
       "      <th>zero</th>\n",
       "    </tr>\n",
       "  </thead>\n",
       "  <tbody>\n",
       "    <tr>\n",
       "      <th>0</th>\n",
       "      <td>0</td>\n",
       "      <td>0</td>\n",
       "      <td>0</td>\n",
       "      <td>0</td>\n",
       "      <td>0</td>\n",
       "      <td>0</td>\n",
       "      <td>0</td>\n",
       "      <td>0</td>\n",
       "      <td>0</td>\n",
       "      <td>0</td>\n",
       "      <td>...</td>\n",
       "      <td>0</td>\n",
       "      <td>0</td>\n",
       "      <td>0</td>\n",
       "      <td>0</td>\n",
       "      <td>0</td>\n",
       "      <td>0</td>\n",
       "      <td>0</td>\n",
       "      <td>0</td>\n",
       "      <td>0</td>\n",
       "      <td>0</td>\n",
       "    </tr>\n",
       "    <tr>\n",
       "      <th>1</th>\n",
       "      <td>0</td>\n",
       "      <td>0</td>\n",
       "      <td>0</td>\n",
       "      <td>0</td>\n",
       "      <td>0</td>\n",
       "      <td>0</td>\n",
       "      <td>0</td>\n",
       "      <td>0</td>\n",
       "      <td>0</td>\n",
       "      <td>0</td>\n",
       "      <td>...</td>\n",
       "      <td>0</td>\n",
       "      <td>0</td>\n",
       "      <td>0</td>\n",
       "      <td>0</td>\n",
       "      <td>0</td>\n",
       "      <td>0</td>\n",
       "      <td>0</td>\n",
       "      <td>0</td>\n",
       "      <td>0</td>\n",
       "      <td>0</td>\n",
       "    </tr>\n",
       "    <tr>\n",
       "      <th>2</th>\n",
       "      <td>0</td>\n",
       "      <td>0</td>\n",
       "      <td>0</td>\n",
       "      <td>0</td>\n",
       "      <td>0</td>\n",
       "      <td>0</td>\n",
       "      <td>0</td>\n",
       "      <td>0</td>\n",
       "      <td>0</td>\n",
       "      <td>0</td>\n",
       "      <td>...</td>\n",
       "      <td>0</td>\n",
       "      <td>0</td>\n",
       "      <td>0</td>\n",
       "      <td>0</td>\n",
       "      <td>0</td>\n",
       "      <td>0</td>\n",
       "      <td>0</td>\n",
       "      <td>0</td>\n",
       "      <td>0</td>\n",
       "      <td>0</td>\n",
       "    </tr>\n",
       "    <tr>\n",
       "      <th>3</th>\n",
       "      <td>0</td>\n",
       "      <td>0</td>\n",
       "      <td>0</td>\n",
       "      <td>0</td>\n",
       "      <td>0</td>\n",
       "      <td>0</td>\n",
       "      <td>0</td>\n",
       "      <td>0</td>\n",
       "      <td>0</td>\n",
       "      <td>0</td>\n",
       "      <td>...</td>\n",
       "      <td>0</td>\n",
       "      <td>0</td>\n",
       "      <td>0</td>\n",
       "      <td>0</td>\n",
       "      <td>0</td>\n",
       "      <td>0</td>\n",
       "      <td>0</td>\n",
       "      <td>0</td>\n",
       "      <td>0</td>\n",
       "      <td>0</td>\n",
       "    </tr>\n",
       "    <tr>\n",
       "      <th>4</th>\n",
       "      <td>0</td>\n",
       "      <td>0</td>\n",
       "      <td>0</td>\n",
       "      <td>0</td>\n",
       "      <td>0</td>\n",
       "      <td>0</td>\n",
       "      <td>0</td>\n",
       "      <td>0</td>\n",
       "      <td>0</td>\n",
       "      <td>0</td>\n",
       "      <td>...</td>\n",
       "      <td>0</td>\n",
       "      <td>0</td>\n",
       "      <td>0</td>\n",
       "      <td>0</td>\n",
       "      <td>0</td>\n",
       "      <td>0</td>\n",
       "      <td>0</td>\n",
       "      <td>0</td>\n",
       "      <td>0</td>\n",
       "      <td>0</td>\n",
       "    </tr>\n",
       "  </tbody>\n",
       "</table>\n",
       "<p>5 rows × 1847 columns</p>\n",
       "</div>"
      ],
      "text/plain": [
       "   10  100  11  12  13  15  15g  18  20  2000  ...   wrongly  year  years  \\\n",
       "0   0    0   0   0   0   0    0   0   0     0  ...         0     0      0   \n",
       "1   0    0   0   0   0   0    0   0   0     0  ...         0     0      0   \n",
       "2   0    0   0   0   0   0    0   0   0     0  ...         0     0      0   \n",
       "3   0    0   0   0   0   0    0   0   0     0  ...         0     0      0   \n",
       "4   0    0   0   0   0   0    0   0   0     0  ...         0     0      0   \n",
       "\n",
       "   yell  yes  yet  you  your  z500a  zero  \n",
       "0     0    0    0    0     0      0     0  \n",
       "1     0    0    0    0     0      0     0  \n",
       "2     0    0    0    0     0      0     0  \n",
       "3     0    0    0    0     0      0     0  \n",
       "4     0    0    0    0     0      0     0  \n",
       "\n",
       "[5 rows x 1847 columns]"
      ]
     },
     "execution_count": 35,
     "metadata": {},
     "output_type": "execute_result"
    }
   ],
   "source": [
    "vectorizer, bow = make_review_bow(amazon_review)\n",
    "bow = bow.toarray()\n",
    "\n",
    "bow_df = pd.DataFrame(bow, columns=vectorizer.get_feature_names())\n",
    "bow_df.head()\n",
    "#print(len(vectorizer.get_feature_names()))->we can know that we're working with 1847 features."
   ]
  },
  {
   "cell_type": "markdown",
   "metadata": {},
   "source": [
    "### Problem 3-3 Split Data : Train / Test\n",
    "- Split your data (1000 reviews) __Train: 800 / Test: 200__ randomly. \n",
    "    - X: bow_df of Review / Y: Sentiment[(int type) 1:pos, 0:neg] \n",
    "    - __Make sure your X data match to Y data in random shuffling.__\n",
    "\n",
    "*hint: Implementing it yourself can be a good experience, but using scikit-learn would make it easy to solve this problem.*"
   ]
  },
  {
   "cell_type": "code",
   "execution_count": 36,
   "metadata": {},
   "outputs": [
    {
     "data": {
      "text/plain": [
       "((800, 1847), (200, 1847), (800,), (200,))"
      ]
     },
     "execution_count": 36,
     "metadata": {},
     "output_type": "execute_result"
    }
   ],
   "source": [
    "###YOUR CODE HERE###\n",
    "from sklearn.model_selection import train_test_split\n",
    "X = bow_df \n",
    "y = amazon_review['Sentiment']\n",
    "X_train, X_test, y_train, y_test = train_test_split(X, y, test_size=0.2, random_state=42)\n",
    "X_train.shape, X_test.shape, y_train.shape, y_test.shape"
   ]
  },
  {
   "cell_type": "markdown",
   "metadata": {},
   "source": [
    "### Problem 3-4 Model by SGDClassifier\n",
    "- Use SGDClassifer to make you classficiation model.\n",
    "- Train your model using train data and report test score using test data.\n",
    "\n",
    "*hint: Refer to http://scikit-learn.org/stable/modules/generated/sklearn.linear_model.SGDClassifier.html*"
   ]
  },
  {
   "cell_type": "code",
   "execution_count": 37,
   "metadata": {},
   "outputs": [],
   "source": [
    "from sklearn.linear_model import SGDClassifier"
   ]
  },
  {
   "cell_type": "code",
   "execution_count": 38,
   "metadata": {},
   "outputs": [],
   "source": [
    "###YOUR CODE HERE###\n",
    "# set the Classifier's loss function to logistic regression\n",
    "sgd = SGDClassifier(loss='log', penalty='l2', max_iter=1000)\n",
    "sgd.fit(X_train, y_train)\n",
    "sgd_pred = sgd.predict(X_test)"
   ]
  },
  {
   "cell_type": "code",
   "execution_count": 39,
   "metadata": {},
   "outputs": [
    {
     "name": "stdout",
     "output_type": "stream",
     "text": [
      "Model Accuracy: 0.855000\n"
     ]
    }
   ],
   "source": [
    "#from sklearn.metrics import accuracy_score\n",
    "#sgdScore = accuracy_score(y_test, sgd_pred, normalize=True)\n",
    "sgdScore = sgd.score(X_test, y_test)\n",
    "print (\"Model Accuracy: %f\" % sgdScore)"
   ]
  },
  {
   "cell_type": "markdown",
   "metadata": {},
   "source": [
    "### Problem 3-5 Model by Multinomial Naive Bayes\n",
    "- Use MultinomialNB to make you classficiation model.\n",
    "- Train your model using train data and report test score using test data.\n",
    "\n",
    "*hint: Refer to http://scikit-learn.org/stable/modules/generated/sklearn.naive_bayes.MultinomialNB.html *"
   ]
  },
  {
   "cell_type": "code",
   "execution_count": 40,
   "metadata": {},
   "outputs": [],
   "source": [
    "from sklearn.naive_bayes import MultinomialNB"
   ]
  },
  {
   "cell_type": "code",
   "execution_count": 41,
   "metadata": {},
   "outputs": [],
   "source": [
    "###YOUR CODE HERE###\n",
    "nb = MultinomialNB()\n",
    "nb.fit(X_train, y_train)\n",
    "nb_pred = nb.predict(X_test)"
   ]
  },
  {
   "cell_type": "code",
   "execution_count": 42,
   "metadata": {},
   "outputs": [
    {
     "name": "stdout",
     "output_type": "stream",
     "text": [
      "Model Accuracy: 0.845000\n"
     ]
    }
   ],
   "source": [
    "nbScore = nb.score(X_test, y_test)\n",
    "print (\"Model Accuracy: %f\" % nbScore)"
   ]
  },
  {
   "cell_type": "markdown",
   "metadata": {},
   "source": [
    "### Problem 3-6 Select the Best Model with 4 fold Cross Validation\n",
    "- Split your data (1000 reviews) __Train: 600 / Validation: 200 / Test: 200__ randomly. \n",
    "    - X: bow_df of Review / Y: Sentiment[(int type) 1:pos, 0:neg] \n",
    "    - __Make sure your X data match to Y data in random shuffling.__\n",
    "- Choose model you want to use(SGD or NB or both) and give us reason why you choose it.\n",
    "- Train your model with different parameters using train data and check your model performance by cross validataion score.\n",
    "- Choose your best model using cross validataion sets and report your test score."
   ]
  },
  {
   "cell_type": "code",
   "execution_count": 43,
   "metadata": {},
   "outputs": [
    {
     "name": "stdout",
     "output_type": "stream",
     "text": [
      "======== SGD Classifier Result ========\n",
      "Test set score: 0.85\n",
      "Best Parameter: {'alpha': 0.0001}\n",
      "Best CV score: 0.80\n",
      "Best Estimator among SGD:\n",
      "SGDClassifier(alpha=0.0001, average=False, class_weight=None, epsilon=0.1,\n",
      "       eta0=0.0, fit_intercept=True, l1_ratio=0.15,\n",
      "       learning_rate='optimal', loss='log', max_iter=1000, n_iter=None,\n",
      "       n_jobs=1, penalty='l2', power_t=0.5, random_state=None,\n",
      "       shuffle=True, tol=None, verbose=0, warm_start=False)\n",
      "             precision    recall  f1-score   support\n",
      "\n",
      "          0       0.83      0.86      0.85        93\n",
      "          1       0.88      0.85      0.86       107\n",
      "\n",
      "avg / total       0.86      0.85      0.86       200\n",
      "\n"
     ]
    }
   ],
   "source": [
    "from sklearn.model_selection import GridSearchCV\n",
    "from sklearn.pipeline import make_pipeline\n",
    "from sklearn.metrics import classification_report\n",
    "\n",
    "# Split Data\n",
    "X_trainval, X_test, y_trainval, y_test = train_test_split(X, y, test_size=0.2, random_state=42)\n",
    "\n",
    "###YOUR CODE HERE###\n",
    "sgd2 = SGDClassifier(loss='log', penalty='l2', max_iter=1000)\n",
    "param_grid = {'alpha': [0.0001, 0.0003, 0.001, 0.003]}\n",
    "\n",
    "# Select Best parameter using GridSearchCV and 4-fold Cross Validation\n",
    "grid_search = GridSearchCV(sgd2, param_grid, cv=4)\n",
    "grid_search.fit(X_trainval, y_trainval)\n",
    "\n",
    "print('======== SGD Classifier Result ========')\n",
    "print('Test set score: {:.2f}'.format(grid_search.score(X_test, y_test)))\n",
    "print('Best Parameter: {}'.format(grid_search.best_params_))\n",
    "print('Best CV score: {:.2f}'.format(grid_search.best_score_))\n",
    "print('Best Estimator among SGD:\\n{}'.format(grid_search.best_estimator_))\n",
    "print(classification_report(y_test, grid_search.predict(X_test)))"
   ]
  },
  {
   "cell_type": "code",
   "execution_count": 44,
   "metadata": {},
   "outputs": [
    {
     "name": "stdout",
     "output_type": "stream",
     "text": [
      "====== Multinomial Naive Bayes Result ======\n",
      "Test set score: 0.84\n",
      "Best Parameter: {'alpha': 3}\n",
      "Best CV score: 0.79\n",
      "Best Estimator among NB:\n",
      "MultinomialNB(alpha=3, class_prior=None, fit_prior=True)\n",
      "             precision    recall  f1-score   support\n",
      "\n",
      "          0       0.84      0.82      0.83        93\n",
      "          1       0.85      0.87      0.86       107\n",
      "\n",
      "avg / total       0.84      0.84      0.84       200\n",
      "\n"
     ]
    }
   ],
   "source": [
    "###YOUR CODE HERE###\n",
    "nb = MultinomialNB()\n",
    "param_grid2 = {'alpha': [0.0001, 0.0003, 0.001, 0.003, 0.01, 0.03, 0.1, 0.3, 1, 3]}\n",
    "\n",
    "# Select Best parameter using GridSearchCV and 4-fold Cross Validation\n",
    "grid_search2 = GridSearchCV(nb, param_grid2, cv=4)\n",
    "grid_search2.fit(X_trainval, y_trainval)\n",
    "\n",
    "print('====== Multinomial Naive Bayes Result ======')\n",
    "print('Test set score: {:.2f}'.format(grid_search2.score(X_test, y_test)))\n",
    "print('Best Parameter: {}'.format(grid_search2.best_params_))\n",
    "print('Best CV score: {:.2f}'.format(grid_search2.best_score_))\n",
    "print('Best Estimator among NB:\\n{}'.format(grid_search2.best_estimator_))\n",
    "print(classification_report(y_test, grid_search2.predict(X_test)))"
   ]
  },
  {
   "cell_type": "markdown",
   "metadata": {
    "collapsed": true
   },
   "source": [
    "### YOUR ANSWER HERE [reason why you choose that model] ###"
   ]
  },
  {
   "cell_type": "markdown",
   "metadata": {
    "collapsed": true
   },
   "source": [
    "SGDClassifier와 MultinomialNB의 성능을 비교하기 위해, scikit-learn의 GridSearchCV를 사용해 매개변수를 조정해가며 두 분류기를 학습시키고 평가했다. 먼저, train_test_split을 사용해 훈련 세트 80%와 테스트 세트 20%를 나눴다. 그 후 param_grid로 두 분류기의 alpha 매개변수를 대상으로 가능한 많은 조합을 시도했다. 이후 GridSearchCV를 사용해 훈련 세트에서 '4-겹 계층별 교차 검증'을 실시하고, fit 메서드를 통해 교차 검증 성능이 가장 좋은 최적의 매개변수를 찾았다. 이후, 이 최적의 매개변수를 X_test와 y_test에 적용해 일반화 성능을 평가하였다.\n",
    "\n",
    "**그 결과, SGD Classifer(alpha=0.0001)를 선택했다.** 두 분류기의 테스트 세트 정확도, 최적의 매개변수, 최고의 교차검증 정확도, 최적의 분류기, 각종 평가 점수들을 위에 표시했다. 그 결과, SGD는 alpha=0.0001에서 최적의 성능을 보였고, MultinomialNB은 alpha=3에서 최적의 성능을 보였다. 이 때 SGD와 MultinomialNB의 수치는 비슷하게 나오지만, SGD가 Test set score, Best CV score, precision, recall, f1-score 모든 수치에서 조금 우위를 보인다. 따라서 이러한 이유로 SGD Classifier를 선택했다. **그러나 SGD의 GridSearchCV는 연산시간이 오래 걸리지만, MultinomailNB보다 확연히 높은 성능을 보이지는 않는다. 그래서 data가 더욱 커진다면, MultinomialNB를 선택할 것이다.**"
   ]
  },
  {
   "cell_type": "markdown",
   "metadata": {},
   "source": [
    "## Problem4. Clustering Model\n",
    "- In this problem, you will cluster news article documents after converting them to TF-IDF vectors.\n",
    "- All results may be different from the example results depending on your choice."
   ]
  },
  {
   "cell_type": "code",
   "execution_count": 45,
   "metadata": {},
   "outputs": [],
   "source": [
    "import pandas as pd\n",
    "import numpy as np\n",
    "from sklearn.datasets import fetch_20newsgroups\n",
    "from sklearn.feature_extraction.text import TfidfVectorizer\n",
    "from sklearn.cluster import KMeans\n",
    "from sklearn.metrics.pairwise import cosine_similarity\n",
    "import matplotlib.pyplot as plt\n",
    "from sklearn.manifold import MDS\n",
    "from scipy.sparse.csr import csr_matrix"
   ]
  },
  {
   "cell_type": "markdown",
   "metadata": {},
   "source": [
    "### Problem 4-1 Pick 3 Categories you want and download"
   ]
  },
  {
   "cell_type": "code",
   "execution_count": 46,
   "metadata": {},
   "outputs": [],
   "source": [
    "\"\"\"\n",
    "\n",
    "['alt.atheism',\n",
    " 'comp.graphics',\n",
    " 'comp.os.ms-windows.misc',\n",
    " 'comp.sys.ibm.pc.hardware',\n",
    " 'comp.sys.mac.hardware',\n",
    " 'comp.windows.x',\n",
    " 'misc.forsale',\n",
    " 'rec.autos',\n",
    " 'rec.motorcycles',\n",
    " 'rec.sport.baseball',\n",
    " 'rec.sport.hockey',\n",
    " 'sci.crypt',\n",
    " 'sci.electronics',\n",
    " 'sci.med',\n",
    " 'sci.space',\n",
    " 'soc.religion.christian',\n",
    " 'talk.politics.guns',\n",
    " 'talk.politics.mideast',\n",
    " 'talk.politics.misc',\n",
    " 'talk.religion.misc']\n",
    " \n",
    "\"\"\"\n",
    "categories = ['talk.politics.guns', 'talk.politics.mideast', 'sci.med']"
   ]
  },
  {
   "cell_type": "code",
   "execution_count": 47,
   "metadata": {},
   "outputs": [
    {
     "name": "stdout",
     "output_type": "stream",
     "text": [
      "the 20 newsgroups by date dataset\n",
      "1136 documents\n",
      "3 categories\n"
     ]
    }
   ],
   "source": [
    "dataset = fetch_20newsgroups(subset='test', categories=categories,\n",
    "                             shuffle=True, random_state=45)\n",
    "print(\"%s\" % dataset.description)\n",
    "print(\"%d documents\" % len(dataset.data))\n",
    "print(\"%d categories\" % len(dataset.target_names))"
   ]
  },
  {
   "cell_type": "markdown",
   "metadata": {},
   "source": [
    "### Problem 4-2 Convert the documents to a tf-idf matrix \n",
    "- refer to http://mlwiki.org/index.php/TF-IDF\n",
    "- You can use sklearn.\n",
    "- Set your own hyperparams."
   ]
  },
  {
   "cell_type": "code",
   "execution_count": 48,
   "metadata": {},
   "outputs": [
    {
     "name": "stdout",
     "output_type": "stream",
     "text": [
      "Extracting features from the training dataset using a sparse vectorizer\n"
     ]
    },
    {
     "data": {
      "text/plain": [
       "<1136x157622 sparse matrix of type '<class 'numpy.float64'>'\n",
       "\twith 586872 stored elements in Compressed Sparse Row format>"
      ]
     },
     "execution_count": 48,
     "metadata": {},
     "output_type": "execute_result"
    }
   ],
   "source": [
    "print(\"Extracting features from the training dataset using a sparse vectorizer\")\n",
    "tfidf_vectorizer = TfidfVectorizer(analyzer='word', ngram_range=(1,6),\n",
    "                                   stop_words='english', min_df = 2, sublinear_tf=True)\n",
    "tfidf_matrix = tfidf_vectorizer.fit_transform(dataset.data)\n",
    "tfidf_matrix"
   ]
  },
  {
   "cell_type": "markdown",
   "metadata": {},
   "source": [
    "### Problem 4-3 Cluster the documents using K-means\n",
    "- You can use sklearn\n",
    "- Set your own hyperparams"
   ]
  },
  {
   "cell_type": "code",
   "execution_count": 49,
   "metadata": {},
   "outputs": [
    {
     "name": "stdout",
     "output_type": "stream",
     "text": [
      "[2, 1, 2, 2, 2, 2, 2, 1, 1, 2]\n"
     ]
    }
   ],
   "source": [
    "num_clusters = 3\n",
    "km = KMeans(n_clusters=num_clusters, init='k-means++', max_iter=300, n_init=1)\n",
    "km.fit(tfidf_matrix)\n",
    "\n",
    "clusters = km.labels_.tolist()\n",
    "print(clusters[:10])"
   ]
  },
  {
   "cell_type": "markdown",
   "metadata": {},
   "source": [
    "### Problem 4-4 Visualize document clusters\n",
    "- You can use sklearn\n",
    "- It may take a long time to compile"
   ]
  },
  {
   "cell_type": "code",
   "execution_count": 53,
   "metadata": {},
   "outputs": [],
   "source": [
    "#USE THIS -DO NOT CHANGE-\n",
    "dist = 1 - cosine_similarity(tfidf_matrix)\n",
    "MDS()\n",
    "mds = MDS(n_components=2, dissimilarity=\"precomputed\", random_state=1)\n",
    "pos = mds.fit_transform(dist)\n",
    "xs, ys = pos[:, 0], pos[:, 1]\n",
    "\n",
    "cluster_colors = {0: '#1b9e77', 1: '#d95f02', 2: '#7570b3'}\n",
    "cluster_names = categories"
   ]
  },
  {
   "cell_type": "code",
   "execution_count": 54,
   "metadata": {},
   "outputs": [
    {
     "data": {
      "image/png": "[encoded data removed]",
      "text/plain": [
       "<matplotlib.figure.Figure at 0x1dbf8caae48>"
      ]
     },
     "metadata": {},
     "output_type": "display_data"
    }
   ],
   "source": [
    "def visualize_clusters(xs, ys, clusters, cluster_names, cluster_colors):\n",
    "    %matplotlib inline \n",
    "    df = pd.DataFrame(dict(x=xs, y=ys, label=clusters))\n",
    "    # group by cluster\n",
    "    groups = df.groupby('label')\n",
    "    fig, ax = plt.subplots(figsize=(17, 9)) # set size\n",
    "    ax.margins(0.05) \n",
    "    # iterate through groups to layer the plot\n",
    "    # Use 'cluster_name' and 'cluster_color' dicts with the 'name' lookup to return the right color/label\n",
    "    for name, group in groups:\n",
    "        ax.plot(group.x, group.y, marker='o', linestyle='', ms=12, \n",
    "                label= cluster_names[name], \n",
    "                color= cluster_colors[name], \n",
    "                mec='none')\n",
    "        ax.set_aspect('auto')\n",
    "        ax.tick_params(\\\n",
    "            axis= 'x',          \n",
    "            which='both',      \n",
    "            bottom='off',      \n",
    "            top='off',         \n",
    "            labelbottom='off')\n",
    "        ax.tick_params(\\\n",
    "            axis= 'y',         \n",
    "            which='both',     \n",
    "            left='off',     \n",
    "            top='off',      \n",
    "            labelleft='off')\n",
    "    ax.legend(numpoints=1) \n",
    "    plt.show() \n",
    "\n",
    "visualize_clusters(xs, ys, clusters, cluster_names, cluster_colors)"
   ]
  },
  {
   "cell_type": "code",
   "execution_count": null,
   "metadata": {},
   "outputs": [],
   "source": []
  }
 ],
 "metadata": {
  "anaconda-cloud": {},
  "kernelspec": {
   "display_name": "Python 3",
   "language": "python",
   "name": "python3"
  },
  "language_info": {
   "codemirror_mode": {
    "name": "ipython",
    "version": 3
   },
   "file_extension": ".py",
   "mimetype": "text/x-python",
   "name": "python",
   "nbconvert_exporter": "python",
   "pygments_lexer": "ipython3",
   "version": "3.6.4"
  }
 },
 "nbformat": 4,
 "nbformat_minor": 1
}
